{
  "nbformat": 4,
  "nbformat_minor": 0,
  "metadata": {
    "colab": {
      "provenance": []
    },
    "kernelspec": {
      "name": "python3",
      "display_name": "Python 3"
    },
    "language_info": {
      "name": "python"
    }
  },
  "cells": [
    {
      "cell_type": "markdown",
      "source": [
        "# **Review of class**"
      ],
      "metadata": {
        "id": "GbmTZoxES8uy"
      }
    },
    {
      "cell_type": "code",
      "execution_count": null,
      "metadata": {
        "colab": {
          "base_uri": "https://localhost:8080/"
        },
        "id": "HBO4yzqFSwfa",
        "outputId": "3ed68d1b-79f1-4aa3-fc27-b57b6d67ba77"
      },
      "outputs": [
        {
          "output_type": "stream",
          "name": "stdout",
          "text": [
            "Person(name=John, age=25)\n"
          ]
        }
      ],
      "source": [
        "class Person:\n",
        "\n",
        "    def __init__(self, name, age):\n",
        "        self.name, self.age = name, age\n",
        "        self.height = 0\n",
        "\n",
        "    def __repr__(self):\n",
        "        return f\"Person(name={self.name}, age={self.age})\"\n",
        "\n",
        "john = Person(\"John\", 25)\n",
        "print(john)"
      ]
    },
    {
      "cell_type": "markdown",
      "source": [
        "## **Instance attributes**"
      ],
      "metadata": {
        "id": "5PpUGT-E0keC"
      }
    },
    {
      "cell_type": "code",
      "source": [
        "john.height, john.name, john.age"
      ],
      "metadata": {
        "colab": {
          "base_uri": "https://localhost:8080/"
        },
        "id": "KAc6AgsZ0WNz",
        "outputId": "d84157c6-7ef3-476f-e210-a552793a9b93"
      },
      "execution_count": null,
      "outputs": [
        {
          "output_type": "execute_result",
          "data": {
            "text/plain": [
              "(0, 'John', 25)"
            ]
          },
          "metadata": {},
          "execution_count": 3
        }
      ]
    },
    {
      "cell_type": "markdown",
      "source": [
        "## **Class attributes**\n",
        "\n",
        "Store data that should remain the same for all instances of the same class."
      ],
      "metadata": {
        "id": "YqHZyVM900nd"
      }
    },
    {
      "cell_type": "code",
      "source": [
        "class Person:\n",
        "\n",
        "    RESIDENCE = 'Earth'\n",
        "\n",
        "    def __init__(self, name, age):\n",
        "        self.name, self.age = name, age\n",
        "        self.height = 0\n",
        "\n",
        "    def __repr__(self):\n",
        "        return f\"Person(name={self.name}, age={self.age})\"\n",
        "\n",
        "print(Person.RESIDENCE)"
      ],
      "metadata": {
        "colab": {
          "base_uri": "https://localhost:8080/"
        },
        "id": "Ff0-aEmd0p-J",
        "outputId": "da144a8a-8704-40c3-ad47-57673609c102"
      },
      "execution_count": null,
      "outputs": [
        {
          "output_type": "stream",
          "name": "stdout",
          "text": [
            "Earth\n"
          ]
        }
      ]
    },
    {
      "cell_type": "markdown",
      "source": [
        "## **Instance methods**"
      ],
      "metadata": {
        "id": "A5djXrNh1R5m"
      }
    },
    {
      "cell_type": "code",
      "source": [
        "class Person:\n",
        "\n",
        "    RESIDENCE = 'Earth'\n",
        "\n",
        "    def __init__(self, name, age):\n",
        "        self.name, self.age = name, age\n",
        "        self.height = 0\n",
        "\n",
        "    def __repr__(self):\n",
        "        return f\"Person(name={self.name}, age={self.age})\"\n",
        "\n",
        "    def introduce(self):\n",
        "        print(f\"Hi, my name is {self.name}.\")\n",
        "\n",
        "j = Person(\"John\", 25)\n",
        "j.introduce()"
      ],
      "metadata": {
        "colab": {
          "base_uri": "https://localhost:8080/"
        },
        "id": "604Z3opy1Emf",
        "outputId": "4453875d-f906-4b3e-8ca8-0a3c43b3ce58"
      },
      "execution_count": null,
      "outputs": [
        {
          "output_type": "stream",
          "name": "stdout",
          "text": [
            "Hi, my name is John.\n"
          ]
        }
      ]
    },
    {
      "cell_type": "markdown",
      "source": [
        "## **Class methods**\n",
        "\n",
        "Class methods cannot access instance methods or attributes, but can be called without creating an object."
      ],
      "metadata": {
        "id": "76LaZEE514rD"
      }
    },
    {
      "cell_type": "code",
      "source": [
        "class Person:\n",
        "\n",
        "    RESIDENCE = 'Earth'\n",
        "\n",
        "    def __init__(self, name, age):\n",
        "        self.name, self.age = name, age\n",
        "        self.height = 0\n",
        "\n",
        "    def __repr__(self):\n",
        "        return f\"Person(name={self.name}, age={self.age})\"\n",
        "\n",
        "    @classmethod\n",
        "    def wake_up(cls):\n",
        "        print(\"Wake up!\")\n",
        "\n",
        "    def introduce(self):\n",
        "        print(f\"Hi, my name is {self.name}.\")\n",
        "\n",
        "Person.wake_up()"
      ],
      "metadata": {
        "colab": {
          "base_uri": "https://localhost:8080/"
        },
        "id": "wWnMrv5n1iAk",
        "outputId": "d21c9f30-9894-4225-ac05-540534cbf598"
      },
      "execution_count": null,
      "outputs": [
        {
          "output_type": "stream",
          "name": "stdout",
          "text": [
            "Wake up!\n"
          ]
        }
      ]
    },
    {
      "cell_type": "markdown",
      "source": [
        "## **Inheritance**"
      ],
      "metadata": {
        "id": "ZS_Jx_Db3_PX"
      }
    },
    {
      "cell_type": "code",
      "source": [
        "class Employee(Person):\n",
        "\n",
        "    def __init__(self, name, age, title):\n",
        "        Person.__init__(self, name, age)\n",
        "        self.title = title\n",
        "\n",
        "    def __repr__(self):\n",
        "        return f\"Employee(name={self.name}, age={self.age}, title={self.title})\"\n",
        "\n",
        "    def introduce(self):  # Additional functionality / Overriding\n",
        "        Person.introduce(self)\n",
        "        print(f\"I am a {self.title}.\")\n",
        "\n",
        "    def change_position(self, new_title):\n",
        "        self.title = new_title\n",
        "\n",
        "e = Employee(\"John\", 25, \"Manager\")\n",
        "print(e, \"\\n\")\n",
        "e.introduce()"
      ],
      "metadata": {
        "colab": {
          "base_uri": "https://localhost:8080/"
        },
        "id": "bcZn-a2C3zfv",
        "outputId": "2756146a-449d-46b0-ecf1-27a1bfa98fe7"
      },
      "execution_count": null,
      "outputs": [
        {
          "output_type": "stream",
          "name": "stdout",
          "text": [
            "Employee(name=John, age=25, title=Manager) \n",
            "\n",
            "Hi, my name is John.\n",
            "I am a Manager.\n"
          ]
        }
      ]
    },
    {
      "cell_type": "code",
      "source": [
        "e.change_position('janitor')\n",
        "print(e)"
      ],
      "metadata": {
        "colab": {
          "base_uri": "https://localhost:8080/"
        },
        "id": "XLTxuj8s4pIl",
        "outputId": "1819234e-281a-4a91-e5f1-d15134616fc4"
      },
      "execution_count": null,
      "outputs": [
        {
          "output_type": "stream",
          "name": "stdout",
          "text": [
            "Employee(name=John, age=25, title=janitor)\n"
          ]
        }
      ]
    },
    {
      "cell_type": "markdown",
      "source": [
        "## **`super()`**\n",
        "\n",
        "Above use the **`__init__()`** to initialize attributes of the parent class"
      ],
      "metadata": {
        "id": "bQwHervz5eXC"
      }
    },
    {
      "cell_type": "code",
      "source": [
        "class Employee(Person):\n",
        "\n",
        "    def __init__(self, name, age, title):\n",
        "        Person.__init__(self, name, age)\n",
        "        self.title = title"
      ],
      "metadata": {
        "id": "4A2Ygndm5Wwu"
      },
      "execution_count": null,
      "outputs": []
    },
    {
      "cell_type": "markdown",
      "source": [
        "**`super()`** can be used to do the same."
      ],
      "metadata": {
        "id": "gIxYbI4l6h_r"
      }
    },
    {
      "cell_type": "code",
      "source": [
        "class Employee(Person):\n",
        "\n",
        "    def __init__(self, name, age, title):\n",
        "        # super() instead of class name\n",
        "        super().__init__(name, age) # <=== no \"self\" here\n",
        "        self.title = title"
      ],
      "metadata": {
        "id": "m28tJ3RS6xoi"
      },
      "execution_count": null,
      "outputs": []
    },
    {
      "cell_type": "markdown",
      "source": [
        "## **Overloading**"
      ],
      "metadata": {
        "id": "tU5EfuNX7Pos"
      }
    },
    {
      "cell_type": "code",
      "source": [
        "class Person:\n",
        "\n",
        "    def __init__(self, name, age):\n",
        "        self.name, self.age = name, age\n",
        "\n",
        "    def __eq__(self, other):\n",
        "        return all[(self.name == other.name, self.age == other.age)]"
      ],
      "metadata": {
        "id": "WFBMGVKa7R2J"
      },
      "execution_count": null,
      "outputs": []
    },
    {
      "cell_type": "markdown",
      "source": [
        "### **Creating and using classes**\n",
        "\n",
        "To help recall the fundamentals of object-oriented programming, you'll create a `Computer` class from start-to-finish.\n",
        "\n",
        "#### **Instructions 1/4**\n",
        "\n",
        "- Create an **`__init__()`** method for the `Computer` class that takes a single parameter, called `storage`."
      ],
      "metadata": {
        "id": "fZJ2mzUJ70xg"
      }
    },
    {
      "cell_type": "code",
      "source": [
        "class Computer:\n",
        "  # Create an __init__() method with the storage parameter\n",
        "    def __init__(self, storage):\n",
        "        self.storage = storage\n"
      ],
      "metadata": {
        "id": "vtzqX4JN7xPf"
      },
      "execution_count": null,
      "outputs": []
    },
    {
      "cell_type": "markdown",
      "source": [
        "**Instructions 2/4**\n",
        "\n",
        "* Within the `add_external_drive()` method, increment `self.storage` by the value of `external_storage`, and output the new value of `self.storage` using a `print` statement."
      ],
      "metadata": {
        "id": "J7ttUKcO8OGD"
      }
    },
    {
      "cell_type": "code",
      "source": [
        "class Computer:\n",
        "    def __init__(self, storage):\n",
        "        self.storage = storage\n",
        "\n",
        "  # Allow for external_storage to be added to self.storage\n",
        "    def add_external_drive(self, external_storage):\n",
        "        self.storage += external_storage\n",
        "        print(f\"Your computer now has {self.storage} GB of storage.\")"
      ],
      "metadata": {
        "id": "g2cFPZte8dNM"
      },
      "execution_count": null,
      "outputs": []
    },
    {
      "cell_type": "markdown",
      "source": [
        "**Instructions 3/4**\n",
        "\n",
        "- Define `power_on()` as a class method to output a message when the computer is turned on."
      ],
      "metadata": {
        "id": "f6yiBoyB8wQU"
      }
    },
    {
      "cell_type": "code",
      "source": [
        "class Computer:\n",
        "    def __init__(self, storage):\n",
        "        self.storage = storage\n",
        "\n",
        "    def add_external_drive(self, external_storage):\n",
        "        self.storage += external_storage\n",
        "        print(f\"Your computer now has {self.storage} GB of storage.\")\n",
        "\n",
        "    # Add a class method to turn on your computer\n",
        "    @classmethod\n",
        "    def power_on(cls):\n",
        "      print(\"Your computer is starting up!\")\n"
      ],
      "metadata": {
        "id": "fm5uoMsL86rS"
      },
      "execution_count": null,
      "outputs": []
    },
    {
      "cell_type": "markdown",
      "source": [
        "**Instructions 4/4**\n",
        "\n",
        "Define `my_computer` object and add an external drive with `256` GB of storage to `my_computer`."
      ],
      "metadata": {
        "id": "yvOFkNjz9Grp"
      }
    },
    {
      "cell_type": "code",
      "source": [
        "class Computer:\n",
        "    def __init__(self, storage):\n",
        "        self.storage = storage\n",
        "\n",
        "    def add_external_drive(self, external_storage):\n",
        "        self.storage += external_storage\n",
        "        print(f\"Your computer now has {self.storage} GB of storage.\")\n",
        "\n",
        "    @classmethod\n",
        "    def power_on(cls):\n",
        "        print(\"Your computer is starting up!\")\n",
        "\n",
        "my_computer = Computer(512)\n",
        "\n",
        "# Add an external drive of 256 GB\n",
        "my_computer.add_external_drive(256)"
      ],
      "metadata": {
        "colab": {
          "base_uri": "https://localhost:8080/"
        },
        "id": "8hyJiaTH9TZH",
        "outputId": "d4eb4cdb-df8d-4e4b-af2e-e321ac9ea421"
      },
      "execution_count": null,
      "outputs": [
        {
          "output_type": "stream",
          "name": "stdout",
          "text": [
            "Your computer now has 768 GB of storage.\n"
          ]
        }
      ]
    },
    {
      "cell_type": "markdown",
      "source": [
        " In this exercise, you created and used a class that implemented object-oriented programming techniques such as attributes, and static and non-static methods. Next up, inheritance!\n",
        "\n",
        " ### **Inheriting a Computer class**\n",
        "\n",
        "In this exercise, you'll practice inheritance by creating a class called `Tablet`. Below is the `Computer` class, which has been defined for you to use in the following steps.\n",
        "\n"
      ],
      "metadata": {
        "id": "O6hCfMqK9lKk"
      }
    },
    {
      "cell_type": "code",
      "source": [
        "class Computer:\n",
        "    def __init__(self, software_version):\n",
        "        self.software_version = software_version\n",
        "\n",
        "    def install_app(self, app_name, app_store):\n",
        "        if app_store:\n",
        "            print(f\"Installing {app_name} from App Store.\")\n",
        "        else:\n",
        "            print(f\"Installing {app_name} from other provider.\")\n",
        "\n",
        "    def update_software(self, new_software_version):\n",
        "        self.software_version = new_software_version"
      ],
      "metadata": {
        "id": "zRc47Nyt9h2O"
      },
      "execution_count": null,
      "outputs": []
    },
    {
      "cell_type": "markdown",
      "source": [
        "**Instructions 1/2**\n",
        "\n",
        "* Create an instance of the `Tablet` class called `my_tablet`, with a `software_version` of `1.1.1`.\n",
        "* Use the `update_software()` method to update the `my_tablet`'s software to version `1.1.2`, and print the new value of `self.software_version`."
      ],
      "metadata": {
        "id": "Aj1r6v7P_Dz-"
      }
    },
    {
      "cell_type": "code",
      "source": [
        "class Tablet(Computer):\n",
        "    pass\n",
        "\n",
        "# Create the my_tablet instance\n",
        "my_tablet = Tablet(\"1.1.1\")\n",
        "\n",
        "# Update my_tablet's software to version 1.1.2\n",
        "my_tablet.update_software(\"1.1.2\")\n",
        "print(my_tablet.software_version)"
      ],
      "metadata": {
        "colab": {
          "base_uri": "https://localhost:8080/"
        },
        "id": "dZJOiKPD-_yi",
        "outputId": "00a8a301-d91d-4a26-8c93-94b3b14ab899"
      },
      "execution_count": null,
      "outputs": [
        {
          "output_type": "stream",
          "name": "stdout",
          "text": [
            "1.1.2\n"
          ]
        }
      ]
    },
    {
      "cell_type": "markdown",
      "source": [
        "**Instructions 2/2**\n",
        "\n",
        "* Override the `install_app()` method from the `Computer` class to only take a single parameter `app_name`, and output a custom message.\n",
        "\n",
        "* Using the `my_tablet` instance of the `Tablet` class, call the new `install_app` method with an `app_name` of `DataCamp`."
      ],
      "metadata": {
        "id": "rJQwHwUd_NGf"
      }
    },
    {
      "cell_type": "code",
      "source": [
        "class Tablet(Computer):\n",
        "  # Override the install_app() method\n",
        "    def install_app(self, app_name):\n",
        "        print(f\"{app_name} is being installed from the Tablet App Store.\")\n",
        "\n",
        "my_tablet = Tablet(\"1.1.1\")\n",
        "\n",
        "# Call the new install_app() method\n",
        "my_tablet.install_app(\"DataCamp\")"
      ],
      "metadata": {
        "colab": {
          "base_uri": "https://localhost:8080/"
        },
        "id": "RSlCKAFB_JRn",
        "outputId": "cb0dda27-02e3-4453-f10a-46a4c843db45"
      },
      "execution_count": null,
      "outputs": [
        {
          "output_type": "stream",
          "name": "stdout",
          "text": [
            "DataCamp is being installed from the Tablet App Store.\n"
          ]
        }
      ]
    },
    {
      "cell_type": "markdown",
      "source": [
        "inheritance is on of Python's most powerful object-oriented tools, and makes it easy to share common functionality between classes.\n",
        "\n",
        "### **Overloading the `==` operator**\n",
        "\n",
        "Python's built-in operators are handy, especially when comparing instances of a class. When building classes, magic methods can be used to change the functionality of these operators. Here, you'll overload the `==` operator to determine if two instances of a `Computer` are equal.\n",
        "\n",
        "#### **Instructions**\n",
        "\n",
        "* Define a magic method to overload the `==` operator.\n",
        "* Compare the `device_id` attributes of `self` and `other` in the magic method to determine if the two instances are equal.\n",
        "\n",
        "* Check if `pre_upgrade_computer` and `post_upgrade_computer` are equal, and print the result."
      ],
      "metadata": {
        "id": "1kPVETwS_5Il"
      }
    },
    {
      "cell_type": "code",
      "source": [
        "class Computer:\n",
        "    def __init__(self, device_id, storage):\n",
        "        self.device_id = device_id\n",
        "        self.storage = storage\n",
        "\n",
        "    # Overload the == operator using a magic method\n",
        "    def __eq__(self, other):\n",
        "      # Return a boolean based on the value of device_id\n",
        "        return self.device_id == other.device_id\n",
        "\n",
        "pre_upgrade_computer = Computer(\"Y391Hky6\", 256)\n",
        "post_upgrade_computer = Computer(\"Y391Hky6\", 1024)\n",
        "\n",
        "# Create two instances of Computer, compare using ==\n",
        "print(pre_upgrade_computer == post_upgrade_computer)"
      ],
      "metadata": {
        "colab": {
          "base_uri": "https://localhost:8080/"
        },
        "id": "YLom4hEq_wTQ",
        "outputId": "71329021-0067-4017-e05e-81f659c8909c"
      },
      "execution_count": null,
      "outputs": [
        {
          "output_type": "stream",
          "name": "stdout",
          "text": [
            "True\n"
          ]
        }
      ]
    },
    {
      "cell_type": "markdown",
      "source": [
        "Changing the functionality of Python operators, such as ==, is a powerful tool. We'll come back to overloading later.\n",
        "\n",
        "# **Overloading**"
      ],
      "metadata": {
        "id": "kWt0BwW0FT_V"
      }
    },
    {
      "cell_type": "code",
      "source": [
        "class Team:\n",
        "\n",
        "    def __init__(self, members):\n",
        "        self.members = members\n",
        "\n",
        "    def __repr__(self):\n",
        "        return f\"Team({self.members})\"\n",
        "\n",
        "\n",
        "\n",
        "team1 = Team([\"John\", \"Bob\"])\n",
        "team2 = Team([\"Mike\", \"Jane\"])\n",
        "\n",
        "print(team1, team2)\n",
        "\n",
        "team1 + team2\n"
      ],
      "metadata": {
        "colab": {
          "base_uri": "https://localhost:8080/",
          "height": 201
        },
        "id": "O4ot5LaZHVRH",
        "outputId": "96969610-0b20-48c7-d27e-7d2ecc330028"
      },
      "execution_count": null,
      "outputs": [
        {
          "output_type": "stream",
          "name": "stdout",
          "text": [
            "Team(['John', 'Bob']) Team(['Mike', 'Jane'])\n"
          ]
        },
        {
          "output_type": "error",
          "ename": "TypeError",
          "evalue": "unsupported operand type(s) for +: 'Team' and 'Team'",
          "traceback": [
            "\u001b[0;31m---------------------------------------------------------------------------\u001b[0m",
            "\u001b[0;31mTypeError\u001b[0m                                 Traceback (most recent call last)",
            "\u001b[0;32m<ipython-input-27-e17fbc73f879>\u001b[0m in \u001b[0;36m<cell line: 16>\u001b[0;34m()\u001b[0m\n\u001b[1;32m     14\u001b[0m \u001b[0mprint\u001b[0m\u001b[0;34m(\u001b[0m\u001b[0mteam1\u001b[0m\u001b[0;34m,\u001b[0m \u001b[0mteam2\u001b[0m\u001b[0;34m)\u001b[0m\u001b[0;34m\u001b[0m\u001b[0;34m\u001b[0m\u001b[0m\n\u001b[1;32m     15\u001b[0m \u001b[0;34m\u001b[0m\u001b[0m\n\u001b[0;32m---> 16\u001b[0;31m \u001b[0mteam1\u001b[0m \u001b[0;34m+\u001b[0m \u001b[0mteam2\u001b[0m\u001b[0;34m\u001b[0m\u001b[0;34m\u001b[0m\u001b[0m\n\u001b[0m",
            "\u001b[0;31mTypeError\u001b[0m: unsupported operand type(s) for +: 'Team' and 'Team'"
          ]
        }
      ]
    },
    {
      "cell_type": "markdown",
      "source": [
        "## **Oveloading the plus operator**"
      ],
      "metadata": {
        "id": "gBmu9qMHIP-q"
      }
    },
    {
      "cell_type": "code",
      "source": [
        "class Team:\n",
        "\n",
        "    def __init__(self, members):\n",
        "        self.members = members\n",
        "\n",
        "    def __repr__(self):\n",
        "        return f\"Team({self.members})\"\n",
        "\n",
        "    def __add__(self, other):\n",
        "        return Team(self.members + other.members)\n",
        "\n",
        "team1 = Team([\"John\", \"Bob\"])\n",
        "team2 = Team([\"Mike\", \"Jane\"])\n",
        "\n",
        "print(team1, team2)\n",
        "\n",
        "team1 + team2"
      ],
      "metadata": {
        "colab": {
          "base_uri": "https://localhost:8080/"
        },
        "id": "YrRh8QxIH2vi",
        "outputId": "7004289a-3bff-42d5-d8c8-31ced51c68a3"
      },
      "execution_count": null,
      "outputs": [
        {
          "output_type": "stream",
          "name": "stdout",
          "text": [
            "Team(['John', 'Bob']) Team(['Mike', 'Jane'])\n"
          ]
        },
        {
          "output_type": "execute_result",
          "data": {
            "text/plain": [
              "Team(['John', 'Bob', 'Mike', 'Jane'])"
            ]
          },
          "metadata": {},
          "execution_count": 30
        }
      ]
    },
    {
      "cell_type": "markdown",
      "source": [
        "## **Overloading other operators**\n",
        "\n",
        "```\n",
        "Operator Magic Method Operator Type\n",
        "-         __sub__     Arithmetic\n",
        "!=        __ne__      Comparison\n",
        "<         __lt__      Comparison\n",
        ">         __gt__      Comparison\n",
        "+=        __iadd__    Assignment\n",
        "and       __and__     Logical\n",
        "in      __contains__  Membership\n",
        "is        __is__      Identity\n",
        "```\n",
        "\n",
        "and many more"
      ],
      "metadata": {
        "id": "GsGVVulUKcHI"
      }
    },
    {
      "cell_type": "markdown",
      "source": [
        "### **Overloading ==**\n",
        "\n",
        "Overloading allows for the functionality of built-in operators be customized using magic methods. In this example, you'll overload the `==` comparison operator for a `Computer` class, using the serial number for each device. Have at it!\n",
        "\n",
        "#### **Instructions**\n",
        "\n",
        "* Define a magic method to overload the `==` operator used to compare two objects.\n",
        "\n",
        "* Use the `serial_number` attribute to determine if two objects of the `Computer` class are equal.\n",
        "\n",
        "* Create two objects of type `Computer` with the same `serial_number` and validate that these objects are equal."
      ],
      "metadata": {
        "id": "BE3uSZtiK6tp"
      }
    },
    {
      "cell_type": "code",
      "source": [
        "class Computer:\n",
        "    def __init__(self, serial_number):\n",
        "        self.serial_number = serial_number\n",
        "\n",
        "    # Overload the == operator using a magic method\n",
        "    def __eq__(self, other):\n",
        "      # Define equality using serial_number\n",
        "        return self.serial_number == other.serial_number\n",
        "\n",
        "# Validate two Computers with the same serial_number are equal\n",
        "first_computer = Computer(\"81023762\")\n",
        "second_computer = Computer(\"81023762\")\n",
        "print(first_computer == second_computer)"
      ],
      "metadata": {
        "colab": {
          "base_uri": "https://localhost:8080/"
        },
        "id": "5RwLaclKIlCS",
        "outputId": "da73361a-3dbd-4ceb-869c-0fb3be5c1735"
      },
      "execution_count": null,
      "outputs": [
        {
          "output_type": "stream",
          "name": "stdout",
          "text": [
            "True\n"
          ]
        }
      ]
    },
    {
      "cell_type": "markdown",
      "source": [
        " By implementing your own version of the **`__eq__()`** method, you changed how `==` can be used to compare two Computer's.\n",
        "\n",
        " ### **Overloading +**\n",
        "\n",
        "Comparison operators aren't the only operators that can be overloaded. Classes in Python can implement custom functionality for arithmetic operators such as `+` and `-.` In this example, you'll practice overloading the `+` operator for a `Storage` class.\n",
        "\n",
        "#### **Instructions**\n",
        "\n",
        "- Define a magic method to overload the `+` operator for the `Storage` class.\n",
        "\n",
        "* Create a new `Storage` object called `total_storage` with a `capacity` that equals the combined `capacity` of both objects.\n",
        "\n",
        "- Add the `onboard_storage` and `external_drive` objects to create a `total_storage` object, and print the `capacity` of `total_storage`."
      ],
      "metadata": {
        "id": "OkDlrzOlLlkC"
      }
    },
    {
      "cell_type": "code",
      "source": [
        "class Storage:\n",
        "    def __init__(self, capacity):\n",
        "        self.capacity = capacity\n",
        "\n",
        "    def __add__(self, other):  # Overload the + operator\n",
        "      # Create a Storage object with the sum of capacity\n",
        "        return Storage(self.capacity + other.capacity)\n",
        "\n",
        "onboard_storage = Storage(128)\n",
        "external_drive = Storage(64)\n",
        "\n",
        "# Add the two Storage objects, show the total capacity\n",
        "total_storage = onboard_storage + external_drive\n",
        "print(total_storage.capacity)"
      ],
      "metadata": {
        "colab": {
          "base_uri": "https://localhost:8080/"
        },
        "id": "MCbfSFPZLi0m",
        "outputId": "62b1deef-2862-4a95-897e-e0ac4eec2de7"
      },
      "execution_count": null,
      "outputs": [
        {
          "output_type": "stream",
          "name": "stdout",
          "text": [
            "192\n"
          ]
        }
      ]
    },
    {
      "cell_type": "markdown",
      "source": [
        "Overloading arithmetic operators allows for you to implement custom functionality to your classes, like adding `Storage` units.\n",
        "\n",
        "### **reating a Network of Computers**\n",
        "\n",
        "Now, you'll overload the `+` operator to create a `Network` of devices when two `Computer`s are added. The following class has already been defined for you:\n",
        "\n"
      ],
      "metadata": {
        "id": "mwx2cyyCMz2K"
      }
    },
    {
      "cell_type": "code",
      "source": [
        "class Network:\n",
        "    def __init__(self, ip_address):\n",
        "        self.ip_address = ip_address\n",
        "\n",
        "    def __repr__(self):\n",
        "        return f\"Network(ip_address={self.ip_address})\""
      ],
      "metadata": {
        "id": "r-9KrhfbMuzq"
      },
      "execution_count": null,
      "outputs": []
    },
    {
      "cell_type": "markdown",
      "source": [
        "Here, `ip_addresses` is a list of IP addresses, each a string of numbers and dots.\n",
        "\n",
        "**Instructions**\n",
        "\n",
        "* Create a `Computer` class with a constructor that takes two parameters; `operating_system` and `ip_address`.\n",
        "\n",
        "* Define a magic method that overloads the `+` operator to create a `Network` of `Computer`s, if their operating systems are equal.\n",
        "* Update the code  to create a `Network` object using the `morgans_computer` and `jennys_computer` objects."
      ],
      "metadata": {
        "id": "58dbLXPwOoB_"
      }
    },
    {
      "cell_type": "code",
      "source": [
        "class Computer:\n",
        "\n",
        "    def __init__(self, operating_system, ip_address):\n",
        "        self.operating_system = operating_system\n",
        "        self.ip_address = ip_address\n",
        "\n",
        "    def __repr__(self):\n",
        "        return f\"Computer(operating_system={self.operating_system}, ip_address={self.ip_address})\"\n",
        "\n",
        "    def __add__(self, other):\n",
        "        if self.operating_system == other.operating_system:\n",
        "            return Network([self.ip_address, other.ip_address])\n",
        "        raise Exception(\"Incompatible operating systems.\")\n",
        "\n",
        "# Build a network using Morgan and Jenny's Computers\n",
        "morgans_computer = Computer(\"Windows\", \"182.112.81.991\")\n",
        "jennys_computer = Computer(\"Windows\", \"177.511.64.162\")\n",
        "network = morgans_computer + jennys_computer\n",
        "network"
      ],
      "metadata": {
        "colab": {
          "base_uri": "https://localhost:8080/"
        },
        "id": "Ngs_xjxzOlVq",
        "outputId": "8bdf3bd1-995e-44a2-d7e3-b8053442f038"
      },
      "execution_count": null,
      "outputs": [
        {
          "output_type": "execute_result",
          "data": {
            "text/plain": [
              "Network(ip_address=['182.112.81.991', '177.511.64.162'])"
            ]
          },
          "metadata": {},
          "execution_count": 51
        }
      ]
    },
    {
      "cell_type": "markdown",
      "source": [
        "With just a few lines of code, you customized + combined two `Computer` objects and create a `Network`.\n",
        "\n",
        "# **Multiple Inheritance**\n",
        "\n",
        "Allows for a class to inherit the functionality of more than a single class."
      ],
      "metadata": {
        "id": "1AmAARo7RmhX"
      }
    },
    {
      "cell_type": "code",
      "source": [
        "class Employee:\n",
        "\n",
        "    def __init__(self, department):\n",
        "        self.department = department\n",
        "\n",
        "    def __repr__(self):\n",
        "        return f\"Employee(department={self.department})\"\n",
        "\n",
        "    def begin_job(self):\n",
        "        print(f\"Welcome to {self.department}!\")\n",
        "\n",
        "\n",
        "class Student:\n",
        "\n",
        "    def __init__(self, school, courses=None):\n",
        "        self.school = school\n",
        "        if courses is None:\n",
        "            self.courses = []\n",
        "        else:\n",
        "            self.courses = [courses]\n",
        "\n",
        "    def __repr__(self):\n",
        "        return f\"Student(school={self.school}, courses={self.courses})\"\n",
        "\n",
        "    def add_course(self, course_name):\n",
        "        self.courses.append(course_name)\n",
        "\n",
        "s = Student('KU')\n",
        "s.add_course('Python')\n",
        "s.add_course('Julia')"
      ],
      "metadata": {
        "colab": {
          "base_uri": "https://localhost:8080/"
        },
        "id": "SDduxEMdQMbN",
        "outputId": "8d1b403c-549a-4878-ab8e-afbe7444f224"
      },
      "execution_count": null,
      "outputs": [
        {
          "output_type": "execute_result",
          "data": {
            "text/plain": [
              "Student(school=KU, courses=['Python', 'Julia'])"
            ]
          },
          "metadata": {},
          "execution_count": 5
        }
      ]
    },
    {
      "cell_type": "markdown",
      "source": [
        "Class `intern` inherits from both `Employee` and `Student`.\n",
        "\n",
        "![image.png](data:image/png;base64,iVBORw0KGgoAAAANSUhEUgAAARsAAADQCAYAAAA3dcXiAAAfi0lEQVR4nO3deVhU5fvH8ffAMDOACMgmCLgLmOaKSklapllqWWaapZWa6y/Lvmm5paVFpmlZapqWaS6ouK+54Z5mbqjkgrikgLhhKjAMzO8PZHJkGRA4I3C/rqvrYs55nvPczDl+5jkLjcpoNBoRQohiZmPtAoQQZYOEjRBCERI2QghFSNgIIRQhYSOEUISEjRBCERI2QghFSNgIIRQhYSOEUIS6oB3S09NZEbGcXbt2k2ZIK46aRCHZ29tTu3YQz7ZujZ+/n7XLKZDYs7Es/G0+l+PjrV2KyEVlf3/qPl6XNm2fw8Ym//MVVX7/XOHG9esM6D+AwydOo9cb0djZgOqh6xXFLMNoRGWEukE1mDZ9Gh4ebtYuKU9zf5nD1OkzSLyZip1GhQ0qOb4eUUaMYFThoLWlT88+9BvYK1/98hU2Fy9e5LWub3Hz5i058SqB3FxdWDDvF/wrP5qznJHDRrF01XpUKiRgSqBur77MqNEjLLbLV9i0e/4Vzlw8j41Khb+/H693eZUOHV7AzdW1SIoVRe/Onbvs3Lmb6TNnc+r0GR6rWZOlyxZau6xsFi8MZ9TYr7GxzUyZTi93pH2752jcsD5qOzsrVydyotfrSbiSyIJFi5nz63wApkwYT+u2rfLuaLRg5fLlxoDHGhgD6zQyvtL5DWNySqqlLuIRcufOXeOrXd40BtZpZDx18oy1y8mm44udjAF1GhoD6zQyrlq7wdrliAJatXqdMbBOI2Ovd/pYbGvxpGjD+s2o7p07hX3xGTqtpvDRKBTj4GDP/wYPAmDRwnArV2Pu9u3bnIiJRYWKNq1b0eGF56xdkiigDu2fp3HjhhyMOk56RkaebS2GTUpyCqjAz9eHWjWrF1mRQjlNGjWkfHknzsSctXYpZs7GnMXm3ln80y1DrVyNeFitnm5BckoKUUeO59nOYtjcTU4BwNunUtFUJhRno7alfr3H0aemWrsUM1cTr4Iq8xD08fa2cjXiYTVsUA+AW0lJebazGDYqVeaFO2fn8kVQlrAWrU5n7RJy8N+9CRcXFyvWIQpDp7PPVzu5kS2EUISEjRBCERI2QghFSNgIIRQhYSOEUISEjRBCERI2QghFSNgIIRQhYSOEUISEjRBCERI2QghFSNgIIRQhYSOEUISEjRBCERI2QghFSNgIIRQhYSOEUISEjRBCERI2QghFSNgIIRQhYSOEUISEjRBCEWqlBrp+I4kbN/P+XhkAv0oV0WiU+9bNiJXrWLF6Le/1602Txg0UG1dYT8LVa5yI/hsAtY0t1atXw6eip2LjT5k2iz8PHmLerKmKjfkoUCxsflu4hPCI5RbbzZ01nepV/RWoKNPNmzc4G3uOO8l3FRtTWMfpmHNMmjKNo8eyf3NjUEAthnw4iIAaVU3Lzpw9x5GoE3R66YUirSPhSiJnY88V6TYflGFI55f5i+jU8UVcnJ2Kdaz8Uixssgzo2xMf74q5rvfx9lKwGlFWpKamMuzTz4mLT6DPOz149eUO2Gu1nI+LZ++efcz4eS59Bg5mxeK5uN77QsbfN0eyd/+fRR42WfR6fbHN4uOvXuPnuQto+VRo2Q2bZsHB+Zq5JKekcjkuAb9KFbGzsyP24j8k3bjJY0EBph2UbjBw9Hg0aWkG6tapjb1Oa+p/8XI8AH4+FUlJ1XM06jh2dmqz/nlJNxi4fOUqZ2JiqOBSgSpV/HB2KgdkfmrEXrwEgK+PF1qt1qxv1vpyTo54ubsBYDQauX4ziVOnzmBra0utmtVxyeVbRvV6PTFnzxGfmEiN6tXx8XTHVq34ripVTvx9irj4BBo3rE+PN14zfdNrVb9KVO3yCs7O5Vm0ZDmHj0TR4olmxF68xJGoYySnJBMTewFXF2cquDpzM+lfrl2/gY+3l9nxlrXPs9pl0ev1RJ+M4e7dOzxepzaOjg6mdYb0DO4/Eu/f71WqVMHf28tsv2eN4VbBFRdnJ+4mp3Dk6DFsbW3Njv+Eq9fYtHkbALHnYgEUPVvIzSN7BP/x5wFGjvmSrz7/lKkzZnPx0iXTummTx3Pj5g1Gf/ENBkMaAN4VvZj67dd4ebgDMPzTsQB06fQyYRMnm/qq1XZM+GJ0ntdnjh6P5svxk83GBOjxehf69OqOjdqWOb8tZGvkDnr26Eavt94wa3co6hiDPhpuWpecksrYsIls37XHrN3TLUL59JMPzcJvw8YthE363vR7AXi6u/Pl2JEE1aqZr/dOZGdjk3kvxN3d3RQ092vX9lnatX0WyPx++x69+5vW9ejdny6dXmbQgN5sidzJpClTGTdmOE+HPmlqk5KWZtYO4OyFiwwdNpq4+IT/xnmuNQaDIdv4m7dFEjbhe1JSU0zLnBzLETZ2JA3q1TUbo1vnTqTo9SxbudrU1tPdnWlTJuLt5cGUH2YSuXMXAKPHfQ3A7i1rC/iOFb1H/m7UmC++pnOnjmxbv5wff5iMWm3HmC8mMGP2b8z4/hsiNyxn8MC+xMUnsHjpSrO+ly/HM+e3BcyePoWt65bx3YQvsNdqGTLiM1JTU3McT6/XM3zUWG7eTGLqpK/YuXEV61aE0+651sxdGM7aDZsBGP3Jh7g6O7N56w6MRqPZNiJ3ZIZK+3ZtAZj43TS279pDu+das2lNBOtXhPPaKy+xbftOJk350dTvwMHDjP16Eh7uFVj460w2rYngq7GfAtDvvSHcTU5BPJw6QQHotDo2/L6ZGbPm5rr/Aex1WjatiQCgsp8vm9ZE0K93DwAqVHDOtd+DJk+ZTlx8Al+OHs6OjSvZsjaCq9eus2vvH2btTp6JYfS4Cdip1fz4w2Q2rYlgQtgYXFyc+WDoKK7fML+xsnrdRq5du8aqpfPZtj7z+L9y9Srz5ocD8OmwD3np3rE3ddJXpt/F2hQPm3kLwpkybVaO/61Zvzlb+6dCn6DTSy+g0WioG1SLoFo1uHL1Km9370pgrerY2Wno0O45AP4+fcasb0pqCsM+ep/AWtXRarU0blifN7q+isGQxsYt23Osb9nKtdxISqJ/n57Ur1cXG7Utzk7l+PjD/0On1THnt4UAqO3seKFtGy788w8nT5819U83GNi0JZKmwY3wcnfj+o0kNvy+mZAmjRk25H0c7HWUdyrH+wP70KL5E6zftNUUIgsWLwNgyjdh+PtWwsFeR+gTTRky+P8wGNJYsWpd4XdAGWWrVhP2+Uh0Wh1zF4bzzAuv8MGQkXw/fTabtkSS9O8dU1uVSoWDvc7Uz8FeZ5p9Xr9u+Y4qZJ7KHDx0hLatn6HFU09iq1aj0+kI+3xEtrYRyzNnKBPGj6VuUC0c7HU80SSYUcM+wmBIY8ny1Wbt0wwGRg//CDdXFzQaDZ1e7oCrszP7Dx4EQKvVotPZA+BU3tn0u1ib4qdRx6Kjsb/3RuRHndpBZq9r1KhG1IloQpoGm5ZptVo83T24detWtv4N6tYxe924YT2YDXFxcTmOd/nelLdFaIjZclu1msYN67Nr7x+kGwzYqtV0eqUD88OXsHb97wTWypx27/5jP//euU3b1s8AcPLUaQAqenly9txFs226u7thMKRx/vwFggJrcerUGVxdXUhOTiUm9oKpnWsFFwBOn43N5V0S+dGkcQPWr1jIhs2RnDx1hpOnzrBoaWbAq9V2dOv8Mn17v5XnNm7evJGvsc6fy9x/lf18zZZrtVqCAgKIPnnStOzY8Wh0Wh0OOp3Zfre1y/zneeGC+XHTLLiR2XVClUqFawXXYr/DVViKh834sWMKdLHqwWmrxi7zE8apnKPZ8nJO5q+z2KhtzftrM1M+NTUtp+Zcu5Z5MOX0aeB876p+apoBB7UaL3c3Gjaox7qNm/lg4LvYqtXs3L0fJ8dytGrRHIDTZ2IAWL56HctX5zwziU9MpHq1KtxIyvzUvP96wf3u3pHb84Wl0Wh48YU28EIbIHMmuu/AIaZM+4m5Cxfj7VORF194rtDjJFxJBMDP3zfbOi9PD7OwOX/xHyD3/X45Lt68v5dyzwQVpUf2ArElOV3kKwibXPprtJlh9uCdAsB0nm9j81/f9m1bc/DQEbbv3kvzkKZs3b6Tl9o/b7qL4OrqCmReXH62Vcscx/Tx9jJN0729vRg/dkyetYmiY6tW80SzYCpXrsxrb77D9h17Hips9Hq92WudLnNf3b7v9CzLg9eLnBzLYe+gY2LY2By3XVr2e4kNm9TU1Gy3nLUabbZ2d5NTzGYpCQmZp0n2Djmfx3q4Zd6qjk9MpJq/n9m6+ITMTyvdfeM+2zKUyVN+ZNuOPRgM6aSkptDxxedN630reQOQYcywOKOr7OfL9es3qepXKduMTBTOoiXLuXDxEkMGD8zxg8rDLfNU9crVq3luJ7dLAKceuF7o6ZH5vNjlB07XjUYjf588ZbbM17cS0SdPUsXPp1CPOOi0j8a1mdw88nejcpOeYcy2zMvTI9uylavXm73etn03AE8//VSO232mRebtzKUP3Nk6d+ESx05E07bNs2bLbdVqXmzXlq2RO1i+ah2PBQXh71vJtP6xoABcnZ35ffM2klP++0QzGo188900pkybRYYhHYAWT4Xy753bbHvgFvmhI1EMHfE5h48ey7FmYdnps+dYuXY9P89dkO3uIcCceYsACAr47/ECnVbHjes3TPsHICgwc/2pkzGmZUajkcUR5sdLYK1qqNV27P3jAOn33eretWef6XQ5y7NPhwKwesPvZsujT51m6IjPOXQ4ymz5rX//zfF39PH572HZrJl71ofro0Dxmc2k76fjUj7nh9kAQpoG0/75Z3NdXxCuzs5ErFxNXEICVSv7cfpMLOt+30TTxo2yzVqyBAbU5MlmTVi5dj3Jqak0rFeXy3FxLF+5DifHcvR6q1u2Ph06PM/8xUs5euw4Qwa/Z7ZOo9EwaOC7fPblRPr83/9o80wLNFo7Dh85xo7dexk6eJBpFtOjW2c2bdnK52HfcCTqOFUr+3Hu/CU2btqCn58vdWsHFsn7Uha91683MWdj+XnuAjZv3UHokyFotXakp2dw4OARjkdH41epEgP69DL1adywHrv27uPTLyYQULM63bt1pt5jtXF1dmbBkmWkpRtwcnTk0NFjOJcvZzaeVqulc8cOLFy6jPeHjiK4YX1u/XubjZu3ElCzJidPnza1feWldqxav4kJk6cSE3OealX9uXQpng2btuBaoQK1g2qZbTs5H49A1KhWBYAfZv7CgYNH6Ne7h6J/c5gTxcKmWtUqtAxtnu/27u4etAxtjru7+Wwlazu2NuZT4eCGDSjvZP5YtmsFVyaGfcbsOb8xd/4SdDotr7/Wif69epjaVKnsm22c8eM+ZcGSZez54wATv5uGv28lngoNoW+vt3Cr4JqtVj+figQFBBB77jzPt3462/o2rZ6mYsWKhC9ezrKVa7l+8yZBtWow7KMPaP98a1M7e52W+T9PZ8bseRw9doKIFavx9vbimZah9O/7jjxFXAguzk7M/H4iq9duZM++A0SsWE1Kago6rY6a1avSt2cPunZ+2ewfZO93enD7bjIH/jqE9t7TuTZqW74ZP47JU6axZNkqalavRpPghrzVrTMGQwbVqlYx9R/YrycarYY9+/5k4eJlNAluwNhRn3ApLoG9+/40HcMajYY5P37LjNnzOH4immWr1uDt7UXzJ5rxzlvdTJcLbG1UtAxtTu1A8/CBzOP/fq1bteDo8RPs2LWXP/86RN9e3Yv8PS0wowVdO79pDKzTyPje4KGWmj5S3uw1wPhmrwGKjHXr9m3jU21eMoZN+E6R8R7Ge4OHGru+9qa1yzCzZdNmY+BjjYyBdRoZT546Y+1yxEM6eeqMMbBOI+P2bTvzbFdir9k8KvR6PeO/+R6Azp06WrkaIR5dMi8vhBFjwjhyNIobSUl8MfqTR+KP3YR4VJXasHnwHLY4eHl60LZ1K4Ib16dpcKNiH0+IkqzUhk3WX96W9DGEKC3kmo0QQhESNkIIRUjYCCEUIWEjhFCEhI0QQhESNkIIRUjYCCEUIWEjhFCEhI0QQhESNkIIRUjYCCEUIWEjhFCEhI0QQhESNkIIRUjYCCEUIWEjhFCEhI0QQhESNkIIRUjYCCEUIWEjhFCEhI0QQhESNkIIRVgMG3c3dwAMBkOxFyOKT2pKCm5ubtYuw0ydunVNPxvS5fgqqVJSkgEIrB2QZzuLYRMSEgLAX38dJMOQXgSlCWuIjY3F39/P2mWY8fTyxLeiDwD79x+wcjXiYZ2NPYeTowOenh55trMYNq+89iL2Wg23bv3L/r8OFlmBQjmnTsdw5UoiPXu/be1SsnkypAkAW7Ztt3Il4mFti9xJy+bNLbazGDY6nY5ePboD8M3kKdy9m1z46oRiUlL1DBsxmt5vdcfd/dE6jQIYNnIIXu5uHDhwkNVr1lu7HFFAq9dtJOpIFMNHfmyxre2YMWPGWGrUpGkwd5Nu8fvWSCK378TV2Rlvb280GrsiKVgUvWs3brB4yTI+/ewLngxuzIcfvW/tknKkVqt5MiSEHdt3smzlau7cvUNlf3/sdTpsbW2tXZ7IgSEtjf0HDvLjzF9YvWIVkyd/jb+/r8V+KqPRaMzvIIcPHWXGjJ+IPXee+MREUvVphSpaFA+1rS3VKvtT//HH6fZmVwICalq7JIvSMzL44btp7N6zh8vxCVy7mWTtkkQuXMo7Ub9OHZo1a0L3t97AxiZ/N7ULFDal1agRn7E5cjsb16+kfHkna5cjSpFPho5k9x/7WL1qKS4uztYux6rkORtgxKhPaBwczKD3PyY1VW/tckQpsSxiFX8cOc64z0eX+aABmdmYGI1G+g/+hJSkf5k541s0Go21SxIl2JLFy5n2y3y+/PRjQkKCrV3OI0FmNveoVCqmT/4KnbMTffp+gF4vMxzxcCRociZhcx8JHFFYEjS5k7B5gASOeFgSNHmTsMmBBI4oKAkayyRsciGBI/JLgiZ/JGzyIIEjLJGgyT8JGwskcERuJGgKRsImHyRwxIMkaApOwiafJHBEFgmahyNPEBdQ1pPG+n9v8+P0yfKkcRkjQfPwZGZTQFkzHJwc6Nd/sMxwypBVK9dL0BSChM1DUKlUzJ78NQYnewmcMmLVyvV89+NsCZpCkLB5SCqVijmTJHDKglUr1/P9jNmMk6ApFAmbQrCxsZHAKeWygmb0yCESNIUkYVNIEjil1/1B0/yJptYup8STsCkCEjiljwRN0ZOwKSISOKWHBE3xkLApQhI4JZ8ETfGRsCli+Q2c4yeiFa5MAESfOEFGRkaO6yRoipeETTGwFDibtkXy0odD2Ltnv5UqLLsmfTedAR8O48EH5yVoip+ETTF5MHBu374DZAZN//ET8dQbmfXLXCtXWbasW7OW46fPEhV1jP6DPyH93gxHgkYZ8rdRxSwjI4O3PxzKhegztG/bhhkb1uGRZkSlylw/4sNBvNDuOesWWUa80aMPsf9cMr33dk7laP1UKJGbIyVoFCBho4D0jAw69uzLrUtXMKQbQPXfuqqVfPht7k/WK66MCF+4iO9mzbv/rQdAbaPmra6v0rNXd6vUVZbIaVQxy8jIoHO3N9h5PiZb0ADEXrrMurUbrVNcGfLbwqXZggYgPcPAhCWL2bZnr+I1lTUSNsUoIyODVzt3ZltCApXQZAuaLAvCl+Z6h0QU3m+/zuXaneQc1xkBV30G737+BZu2RSpbWBkjYVOMBgwYwLbrN/BBg4uNba7tYi9dZn74MgUrKzsyMjKYvmZdbjkPgEoFnnoj/cdP5OLlOMVqK2skbIrRD1OnMq5rd6q6uFpsu2L5mmy3Y0XhTf9xJlcSb1hs1+TxuqyePAk/H28Fqiqb5AKxAtIzMtiyaSur1mzk0IkTubbr2/sderz+qoKVlW4ZGRk82eV1VNdum+5APahB7doMHPAuQUG1lC2uDJKwUdie3fuZM3c+x8+cybauopsHS8N/QZXbvwxRIFOn/ci3i5fjaas2W17OwYF2rZ7hje5dcXOzPOsURUPCxkpyC503u3Whf68eVqqq9EhPTye402vobqWYZjVZIfNu33ewt9dZt8AySMLGyn7fsIW5C8KJvXQJAFcnJ1ZGzMfWNvcLysKysHHjWbp+GzqdLRo7O1o1f5L33++Pk1M5a5dWZknYPCLWrd3IgvAIYi9dokenzvQd8La1Syqx0tPTadOmKxl2elo1b87AgX1wdXW2dlllnoTNIyZi6Up+37KVaT9MktnNQ/rm68kkXEnio6ED8fT0sHY54p4Chc2xqCh+njWbw0eO8nf0GQz6NLl5XoQq1aiFysYWvVaDfZqKK5cvknzrmrXLKnG8/WpTroKOxLRUyqUZuHk9kdvXrlu7rFLDy8eTSj4+PNX8CT4ePjzfH4r5DptRw4czbcZPOLt7o0KNxs4m1ydihRCllxEjGFXcvXMLX+8qzJo1hdq1Ay32y1fYjP/yS36eH4ENKpnJCCHMeLpVYOOGVeh0ed/hsxg2VxKu8Gybl0hN12OjUuHv78frXV6lQ4cXcHOVZxSEKGv0ej0JVxJZsGgxc36dD0CXjh0ZM3Zknv3Uea4FloSHo09PxUZlQ+2gQObP+xmdVr7fWoiySqPR4OdbiY8/GkztwECGDhvF36dPWuxn8aTo+PGTqO41C/viMwkaIYRJh/bP07hxQ07FxJr+z4e5sRg2KckpoAI/Xx9q1axeZEUKIUqHVk+3IDklhagjx/NsZzFs7ianAFC1atWiqUwIUao0adIYgFtJSXm2sxg2WX8UqLVwpVkIUTapbS1e+gXkRrYQQiESNkIIRUjYCCEUIWEjhFCEhI0QQhESNkIIRUjYCCEUIWEjhFCEhI0QQhESNkIIRUjYCCEUIWEjhFCEhI0QQhESNkIIRUjYCCEUIWEjhFCEhI0QQhESNkIIRUjYCCEUIWEjhFCEhI0QQhESNkIIRUjYlGJR0acYMSaMLZHbrV2KEBI2pdnVq4lE7tzFufP/PFT/6T/NYcSYsCKuSpRVEjYiV+fOX7B2CaIUyd9X2YlSY836zezd9yefDvuQNes3EXXib2LOxuJfqRK9enWnmr8fqampfB42iQMHj2Cv0zJiTBghTYNp//yzABjS0li6Yg1Rx6K5cOkS/pUqUbNGNbq//iq26sxDKmsbIU2D8fSowK8LlhBQozqDBvRmyrRZALzbszsLwiM4euw4t27dpk7tQAb07Ym9Tmu190cUHwmbMuZs7Dkid+7C1dWZQ0eO0TykCY4ODqxYvZYjUcdYtmgOKpUKL08PUlJTcHV1xsvTA6dy9gDs+/MvRo7+krupKYQ0aUxwwwacPXeen+bMY/cffzJ1chgajQatVkvkzl04Otpz8PBR3CpUwMEhcxt/HjxEckoy585fQK1WUzsggNMxMSxbtYbEq1f5auwoa75FophI2JRRJ0/FMHfmFNNMxNHBgfnhS/jr0FFCmjZm0IDehEcsJ6BmTQYN6A2A0Whk+sw53E1Nod1zrRk25H3Td8EvXbaKyVNnsO73rXRs39Y0ztoNm/i/fu/yeueOZuPHxSUQ0rQJ/3uvn2nbfd8bws49f6DX69FoNEq8DUJBcs2mjOrQro0paADqPhYIwIm/T+ba55+4BE6fPQvAwP69TUED8OK9gNm2fadZH51WR5eXO+S4vd5vv2n6WaVSUad2Zg2XE64U5FcRJYTMbMqox4KCzF77+PhY7PPPxf/uau3bfyDbeldXF67fuGm2rFrVKtiobXPcnrNTuRyXpxsyLNYiSh4JmzLKVl3wSW1SUpLp58++nJBjGztbO7PXnh7uObbzdPco8PiiZJOwKaMquLgUuI/WXmf6ee6s6YUav5yTY6H6i5JHwqaMSrx6nfK5nMbkxt/Xz/RzRU93HB0dHnr8y5fjH7qvKJnkArHI07kLFzEajQBU9auEd0UvABZHrDJrd/bCRf73yWi279qbr+2mpKbkuu5hTvHEo09mNmWMo6N9vtsGBQQQffIk48ZPokG9erR//lne69eLcWGTmPXrPP6Ji6NOYC0uXY5nS+QObNW2NGzweKFrtLfPf42i5JCwKcXc3T1oGdqcKpV9TcuqVPalZWjzbNdMyjk5Zmv7vw/6882309m9Zz+enpkzmhahT9KsSWMWhC/nwOEjbN66nQouLtSv/zg93uyKk+N/220Z2pzagbWy1RXcsAH+vr7ZllerWoWWoc0L/XuLR5PKmDVHzsXrr3XncHQ0rVu3Ysqk8UrVJYQoIU6djuGlV7ow4/tveapl7h8WcnIshFCEhI0QQhESNkIIRUjYCCEUIWEjhFCEhI0QQhESNkIIRUjYCCEUIWEjhFCEhI0QQhESNkIIRUjYCCEUIWEjhFCEhI0QQhESNkIIRUjYCCEUIWEjhFCEhI0QQhESNkIIRUjYCCEUIWEjhFCEhI0QQhESNkIIRUjYCCEUIWEjhFCEhI0QQhEWw8atghsACXFxxV6MEKLkiYuPByCwdkCe7SyGTbOQJwAjR4+d4EZSUpEUJ4QoPU6c+BsnRwc8PT3ybGcxbF7t+hI6Ox0A8+cvKprqhBClwt27ySxesoyWzZtbbGsxbHRaLb3efhOAmT/9wrLlqzAajYWvUghRosUlJPJ2r36ojEaGj/zYYnuVMZ/JMf7LicxZmDmzqV6jGqFPhFCunFPhqhVClDgGg54DBw9z4MBBqvr5MuHrMB6rE2SxX77DBuDgX0f4aeYsYs+fJz4xkVR9WqGKFkKUPC7lnahfpw7NmjWh+1tvYGOTv5vaBQobIYR4WPKcjRBCERI2QghFSNgIIRQhYSOEUISEjRBCEf8PqOUu2EP+9dwAAAAASUVORK5CYII=)\n",
        "\n",
        "## **Two parental classes**"
      ],
      "metadata": {
        "id": "peivny6VW9xM"
      }
    },
    {
      "cell_type": "code",
      "source": [
        "class Intern(Employee, Student):\n",
        "\n",
        "    def __init__(self, department, school, duration, courses=None):\n",
        "        # Call both Employee and Student __init__\n",
        "        Employee.__init__(self, department)\n",
        "        Student.__init__(self, school, courses)\n",
        "        self.duration = duration\n",
        "\n",
        "    def __repr__(self):\n",
        "        return f\"Intern(department={self.department}, school={self.school}, duration={self.duration}, courses={self.courses})\"\n",
        "\n",
        "    def onboard(self, mentor):\n",
        "        self.mentor = mentor\n",
        "\n",
        "s = Intern('IT dept', 'KU', '6 months', 'Python')\n",
        "print(s)\n",
        "s.begin_job() # method from Employee\n",
        "s.add_course('Julia') # method from Student\n",
        "print(s)\n",
        "s.onboard('Arm')\n",
        "s.mentor"
      ],
      "metadata": {
        "colab": {
          "base_uri": "https://localhost:8080/",
          "height": 90
        },
        "id": "7v3xjLsdVUad",
        "outputId": "f26bc73f-87bb-4e69-f15e-8686c3ed4baa"
      },
      "execution_count": null,
      "outputs": [
        {
          "output_type": "stream",
          "name": "stdout",
          "text": [
            "Intern(department=IT dept, school=KU, duration=6 months, courses=['Python'])\n",
            "Welcome to IT dept!\n",
            "Intern(department=IT dept, school=KU, duration=6 months, courses=['Python', 'Julia'])\n"
          ]
        },
        {
          "output_type": "execute_result",
          "data": {
            "text/plain": [
              "'Arm'"
            ],
            "application/vnd.google.colaboratory.intrinsic+json": {
              "type": "string"
            }
          },
          "metadata": {},
          "execution_count": 21
        }
      ]
    },
    {
      "cell_type": "markdown",
      "source": [
        "## **Multilevel Inheritance**"
      ],
      "metadata": {
        "id": "fn9K7EF7agHo"
      }
    },
    {
      "cell_type": "code",
      "source": [
        "class Person:\n",
        "\n",
        "    def __init__(self, name):\n",
        "        self.name = name\n",
        "\n",
        "    def introduce(self):\n",
        "        print(f\"Hello, my name is {self.name}\")\n",
        "\n",
        "\n",
        "class Employee(Person):\n",
        "\n",
        "    def __init__(self, name, title):\n",
        "        Person.__init__(self, name)\n",
        "        self.title = title\n",
        "\n",
        "    def change_position(self, new_title):\n",
        "        print(f\"Starting new role as {new_title}\")\n",
        "        self.title = new_title"
      ],
      "metadata": {
        "id": "cbluz3ZoYkza"
      },
      "execution_count": null,
      "outputs": []
    },
    {
      "cell_type": "markdown",
      "source": [
        "![image.png](data:image/png;base64,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)"
      ],
      "metadata": {
        "id": "td0CrSP3bcQy"
      }
    },
    {
      "cell_type": "code",
      "source": [
        "class Manager(Employee):\n",
        "\n",
        "    def __init__(self, name, title, number_reports):\n",
        "        Employee.__init__(self, name, title)\n",
        "        self.number_reports = number_reports\n",
        "\n",
        "m = Manager('Mike', 'Engineering', 14)\n",
        "m.introduce()\n",
        "m.change_position('Senior Engineering')\n",
        "m.number_reports"
      ],
      "metadata": {
        "colab": {
          "base_uri": "https://localhost:8080/"
        },
        "id": "QFsK9y2Ibcu_",
        "outputId": "892001b5-6f09-4b9a-81b8-8950cc23eefd"
      },
      "execution_count": null,
      "outputs": [
        {
          "output_type": "stream",
          "name": "stdout",
          "text": [
            "Hello, my name is Mike\n",
            "Starting new role as Senior Engineering\n"
          ]
        },
        {
          "output_type": "execute_result",
          "data": {
            "text/plain": [
              "14"
            ]
          },
          "metadata": {},
          "execution_count": 25
        }
      ]
    },
    {
      "cell_type": "markdown",
      "source": [
        "### **Multiple inheritance**\n",
        "\n",
        "In this exercise, you'll practice implementing multiple inheritance by creating a new class, called `Smartphone`.\n",
        "\n",
        "Below are the definitions for the `Computer` and `Telephone` class, which will used when creating the `Smartphone` class. Make sure to take a close look at both of these classes!\n"
      ],
      "metadata": {
        "id": "RB-R-MlOc6jW"
      }
    },
    {
      "cell_type": "code",
      "source": [
        "class Computer:\n",
        "\n",
        "    def __init__(self, brand):\n",
        "        self.brand = brand\n",
        "\n",
        "    def browse_internet(self):\n",
        "        print(f\"Using {self.brand}'s default internet browser.\")\n",
        "\n",
        "\n",
        "class Telephone:\n",
        "\n",
        "    def __init__(self, phone_number):\n",
        "        self.phone_number = phone_number\n",
        "\n",
        "    def make_call(self, recipient):\n",
        "        print(f\"Calling {recipient} from {self.phone_number}\")"
      ],
      "metadata": {
        "id": "vv3IkLr1cBTB"
      },
      "execution_count": null,
      "outputs": []
    },
    {
      "cell_type": "markdown",
      "source": [
        "**Instructions 1/3**\n",
        "\n",
        "- Create a `Smartphone` class that inherits from `Computer` and `Telephone`, and takes parameters brand, `phone_number`, and `music_app`.\n",
        "\n",
        "- Call the constructors for `Smartphone`'s parent classes, and define the `music_app` instance-level attribute."
      ],
      "metadata": {
        "id": "xCHBV3KBd-X4"
      }
    },
    {
      "cell_type": "code",
      "source": [
        "# Define a Smartphone class that inherits from Computer and\n",
        "# Telephone, and takes parameters brand, phone_number, and\n",
        "# music_app\n",
        "class Smartphone(Computer, Telephone):\n",
        "    def __init__(self, brand, phone_number, music_app):\n",
        "        # Call the contructor for the Computer and Telephone\n",
        "        # class, define the music_app instance-level attribute\n",
        "        Computer.__init__(self, brand)\n",
        "        Telephone.__init__(self, phone_number)\n",
        "        self.music_app = music_app\n"
      ],
      "metadata": {
        "id": "TERyI0O_eK3d"
      },
      "execution_count": null,
      "outputs": []
    },
    {
      "cell_type": "markdown",
      "source": [
        "**Instructions 2/3**\n",
        "\n",
        "Add a `play_music()` instance method to the `Smartphone` class which takes a `song` and prints a message detailing the song that is being played, followed by the app that it is being played on."
      ],
      "metadata": {
        "id": "aGqao4CBfAiY"
      }
    },
    {
      "cell_type": "code",
      "source": [
        "class Smartphone(Computer, Telephone):\n",
        "    def __init__(self, brand, phone_number, music_app):\n",
        "        Computer.__init__(self, brand)\n",
        "        Telephone.__init__(self, phone_number)\n",
        "        self.music_app = music_app\n",
        "\n",
        "  # Create an instance method to play a song on the\n",
        "  # smartphone's music app\n",
        "    def play_music(self, song):\n",
        "        print(f\"Playing {song} using {self.music_app}\")\n"
      ],
      "metadata": {
        "id": "xYCTpf2ve5b3"
      },
      "execution_count": null,
      "outputs": []
    },
    {
      "cell_type": "markdown",
      "source": [
        "**Instructions 3/3**\n",
        "\n",
        "Using the newly-created `personal_phone` object, use the functionality inherited from `Computer` and `Telephone` to browse the internet, make a call to Alex, and play the song `\"Creeks and Highways\"`."
      ],
      "metadata": {
        "id": "VvuYIUJ6fjWX"
      }
    },
    {
      "cell_type": "code",
      "source": [
        "class Smartphone(Computer, Telephone):\n",
        "    def __init__(self, brand, phone_number, music_app):\n",
        "        Computer.__init__(self, brand)\n",
        "        Telephone.__init__(self, phone_number)\n",
        "        self.music_app = music_app\n",
        "\n",
        "    def play_music(self, song):\n",
        "        print(f\"Playing {song} using {self.music_app}\")\n",
        "\n",
        "personal_phone = Smartphone(\"Macrosung\", \"801-932-7629\", \"Dotify\")\n",
        "\n",
        "# Browse the internet, make a call to Alex, and play music\n",
        "personal_phone.browse_internet()\n",
        "personal_phone.make_call(\"Alex\")\n",
        "personal_phone.play_music(\"Creeks and Highways\")\n"
      ],
      "metadata": {
        "colab": {
          "base_uri": "https://localhost:8080/"
        },
        "id": "hhuVPNB-fgUo",
        "outputId": "48038547-8faf-4ef1-b1f2-68f18592e263"
      },
      "execution_count": null,
      "outputs": [
        {
          "output_type": "stream",
          "name": "stdout",
          "text": [
            "Using Macrosung's default internet browser.\n",
            "Calling Alex from 801-932-7629\n",
            "Playing Creeks and Highways using Dotify\n"
          ]
        }
      ]
    },
    {
      "cell_type": "markdown",
      "source": [
        "You've built a class that inherits from two classes and implements it's own custom functionality.\n",
        "\n",
        "### **Multilevel inheritance**\n",
        "\n",
        "Implement multilevel inheritance by building a new version of the `Smartphone` class.\n",
        "\n",
        "To help you get started, the `Computer` and `Tablet` classes have been defined and provided below. It' important to note that `Tablet` inherits from the `Computer` class."
      ],
      "metadata": {
        "id": "euIHEo1WgcbS"
      }
    },
    {
      "cell_type": "code",
      "source": [
        "class Computer:\n",
        "\n",
        "    def __init__(self, brand):\n",
        "        self.brand = brand\n",
        "\n",
        "    def browse_internet(self):\n",
        "        print(f\"Using {self.brand}'s default internet browser.\")\n",
        "\n",
        "class Tablet(Computer):\n",
        "    def __init__(self, brand, apps):\n",
        "        Computer.__init__(self, brand)\n",
        "        self.apps = apps\n",
        "\n",
        "    def uninstall_app(self, app):\n",
        "        if app in self.apps:\n",
        "            self.apps.remove(app)"
      ],
      "metadata": {
        "id": "qNCrjSPOgPkq"
      },
      "execution_count": null,
      "outputs": []
    },
    {
      "cell_type": "markdown",
      "source": [
        "**Instructions**\n",
        "\n",
        "\n",
        "* Define a `Smartphone` class that inherits from `Tablet`, call the parent constructor, and define the `phone_number` instance-level attribute.\n",
        "\n",
        "Create a `send_text` method that shares a text message with a recipient from the `Smartphone`'s `phone_number`.\n",
        "\n",
        "* Instantiate a `Smartphone` object called `personal_phone` and call its `.browse_internet()` method; uninstall the `Weather` app, and send the message `Time for a new mission!` to Chuck, via text."
      ],
      "metadata": {
        "id": "n49A5nqIg8tp"
      }
    },
    {
      "cell_type": "code",
      "source": [
        "# Create a Smartphone class that inherits from Tablet\n",
        "class Smartphone(Tablet):\n",
        "\n",
        "    def __init__(self, brand, apps, phone_number):\n",
        "        Tablet.__init__(self, brand, apps)\n",
        "        self.phone_number = phone_number\n",
        "\n",
        "    # Create send_text to send a message to a recipient\n",
        "    def send_text(self, message, recipient):\n",
        "        print(f\"Sending {message} to {recipient} from {self.phone_number}\")\n",
        "\n",
        "# Create an instance of Smartphone, call methods in each class\n",
        "personal_phone = Smartphone(\"Macrosung\", [\"Weather, Camera\"], \"801-932-7629\")\n",
        "personal_phone.browse_internet()\n",
        "personal_phone.uninstall_app(\"Weather\")\n",
        "personal_phone.send_text(\"Time for a new mission!\", \"Chuck\")"
      ],
      "metadata": {
        "colab": {
          "base_uri": "https://localhost:8080/"
        },
        "id": "E4yyl7gqg5HN",
        "outputId": "3cda7b5e-4616-47c7-c8cf-f5e97dcb48b8"
      },
      "execution_count": null,
      "outputs": [
        {
          "output_type": "stream",
          "name": "stdout",
          "text": [
            "Using Macrosung's default internet browser.\n",
            "Sending Time for a new mission! to Chuck from 801-932-7629\n"
          ]
        }
      ]
    },
    {
      "cell_type": "markdown",
      "source": [
        "While similar in a number of ways, multilevel inheritance is implemented slightly different than multiple inheritance.\n",
        "\n",
        "### **MRO for multiple inheritance**\n",
        "\n",
        "Similar to before, you've built a `Smartphone` class that inherits from two classes; `Computer` and `Telephone`. The class definition looks something like this:\n",
        "\n",
        "```\n",
        "class Smartphone(Computer, Telephone):\n",
        "    ...\n",
        "```\n",
        "\n",
        "Identify the order in which Python will search for methods in the Smartphone class hierarchy upon execution.\n",
        "\n",
        "THe answer is\n",
        "\n",
        "```\n",
        "[__main__.Smartphone, __main__.Computer, __main__.Telephone, object]\n",
        "```\n",
        "\n",
        "Here, the `Smartphone` class will be searched for the method to execute, followed by the `Computer` class, before searching the `Telephone` class."
      ],
      "metadata": {
        "id": "VcJyvUUuiJal"
      }
    },
    {
      "cell_type": "markdown",
      "source": [
        "# **Descriptors**"
      ],
      "metadata": {
        "id": "bCD2ytD4Vv4x"
      }
    },
    {
      "cell_type": "code",
      "source": [
        "class Student:\n",
        "\n",
        "    def __init__(self, name, ssn):\n",
        "        self.name = name\n",
        "        self.ssn = ssn\n",
        "\n",
        "# Create a student object, and access the \"ssn\" attribute\n",
        "shaw = Student(\"Daniel Shaw\", \"193-80-1821\")\n",
        "print(shaw.ssn)"
      ],
      "metadata": {
        "colab": {
          "base_uri": "https://localhost:8080/"
        },
        "id": "I2PONi4aiGHn",
        "outputId": "bc021afe-1f39-43dd-d389-749984e7c323"
      },
      "execution_count": null,
      "outputs": [
        {
          "output_type": "stream",
          "name": "stdout",
          "text": [
            "193-80-1821\n"
          ]
        }
      ]
    },
    {
      "cell_type": "markdown",
      "source": [
        "What if the value is changed or deleted? How should this be handled?\n",
        "\n",
        "**Descriptos** are objects used to regulate the way that an attribute is retrieved, set, or deleted.\n",
        "\n",
        "## **Create descriptors with `@property`**\n",
        "\n",
        "- `.ssn` attribute now has a descriptor\n",
        "- Descriptors interact with <u>**`self._ssn`**</u> NOT `self.ssn`\n",
        "- `@<attribute-name>.setter` ในที่นี้ `<attribute-name>` คือ `ssn`\n",
        "- `@<attribute-name>.deleter`"
      ],
      "metadata": {
        "id": "xi03zTWHWyYs"
      }
    },
    {
      "cell_type": "code",
      "source": [
        "class Student:\n",
        "\n",
        "    def __init__(self, name, ssn):\n",
        "        self.name = name\n",
        "        self.ssn = ssn # Both self.ssn and self._ssn can be used\n",
        "\n",
        "    @property # This is the \"getter\" method\n",
        "    def ssn(self):\n",
        "        return 'XXX-XX-' + self._ssn[-4:]\n",
        "\n",
        "    @ssn.setter\n",
        "    def ssn(self, new_ssn): # same function name \"ssn\"\n",
        "        if len(new_ssn) == 11:\n",
        "            self._ssn = new_ssn\n",
        "\n",
        "    @ssn.deleter\n",
        "    def ssn(self): # same function name \"ssn\"\n",
        "        raise AttributeError(\"SSN cannot be deleted\")\n",
        "\n",
        "shaw = Student(\"Daniel Shaw\", \"193-80-1821\")\n",
        "print(shaw.ssn)\n",
        "\n",
        "shaw.ssn = \"821-11-9380\" # Update Shaw's social security number\n",
        "print(shaw.ssn)\n",
        "\n",
        "del shaw.ssn # Attempt to delete the ssn attribute"
      ],
      "metadata": {
        "colab": {
          "base_uri": "https://localhost:8080/",
          "height": 348
        },
        "id": "N97u-DQWYETO",
        "outputId": "ffc369e8-5f49-4fe0-b447-a5cc35d173d5"
      },
      "execution_count": null,
      "outputs": [
        {
          "output_type": "stream",
          "name": "stdout",
          "text": [
            "XXX-XX-1821\n",
            "XXX-XX-9380\n"
          ]
        },
        {
          "output_type": "error",
          "ename": "AttributeError",
          "evalue": "SSN cannot be deleted",
          "traceback": [
            "\u001b[0;31m---------------------------------------------------------------------------\u001b[0m",
            "\u001b[0;31mAttributeError\u001b[0m                            Traceback (most recent call last)",
            "\u001b[0;32m<ipython-input-11-2d0b76254f34>\u001b[0m in \u001b[0;36m<cell line: 26>\u001b[0;34m()\u001b[0m\n\u001b[1;32m     24\u001b[0m \u001b[0mprint\u001b[0m\u001b[0;34m(\u001b[0m\u001b[0mshaw\u001b[0m\u001b[0;34m.\u001b[0m\u001b[0mssn\u001b[0m\u001b[0;34m)\u001b[0m\u001b[0;34m\u001b[0m\u001b[0;34m\u001b[0m\u001b[0m\n\u001b[1;32m     25\u001b[0m \u001b[0;34m\u001b[0m\u001b[0m\n\u001b[0;32m---> 26\u001b[0;31m \u001b[0;32mdel\u001b[0m \u001b[0mshaw\u001b[0m\u001b[0;34m.\u001b[0m\u001b[0mssn\u001b[0m \u001b[0;31m# Attempt to delete the ssn attribute\u001b[0m\u001b[0;34m\u001b[0m\u001b[0;34m\u001b[0m\u001b[0m\n\u001b[0m",
            "\u001b[0;32m<ipython-input-11-2d0b76254f34>\u001b[0m in \u001b[0;36mssn\u001b[0;34m(self)\u001b[0m\n\u001b[1;32m     16\u001b[0m     \u001b[0;34m@\u001b[0m\u001b[0mssn\u001b[0m\u001b[0;34m.\u001b[0m\u001b[0mdeleter\u001b[0m\u001b[0;34m\u001b[0m\u001b[0;34m\u001b[0m\u001b[0m\n\u001b[1;32m     17\u001b[0m     \u001b[0;32mdef\u001b[0m \u001b[0mssn\u001b[0m\u001b[0;34m(\u001b[0m\u001b[0mself\u001b[0m\u001b[0;34m)\u001b[0m\u001b[0;34m:\u001b[0m \u001b[0;31m# same function name \"ssn\"\u001b[0m\u001b[0;34m\u001b[0m\u001b[0;34m\u001b[0m\u001b[0m\n\u001b[0;32m---> 18\u001b[0;31m         \u001b[0;32mraise\u001b[0m \u001b[0mAttributeError\u001b[0m\u001b[0;34m(\u001b[0m\u001b[0;34m\"SSN cannot be deleted\"\u001b[0m\u001b[0;34m)\u001b[0m\u001b[0;34m\u001b[0m\u001b[0;34m\u001b[0m\u001b[0m\n\u001b[0m\u001b[1;32m     19\u001b[0m \u001b[0;34m\u001b[0m\u001b[0m\n\u001b[1;32m     20\u001b[0m \u001b[0mshaw\u001b[0m \u001b[0;34m=\u001b[0m \u001b[0mStudent\u001b[0m\u001b[0;34m(\u001b[0m\u001b[0;34m\"Daniel Shaw\"\u001b[0m\u001b[0;34m,\u001b[0m \u001b[0;34m\"193-80-1821\"\u001b[0m\u001b[0;34m)\u001b[0m\u001b[0;34m\u001b[0m\u001b[0;34m\u001b[0m\u001b[0m\n",
            "\u001b[0;31mAttributeError\u001b[0m: SSN cannot be deleted"
          ]
        }
      ]
    },
    {
      "cell_type": "markdown",
      "source": [
        "### **Accessing the balance attribute**\n",
        "\n",
        "Access the `balance` attribute of a `BankAccount` class that's implemented a descriptor using the `@property` decorator. The `BankAccount` class has been created for you, as shown below:"
      ],
      "metadata": {
        "id": "1izd-lrslrvC"
      }
    },
    {
      "cell_type": "code",
      "source": [
        "class BankAccount:\n",
        "\n",
        "    def __init__(self, balance):\n",
        "        self.balance = balance\n",
        "\n",
        "    @property\n",
        "    def balance(self):\n",
        "        return f\"${round(self._balance, 2)}\"\n",
        "\n",
        "    @balance.setter\n",
        "    def balance(self, new_balance):\n",
        "        if new_balance > 0:\n",
        "            self._balance = new_balance\n",
        "\n",
        "    @balance.deleter\n",
        "    def balance(self):\n",
        "        print(\"Deleting the 'balance' attribute\")\n",
        "        del self._balance"
      ],
      "metadata": {
        "id": "Kg2PYp_FdfL8"
      },
      "execution_count": null,
      "outputs": []
    },
    {
      "cell_type": "markdown",
      "source": [
        "**Instructions**\n",
        "\n",
        "- Output the `balance` attribute of the newly-created `checking_account` object using `print()`.\n",
        "\n",
        "- Set the value of `balance` to `150` and again output the updated attribute.\n",
        "\n",
        "- Delete the `balance` attribute from the `checking_account` object."
      ],
      "metadata": {
        "id": "cB2vJGAsnze8"
      }
    },
    {
      "cell_type": "code",
      "source": [
        "checking_account = BankAccount(100)\n",
        "\n",
        "# Output the balance of the checking_account object\n",
        "print(checking_account.balance)\n",
        "\n",
        "# Set the balance to 150, output the new balance\n",
        "checking_account.balance = 150\n",
        "print(checking_account.balance)\n",
        "\n",
        "# Delete the balance attribute, attempt to print the balance\n",
        "del checking_account.balance\n"
      ],
      "metadata": {
        "colab": {
          "base_uri": "https://localhost:8080/"
        },
        "id": "_1xb1-ykmpCw",
        "outputId": "7cb810ba-b37c-4f98-bfb5-b0954b89c1db"
      },
      "execution_count": null,
      "outputs": [
        {
          "output_type": "stream",
          "name": "stdout",
          "text": [
            "$100\n",
            "$150\n",
            "Deleting the 'balance' attribute\n"
          ]
        }
      ]
    },
    {
      "cell_type": "markdown",
      "source": [
        "Now that you've practiced interacting with an attribute that implements the descriptor protocol, it's time to build your own!\n",
        "\n",
        "### **Using the `@property` decorator**\n",
        "\n",
        "Now that you've practiced working with a class that implements a descriptors, you'll get you build your own using the `@property` decorator.\n",
        "\n",
        "#### **Instructions**\n",
        "\n",
        "- Use the `@property` decorator to begin the process of creating a descriptor for the `email` attribute; this method will return the email address inside of an f-string.\n",
        "\n",
        "- Create and decorate a method in the `BankAccount` class to set the value of the `email` attribute, if the new email address contains the `@` symbol.\n",
        "\n",
        "- Define and decorate a method that will be used when the `email` attribute is deleted from a `BankAccount` object."
      ],
      "metadata": {
        "id": "3FUHyLc-oa7e"
      }
    },
    {
      "cell_type": "code",
      "source": [
        "class BankAccount:\n",
        "\n",
        "    def __init__(self, email):\n",
        "        self.email = email\n",
        "\n",
        "    @property\n",
        "    def email(self):\n",
        "        return f\"Email for this account is: {self._email}\"\n",
        "\n",
        "    @email.setter\n",
        "    def email(self, new_email_address):\n",
        "        if \"@\" in new_email_address:\n",
        "            self._email = new_email_address\n",
        "        else:\n",
        "            print(\"Please make sure to enter a valid email.\")\n",
        "\n",
        "    # Define a method to be used when deleting the email attribute\n",
        "    @email.deleter\n",
        "    def email(self):\n",
        "        del self._email\n",
        "        print(\"Email deleted, make sure to add a new email!\")\n",
        "\n",
        "e = BankAccount(\"william.henry.harrison@example-pet-store.com\")\n",
        "print(e.email)\n",
        "e.email = \"test\"\n",
        "e.email = \"test@test.com\"\n",
        "print(e.email)\n",
        "del e.email\n"
      ],
      "metadata": {
        "colab": {
          "base_uri": "https://localhost:8080/"
        },
        "id": "Qw58NaOHoWnO",
        "outputId": "40626439-92bb-47a0-ccf0-7458e31e8fd7"
      },
      "execution_count": null,
      "outputs": [
        {
          "output_type": "stream",
          "name": "stdout",
          "text": [
            "Email for this account is: william.henry.harrison@example-pet-store.com\n",
            "Please make sure to enter a valid email.\n",
            "Email for this account is: test@test.com\n",
            "Email deleted, make sure to add a new email!\n"
          ]
        }
      ]
    },
    {
      "cell_type": "markdown",
      "source": [
        "Using the property decorator, it's easy to build a descriptor like you did with the `property` function. Always nice to have multiple tools in your toolbelt!\n",
        "\n",
        "### **Regulating access to an account number**\n",
        "\n",
        "A `BankAccount` class has been defined and used to create a `checking_account` object with a single parameter, `account_number`. A descriptor has been built for the `account_number` attribute using the `@property` decorator.\n",
        "\n",
        "Update the `account_number` attribute to store a value of `\"91003354\"`, then delete the attribute; observe the output.\n",
        "\n",
        "**What are the possible method names and decorators that were used to produce this output when setting and deleting the `account_number` attribute?**\n",
        "\n",
        "**ANSWER**: `account_number` method decorated with `@account_number.setter`, and an `account_number` method decorated with `@account_number.deleter`\n",
        "\n",
        "When creating descriptors with the property decorator, \"`setter`\" and \"`deleter`\" methods will be defined using the attribute name and decorated to control how an attribute is stored and deleted."
      ],
      "metadata": {
        "id": "RJOjX7YJqqlr"
      }
    },
    {
      "cell_type": "markdown",
      "source": [
        "# **Customizing attribute access**"
      ],
      "metadata": {
        "id": "1d5YCtJIgyIV"
      }
    },
    {
      "cell_type": "markdown",
      "source": [
        "## **AttributeError**"
      ],
      "metadata": {
        "id": "U7kBk-NHg5eq"
      }
    },
    {
      "cell_type": "code",
      "source": [
        "class Student:\n",
        "\n",
        "    def __init__(self, student_name, major):\n",
        "        self.student_name = student_name\n",
        "        self.major = major\n",
        "\n",
        "karina = Student(\"Karina\", \"Literature\")\n",
        "karina.residence_hall # Attempt to access an attribute that does not exist"
      ],
      "metadata": {
        "colab": {
          "base_uri": "https://localhost:8080/",
          "height": 183
        },
        "id": "PLWZ026gqK9Z",
        "outputId": "8888cec9-02b5-401e-befb-7cc903988345"
      },
      "execution_count": null,
      "outputs": [
        {
          "output_type": "error",
          "ename": "AttributeError",
          "evalue": "'Student' object has no attribute 'residence_hall'",
          "traceback": [
            "\u001b[0;31m---------------------------------------------------------------------------\u001b[0m",
            "\u001b[0;31mAttributeError\u001b[0m                            Traceback (most recent call last)",
            "\u001b[0;32m<ipython-input-2-36f16b196857>\u001b[0m in \u001b[0;36m<cell line: 8>\u001b[0;34m()\u001b[0m\n\u001b[1;32m      6\u001b[0m \u001b[0;34m\u001b[0m\u001b[0m\n\u001b[1;32m      7\u001b[0m \u001b[0mkarina\u001b[0m \u001b[0;34m=\u001b[0m \u001b[0mStudent\u001b[0m\u001b[0;34m(\u001b[0m\u001b[0;34m\"Karina\"\u001b[0m\u001b[0;34m,\u001b[0m \u001b[0;34m\"Literature\"\u001b[0m\u001b[0;34m)\u001b[0m\u001b[0;34m\u001b[0m\u001b[0;34m\u001b[0m\u001b[0m\n\u001b[0;32m----> 8\u001b[0;31m \u001b[0mkarina\u001b[0m\u001b[0;34m.\u001b[0m\u001b[0mresidence_hall\u001b[0m \u001b[0;31m# Attempt to access an attribute that does not exist\u001b[0m\u001b[0;34m\u001b[0m\u001b[0;34m\u001b[0m\u001b[0m\n\u001b[0m",
            "\u001b[0;31mAttributeError\u001b[0m: 'Student' object has no attribute 'residence_hall'"
          ]
        }
      ]
    },
    {
      "cell_type": "markdown",
      "source": [
        "## **`__getattr__`**\n",
        "\n",
        "**`__getattr__`** is executed when an attempt to access attribute outside class definition.\n",
        "\n",
        "- Takes a `name` parameter\n",
        "- Implement custom functionality, rather than raising an `AttributeError`"
      ],
      "metadata": {
        "id": "TZrTe1k4hqVk"
      }
    },
    {
      "cell_type": "code",
      "source": [
        "class Student:\n",
        "\n",
        "    def __init__(self, student_name, major):\n",
        "        self.student_name = student_name\n",
        "        self.major = major\n",
        "\n",
        "    def __getattr__(self, name):\n",
        "        print(f\"\"\"{name} does not exist in this object's namespace, try setting a value for {name} first\"\"\")\n",
        "\n",
        "karina = Student(\"Karina\", \"Literature\")\n",
        "karina.residence_hall # Now, try to retrieve the residence_hall attribute again"
      ],
      "metadata": {
        "colab": {
          "base_uri": "https://localhost:8080/"
        },
        "id": "PPDexkb2hWhG",
        "outputId": "be6b0d3c-3086-49f7-b9a3-ad418d4de069"
      },
      "execution_count": null,
      "outputs": [
        {
          "output_type": "stream",
          "name": "stdout",
          "text": [
            "residence_hall does not exist in this object's namespace, try setting a value for residence_hall first\n"
          ]
        }
      ]
    },
    {
      "cell_type": "markdown",
      "source": [
        "## **`__setattr__`**\n",
        "\n",
        "**`__setattr__`** is executed when a (new or existing) attribute is **set** or **updated**.\n",
        "\n",
        "- Takes `name` of attribute and `value`.\n",
        "- Usuall use `self.__dict__[name] = value`"
      ],
      "metadata": {
        "id": "aIek1v4SjZzx"
      }
    },
    {
      "cell_type": "code",
      "source": [
        "class Student:\n",
        "\n",
        "    def __init__(self, student_name, major):\n",
        "        self.student_name = student_name\n",
        "        self.major = major\n",
        "\n",
        "    def __setattr__(self, name, value):\n",
        "        # If value is a string, set the attribute using the __dict__ attribute\n",
        "        if isinstance(value, str):\n",
        "            print(f\"Setting {name} = {value}\")\n",
        "            self.__dict__[name] = value\n",
        "        else: # Otherwise, raise an exception noting an incorrect data type\n",
        "            raise Exception(\"Unexpected data type!\")\n",
        "\n",
        "karina = Student(\"Karina\", \"Literature\")\n",
        "karina.residence_hall = \"Honors College South\"\n"
      ],
      "metadata": {
        "colab": {
          "base_uri": "https://localhost:8080/"
        },
        "id": "uTrgk0Goi-Ja",
        "outputId": "a4e964ec-ba51-40d0-c172-378aa7813a91"
      },
      "execution_count": null,
      "outputs": [
        {
          "output_type": "stream",
          "name": "stdout",
          "text": [
            "Setting student_name = Karina\n",
            "Setting major = Literature\n",
            "Setting residence_hall = Honors College South\n"
          ]
        }
      ]
    },
    {
      "cell_type": "markdown",
      "source": [
        "## **Using `__getattr__` and `__setattr__` together**"
      ],
      "metadata": {
        "id": "o-I_mU3sycRC"
      }
    },
    {
      "cell_type": "code",
      "source": [
        "class Student:\n",
        "\n",
        "    def __init__(self, student_name, major):\n",
        "        self.student_name = student_name\n",
        "        self.major = major\n",
        "\n",
        "    def __getattr__(self, name):\n",
        "        # Set the attribute with a placeholder\n",
        "        self.__setattr__(name, None)\n",
        "        return None\n",
        "\n",
        "    def __setattr__(self, name, value):\n",
        "        if value is None: # Print a message denoting a placeholder\n",
        "            print(f\"Setting placeholder for {name}\")\n",
        "        self.__dict__[name] = value # Set the attribute\n",
        "\n",
        "karina = Student(\"Karina\", \"Literature\")\n",
        "karina.residence_hall\n",
        "karina.__dict__"
      ],
      "metadata": {
        "colab": {
          "base_uri": "https://localhost:8080/"
        },
        "id": "kQ9_l9GKk2z-",
        "outputId": "cb80622c-ddd7-4b65-f3ef-a77b4ad12c5c"
      },
      "execution_count": null,
      "outputs": [
        {
          "output_type": "stream",
          "name": "stdout",
          "text": [
            "Setting placeholder for residence_hall\n"
          ]
        },
        {
          "output_type": "execute_result",
          "data": {
            "text/plain": [
              "{'student_name': 'Karina', 'major': 'Literature', 'residence_hall': None}"
            ]
          },
          "metadata": {},
          "execution_count": 6
        }
      ]
    },
    {
      "cell_type": "code",
      "source": [
        "k = Student(\"Karina\", \"Literature\")\n",
        "k.residence_hall = \"Honors College\"\n",
        "k.__dict__"
      ],
      "metadata": {
        "colab": {
          "base_uri": "https://localhost:8080/"
        },
        "id": "6cLxKcYlxAnR",
        "outputId": "372196b4-af04-4084-a858-41509200a241"
      },
      "execution_count": null,
      "outputs": [
        {
          "output_type": "execute_result",
          "data": {
            "text/plain": [
              "{'student_name': 'Karina',\n",
              " 'major': 'Literature',\n",
              " 'residence_hall': 'Honors College'}"
            ]
          },
          "metadata": {},
          "execution_count": 7
        }
      ]
    },
    {
      "cell_type": "markdown",
      "source": [
        "### **Accessing attributes that don't exist**\n",
        "\n",
        "Sometimes, you may try to access an attribute that does not exist in the namespace for an object. When this happens, typically, an `AttributeError` is thrown. In this exercise, you'll practice handling this scenario using one of Python's magic methods.\n",
        "\n",
        "#### **Instructions**\n",
        "\n",
        "- Define a method to be executed when referencing an attribute not defined in the `BankAccount` namespace; this method should take parameters `self` and `name`.\n",
        "\n",
        "- Add logic to the magic method to print a message suggesting the attribute referenced should be set for the object.\n",
        "\n",
        "- Create an object of the `BankAccount` class, and attempt to\n",
        "access the `routing_number` attribute; observe the output."
      ],
      "metadata": {
        "id": "tqOVoIZW0fZM"
      }
    },
    {
      "cell_type": "code",
      "source": [
        "class BankAccount:\n",
        "\n",
        "    def __init__(self, account_number):\n",
        "        self.account_number = account_number\n",
        "\n",
        "    # Define a magic method to handle references to attribute\n",
        "    # not in an object's namespace\n",
        "    def __getattr__(self, name):\n",
        "      # Output a message to instruct further action\n",
        "        print(f\"\"\"{name} is not defined in BankAccount object.\n",
        "          Please define this attribute if needed.\"\"\")\n",
        "\n",
        "# Create a BankAccount object, reference routing_number\n",
        "checking_account = BankAccount(\"123456\")\n",
        "checking_account.routing_number"
      ],
      "metadata": {
        "colab": {
          "base_uri": "https://localhost:8080/"
        },
        "id": "CSrMTA0N0N0p",
        "outputId": "699fef68-ff2a-45d4-943e-6d7495f44a11"
      },
      "execution_count": null,
      "outputs": [
        {
          "output_type": "stream",
          "name": "stdout",
          "text": [
            "routing_number is not defined in BankAccount object.\n",
            "          Please define this attribute if needed.\n"
          ]
        }
      ]
    },
    {
      "cell_type": "markdown",
      "source": [
        "### **Customizing attribute assignment with `__setattr__`**\n",
        "\n",
        "Previously, we used descriptors to implement logic that was run when a specific attribute was retrieved, set, or deleted. But what if we'd like to make sure a certain block of code runs each time any attribute is set? In this exercise, you'll practice doing this with a Python magic method.\n",
        "\n",
        "#### **Instructions**\n",
        "\n",
        "- Define a magic method in the `BankAccount` class that will be executed when attempting to set an attribute for an object of `BankAccount`; this method will take parameters `self`, `name`, and `value`.\n",
        "\n",
        "- In the above method, check if the name of the referenced attribute is in the provided list; setting the value if this is the case.\n",
        "  - If the attribute is not in the provide list, print a short message that includes the attribute `name`\n",
        "\n",
        "- Using the `savings_account` object, attempt to set a balance of `100`, and a beneficiary of `\"Anna Wu\"`; observe the output in the terminal.  "
      ],
      "metadata": {
        "id": "9Mzo3zTq9L7M"
      }
    },
    {
      "cell_type": "code",
      "source": [
        "class BankAccount:\n",
        "\n",
        "    def __init__(self, account_number):\n",
        "        self.account_number = account_number\n",
        "\n",
        "    def __setattr__(self, name, value):\n",
        "        if name in [\"account_number\", \"balance\"]:\n",
        "            print(f\"{name} is an allowed attribute.\")\n",
        "            self.__dict__[name] = value\n",
        "        else:\n",
        "            print(f\"Invalid Attribute: {name}\")\n",
        "\n",
        "# Use savings_account and attempt to set attributes\n",
        "savings_account = BankAccount(\"12345678\")\n",
        "savings_account.balance = 100\n",
        "savings_account.beneficiary = \"Anna Wu\"\n"
      ],
      "metadata": {
        "colab": {
          "base_uri": "https://localhost:8080/"
        },
        "id": "ucie_EKF1UBm",
        "outputId": "fe4fdeb6-5ed0-4467-837c-c355d08c66ff"
      },
      "execution_count": null,
      "outputs": [
        {
          "output_type": "stream",
          "name": "stdout",
          "text": [
            "account_number is an allowed attribute.\n",
            "balance is an allowed attribute.\n",
            "Invalid Attribute: beneficiary\n"
          ]
        }
      ]
    },
    {
      "cell_type": "markdown",
      "source": [
        "It's pretty cool that we can handle how attributes can be set for an object using built-in Python tooling.\n",
        "\n",
        "# **Custom Iterators**\n",
        "\n",
        "must have\n",
        "\n",
        "* **`__iter__()`**\n",
        "* **`__next__()`**"
      ],
      "metadata": {
        "id": "ppX6rh9y_AXj"
      }
    },
    {
      "cell_type": "code",
      "source": [
        "import random\n",
        "\n",
        "class CoinFlips:\n",
        "\n",
        "    def __init__(self, number_of_flips):\n",
        "        self.number_of_flips = number_of_flips # Store the total number of flips\n",
        "        self.counter = 0\n",
        "\n",
        "    def __iter__(self):\n",
        "        return self # Return a reference of the iterator\n",
        "\n",
        "    # Flip the next coin, return the output\n",
        "    def __next__(self):\n",
        "        if self.counter < self.number_of_flips:\n",
        "            self.counter += 1\n",
        "            return random.choice([\"H\", \"T\"])\n",
        "        else: # ถ้าไม่มีตรงนี้จะเป็น infinite loop\n",
        "            raise StopIteration\n",
        "\n",
        "three_flips = CoinFlips(3)\n",
        "for flip in three_flips:\n",
        "    print(flip)"
      ],
      "metadata": {
        "colab": {
          "base_uri": "https://localhost:8080/"
        },
        "id": "oJ866Q0Z-2oU",
        "outputId": "a0fe22ab-e93b-4080-d101-24f7d9ab2a99"
      },
      "execution_count": null,
      "outputs": [
        {
          "output_type": "stream",
          "name": "stdout",
          "text": [
            "H\n",
            "T\n",
            "H\n"
          ]
        }
      ]
    },
    {
      "cell_type": "code",
      "source": [
        "while True:\n",
        "    try:\n",
        "        next(three_flips) # Pull the next element of three_flips\n",
        "\n",
        "    # Catch a stop iteration exception\n",
        "    except StopIteration:\n",
        "        print(\"Completed all coin flips!\")\n",
        "        break"
      ],
      "metadata": {
        "colab": {
          "base_uri": "https://localhost:8080/"
        },
        "id": "mU0ktcZWP7-L",
        "outputId": "9abc3012-1b02-4811-eb36-16307993c12b"
      },
      "execution_count": null,
      "outputs": [
        {
          "output_type": "stream",
          "name": "stdout",
          "text": [
            "Completed all coin flips!\n"
          ]
        }
      ]
    },
    {
      "cell_type": "markdown",
      "source": [
        "### **Building a Playlist**\n",
        "\n",
        "Now that you've gotten the hang of building custom iterators, you'll practice creating your own `Playlist` class, to play your favorite songs.\n",
        "\n",
        "#### **Instructions**\n",
        "\n",
        "- Observe the initial definition of the `Playlist` class, then define a magic method to return an iterator object.\n",
        "\n",
        "- Create a method that will return the next song in the playlist, raising a `StopIteration` exception if all songs have been played.\n",
        "\n",
        "- Add logic to pull the next song from `self.songs`, increment the index, and return the song.\n",
        "\n",
        "- Create a `Playlist` object that shuffles the list of songs provided; loop through the `Playlist` object, and print the name of each song."
      ],
      "metadata": {
        "id": "5t9zyrRMSHbK"
      }
    },
    {
      "cell_type": "code",
      "source": [
        "import random\n",
        "\n",
        "class Playlist:\n",
        "\n",
        "    def __init__(self, songs, shuffle=False):\n",
        "        self.songs = songs\n",
        "        self.index = 0\n",
        "\n",
        "        if shuffle:\n",
        "            random.shuffle(self.songs)\n",
        "\n",
        "    def __iter__(self):\n",
        "        return self\n",
        "\n",
        "    # Define a magic method to iterate through songs\n",
        "    def __next__(self):\n",
        "        if self.index >= len(self.songs):\n",
        "            raise StopIteration\n",
        "\n",
        "      # Pull the next song, increment index, and return\n",
        "        song = self.songs[self.index]\n",
        "        self.index += 1\n",
        "        return song\n",
        "\n",
        "# Shuffle a Playlist, use for loop to iterate through\n",
        "favorite_songs = Playlist([\"Ticking\", \"Tiny Dancer\"], shuffle=True)\n",
        "for song in favorite_songs:\n",
        "    print(song)\n"
      ],
      "metadata": {
        "colab": {
          "base_uri": "https://localhost:8080/"
        },
        "id": "x1KVeoF-R95Y",
        "outputId": "d3936b45-1efc-4367-8353-94ab13fba3ad"
      },
      "execution_count": null,
      "outputs": [
        {
          "output_type": "stream",
          "name": "stdout",
          "text": [
            "Tiny Dancer\n",
            "Ticking\n"
          ]
        }
      ]
    },
    {
      "cell_type": "markdown",
      "source": [
        "Using the **`__iter__()`** and **`__next__()`** magic methods, you created a `Playlist` that can shuffle and play a sequence of songs.\n",
        "\n",
        "### **Handling a StopIteration error**\n",
        "\n",
        "The `Playlist` class from the previous exercise has been updated to print a message including a current song being played, and is shown below. Using this custom iterator, you'll practice handling a `StopIteration` exception gracefully."
      ],
      "metadata": {
        "id": "FfbE-I-0W0Iw"
      }
    },
    {
      "cell_type": "code",
      "source": [
        "class Playlist:\n",
        "\n",
        "    def __init__(self, songs, shuffle=False):\n",
        "        self.songs = songs\n",
        "        self.index = 0\n",
        "\n",
        "        if shuffle:\n",
        "            random.shuffle(self.songs)\n",
        "\n",
        "    def __iter__(self):\n",
        "        return self\n",
        "\n",
        "    def __next__(self):\n",
        "        if self.index >= len(self.songs):\n",
        "            raise StopIteration\n",
        "\n",
        "        print(f\"Playing {self.songs[self.index]}\")\n",
        "        self.index += 1"
      ],
      "metadata": {
        "id": "InY6-q28Wvm2"
      },
      "execution_count": null,
      "outputs": []
    },
    {
      "cell_type": "markdown",
      "source": [
        "**Instructions**\n",
        "\n",
        "- Create a `Playlist` called `classic_rock_playlist` made up of the titles in the `songs` list; make sure `classic_rock_playlist` shuffles songs.\n",
        "\n",
        "- Using a **`try-except`** block within a **`while`** loop, play the next song in `classic_rock_playlist`.\n",
        "\n",
        "- Update the **`try-except`** logic to handle a **`StopIteration`** error, printing a message, and breaking from the loop."
      ],
      "metadata": {
        "id": "GB8FQJe5XZs7"
      }
    },
    {
      "cell_type": "code",
      "source": [
        "# Create a classic rock playlist using the songs list\n",
        "songs = [\"Hooked on a Feeling\", \"Yesterday\", \"Mr. Blue Sky\"]\n",
        "classic_rock_playlist = Playlist(songs\t, shuffle=True)\n",
        "\n",
        "while True:\n",
        "    try:\n",
        "        # Play the next song in the playlist\n",
        "        next(classic_rock_playlist)\n",
        "\n",
        "    # If there is a StopIteration error, print a message and stop the playlist\n",
        "    except StopIteration:\n",
        "        print(\"Reached end of playlist!\")\n",
        "        break\n"
      ],
      "metadata": {
        "colab": {
          "base_uri": "https://localhost:8080/"
        },
        "id": "I2MKxSyLXRmG",
        "outputId": "c943a9e0-fb72-4ab7-99af-fb732b1d8863"
      },
      "execution_count": null,
      "outputs": [
        {
          "output_type": "stream",
          "name": "stdout",
          "text": [
            "Playing Hooked on a Feeling\n",
            "Playing Yesterday\n",
            "Playing Mr. Blue Sky\n",
            "Reached end of playlist!\n"
          ]
        }
      ]
    },
    {
      "cell_type": "markdown",
      "source": [
        "Implementing and handling a `StopIteration` exception helps to ensure the last element of an iterator is treated properly, and helps to avoid infinite loops.\n",
        "\n",
        "### **Creating a Lottery iterator**\n",
        "\n",
        "You've practiced building an iterator, and handling `StopIteration` exceptions when using an iterator. Now, it's time to put it all together. You'll be building a `Lottery` iterator to draw integers at random and create a winning number.\n",
        "\n",
        "#### **Instructions**\n",
        "\n",
        "- Define a magic method that returns a reference to the object, making the `Lottery` class an iterator.\n",
        "- Implement another magic method used to return the next element of the `Lottery` iterator; if `self.counter` is less than the number of digits, increment the counter and return a random integer, else raise a `StopIteration` exception.\n",
        "\n",
        "- Using a `while` loop, print the next number that will make up the winning combination.\n",
        "\n",
        "- Complete the `try-except` block to catch a `StopIteration` exception, printing a message and breaking from the `while` loop."
      ],
      "metadata": {
        "id": "Q7aZ6vNEYgUq"
      }
    },
    {
      "cell_type": "code",
      "source": [
        "import random\n",
        "\n",
        "class Lottery:\n",
        "    def __init__(self, number_digits):\n",
        "        self.number_digits = number_digits\n",
        "        self.counter = 0\n",
        "\n",
        "    def __iter__(self):\n",
        "        return self\n",
        "\n",
        "    # Check if the number of digits have been reached, or else\n",
        "    # pull another number\n",
        "    def __next__(self):\n",
        "        if self.counter < self.number_digits:\n",
        "            self.counter += 1\n",
        "            return random.randint(0, 9)\n",
        "\n",
        "        raise StopIteration\n",
        "\n",
        "charity_lottery = Lottery(4)\n",
        "\n",
        "# Announce all four numbers\n",
        "while True:\n",
        "    try:\n",
        "        print(next(charity_lottery))\n",
        "\n",
        "    # Handle the last element of the iterator, print a message\n",
        "    except StopIteration:\n",
        "        print(\"... is the winner!\")\n",
        "        break\n",
        "\n"
      ],
      "metadata": {
        "colab": {
          "base_uri": "https://localhost:8080/"
        },
        "id": "kNXtdtjiYaYX",
        "outputId": "222f5cf6-3d58-4bf8-cbe5-9ae0ed01953b"
      },
      "execution_count": null,
      "outputs": [
        {
          "output_type": "stream",
          "name": "stdout",
          "text": [
            "5\n",
            "3\n",
            "0\n",
            "0\n",
            "... is the winner!\n"
          ]
        }
      ]
    },
    {
      "cell_type": "markdown",
      "source": [
        "Not only did you build an iterator, but you traversed its elements to mimic a lottery drawing.\n",
        "\n",
        "# **Abstract base classes**\n",
        "\n",
        "Abstract base classes allow you to:\n",
        "\n",
        "- Define a common interface that all subclasses must follow.\n",
        "\n",
        "- Enforce the implementation of specific methods in subclasses.\n",
        "\n"
      ],
      "metadata": {
        "id": "2TO6z4LsaZlr"
      }
    },
    {
      "cell_type": "code",
      "source": [
        "from abc import ABC, abstractmethod"
      ],
      "metadata": {
        "id": "89YlGg6WPZzg"
      },
      "execution_count": null,
      "outputs": []
    },
    {
      "cell_type": "code",
      "source": [
        "class School(ABC):\n",
        "\n",
        "    @abstractmethod\n",
        "    def enroll(self):\n",
        "        pass #  Since it is implemented later, common practice is to only have \"pass\"\n",
        "\n",
        "    # Concrete methods are inherited\n",
        "    def graduate(self):\n",
        "        print(\"Congratulations!\")\n",
        "\n",
        "class Highschool(School):\n",
        "\n",
        "    def enroll(self): # Must have the same name for abstract method\n",
        "        print('Welcome to the Highschool!')\n",
        "\n",
        "h = Highschool()\n",
        "h.enroll()\n",
        "h.graduate()"
      ],
      "metadata": {
        "colab": {
          "base_uri": "https://localhost:8080/"
        },
        "id": "gZsz5oy4Pc_v",
        "outputId": "0acc39e9-0cc2-4d13-9a9c-2b1d5162f925"
      },
      "execution_count": null,
      "outputs": [
        {
          "output_type": "stream",
          "name": "stdout",
          "text": [
            "Welcome to the Highschool!\n",
            "Congratulations!\n"
          ]
        }
      ]
    },
    {
      "cell_type": "markdown",
      "source": [
        "## **Multiple abstract methods**"
      ],
      "metadata": {
        "id": "6CgS5dHvRNTu"
      }
    },
    {
      "cell_type": "code",
      "source": [
        "class School(ABC):\n",
        "\n",
        "    @abstractmethod\n",
        "    def enroll(self):\n",
        "        pass\n",
        "\n",
        "    @abstractmethod\n",
        "    def add_course(self, course_name):\n",
        "        pass\n",
        "\n",
        "    def graduate(self):\n",
        "        print(\"Congratulations!\")\n",
        "\n",
        "class Highschool(School):\n",
        "\n",
        "    def __init__(self):\n",
        "        self.courses = []\n",
        "\n",
        "    # Implementing abstract method\n",
        "    def enroll(self):\n",
        "        print(\"Welcome to the Highschool!\")\n",
        "\n",
        "    # Implementing abstract method\n",
        "    def add_course(self, course_name):\n",
        "        self.courses.append(course_name)\n",
        "        print(f\"You enroll in {course_name}!\")\n",
        "\n",
        "\n",
        "class Highschool(School):\n",
        "\n",
        "    def enroll(self):\n",
        "        print(\"Welcome to the Highschool!\")\n",
        "\n",
        "    def add_course(self, course_name):\n",
        "        print(f\"Congratulations on adding {course_name}!\")\n",
        "\n",
        "h = Highschool()\n",
        "h.enroll()\n",
        "h.add_course(\"Math\")\n",
        "h.graduate()"
      ],
      "metadata": {
        "colab": {
          "base_uri": "https://localhost:8080/"
        },
        "id": "KE0Y9oTiQrJF",
        "outputId": "2551bdb2-2b72-491f-e9d8-061ae5ab434c"
      },
      "execution_count": null,
      "outputs": [
        {
          "output_type": "stream",
          "name": "stdout",
          "text": [
            "Welcome to the Highschool!\n",
            "Congratulations on adding Math!\n",
            "Congratulations!\n"
          ]
        }
      ]
    },
    {
      "cell_type": "markdown",
      "source": [
        "### **Creating an Abstract Base Class**\n",
        "\n",
        "Abstract base classes are a great way to create a \"blueprint\" for a number of classes that are quite similar. In this example, you'll create an abstract base class called `Company` with one abstract and one concrete method. Good luck!\n",
        "\n",
        "#### **Instructions**\n",
        "\n",
        "* From the `abc` module, import `ABC` and `abstractmethod`.\n",
        "* Create an abstract base class called `Company` that inherits from `ABC`.\n",
        "* Define an abstract method called `create_budget()`, but use `pass` to implement no logic.\n",
        "* Create a concrete method with name `hire_employee()`."
      ],
      "metadata": {
        "id": "sB-twaYzVaeP"
      }
    },
    {
      "cell_type": "code",
      "source": [
        "# Import the ABC class and abstractmethod decorator from abc\n",
        "from abc import ABC, abstractmethod\n",
        "\n",
        "# Define an abstract base class called Company\n",
        "class Company(ABC):\n",
        "    # Create an abstract method called create_budget()\n",
        "    @abstractmethod\n",
        "    def create_budget(self):\n",
        "        pass\n",
        "\n",
        "    # Create a concrete method with name hire_employee()\n",
        "    def hire_employee(self, name):\n",
        "        print(f\"Welcome to the team, {name}!\")"
      ],
      "metadata": {
        "id": "G-cGDAnzS8o6"
      },
      "execution_count": null,
      "outputs": []
    },
    {
      "cell_type": "markdown",
      "source": [
        "You've created your first abstract base class. Now, it's time to use this class as a 'blueprint' for it's children.\n",
        "\n",
        "### **Implementing Abstract Base Classes**\n",
        "\n",
        "Now that you've built the `Company` abstract base class, it can be used as a \"blueprint\" for different companies. You'll practice doing just this by creating a `Technology` class.\n",
        "\n",
        "The `Company` class from the previous exercises has been defined for you, and looks like this:"
      ],
      "metadata": {
        "id": "ZpRXR3eaWU2h"
      }
    },
    {
      "cell_type": "code",
      "source": [
        "from abc import ABC, abstractmethod\n",
        "\n",
        "class Company(ABC):\n",
        "\n",
        "    @abstractmethod\n",
        "    def create_budget(self):\n",
        "        pass\n",
        "\n",
        "    def hire_employee(self, name):\n",
        "        print(f\"Welcome to the team, {name}!\")"
      ],
      "metadata": {
        "id": "QXmJCelKWQ_h"
      },
      "execution_count": null,
      "outputs": []
    },
    {
      "cell_type": "markdown",
      "source": [
        "**Instructions**\n",
        "\n",
        "- Create a `Technology` class that inherits from the `Company` abstract base class.\n",
        "\n",
        "-  Define the `create_budget()` method with two parameters, `year` and `expenses`.\n",
        "\n",
        "- Create an instance of the `Technology` class with name `\"Tina's Tech Advisors\".`\n",
        "\n",
        "- Call the `create_budget()` method using the provided arguments; observe the output of this method, as well as `hire_employee()`."
      ],
      "metadata": {
        "id": "CLwZIUe0Wrj7"
      }
    },
    {
      "cell_type": "code",
      "source": [
        "class Technology(Company):\n",
        "    def __init__(self, name):\n",
        "        self.name = name\n",
        "\n",
        "    def create_budget(self, year, expenses):\n",
        "        for expense, amount in expenses.items():\n",
        "            print(f\"{year} budget for {expense} is {amount}\")\n",
        "\n",
        "t = Technology(\"Tina's Tech Advisors\")\n",
        "t.create_budget(2024, {\"Salaries\": 10000, \"Supplies\": 500})\n",
        "t.hire_employee(\"Christian\")\n"
      ],
      "metadata": {
        "colab": {
          "base_uri": "https://localhost:8080/"
        },
        "id": "LKpcKT34WnxW",
        "outputId": "9db36145-1250-497b-ee37-cf5eee0f223c"
      },
      "execution_count": null,
      "outputs": [
        {
          "output_type": "stream",
          "name": "stdout",
          "text": [
            "2024 budget for Salaries is 10000\n",
            "2024 budget for Supplies is 500\n",
            "Welcome to the team, Christian!\n"
          ]
        }
      ]
    },
    {
      "cell_type": "markdown",
      "source": [
        "Using the `Company` abstract base class, you created the `Technology` class and implemented the `create_budget()` method.\n",
        "\n",
        "### **Creating a Manufacturing Company**\n",
        "\n",
        "Create an updated version of the `Company` abstract base class before creating a `Manufacturing` company.\n",
        "\n",
        "#### **Instructions**\n",
        "\n",
        "* Create a new Company abstract base class with a `pay_taxes()` abstract method\n",
        "\n",
        "* In the `Manufacturing` class, define the `pay_taxes()` method with parameter `tax_rate`, and calculate the `tax_amount` by multiplying revenue by the `tax_rate`.\n",
        "\n",
        "* Create an instance of `Manufacturing` with name `Morgan's Manufacturing` and a `revenue` of 5000.\n",
        "\n",
        "- Make a call to the `pay_taxes()` method using a `tax_rate` of `.10` and observe the output of the `report_revenue()` concrete method inherited from `Company`."
      ],
      "metadata": {
        "id": "PxBmp3TcYCWn"
      }
    },
    {
      "cell_type": "code",
      "source": [
        "class Company(ABC):\n",
        "\n",
        "    @abstractmethod\n",
        "    def pay_taxes(self):\n",
        "        pass\n",
        "\n",
        "    def report_revenue(self):\n",
        "        print(f\"{self.name} is reporting ${self.revenue} of revenue\")\n",
        "\n",
        "class Manufacturing(Company):\n",
        "\n",
        "    def __init__(self, name, revenue):\n",
        "        self.name = name\n",
        "        self.revenue = revenue\n",
        "\n",
        "\n",
        "    def pay_taxes(self, tax_rate):\n",
        "        tax_amount = self.revenue * tax_rate\n",
        "        print(f\"{self.name} is paying ${tax_amount} of taxes\")\n",
        "\n"
      ],
      "metadata": {
        "id": "E8Z1mvrNX8eu"
      },
      "execution_count": null,
      "outputs": []
    },
    {
      "cell_type": "markdown",
      "source": [
        "Creating abstract base classes defines a blueprint for all classes that inherit it, helping to provide consistent performance in your code.\n",
        "\n",
        "# **Interface**\n",
        "\n",
        "A special kind of class made up of **<u>only\n",
        "abstract methods</u>** that create a contract with\n",
        "the classes that implement the interface.\n",
        "\n",
        "## **Informal interfaces**"
      ],
      "metadata": {
        "id": "LWIrlYTlaZTR"
      }
    },
    {
      "cell_type": "code",
      "source": [
        "class Course:\n",
        "\n",
        "    def assign_homework(self, assignment_number, due_date):\n",
        "        pass\n",
        "\n",
        "    def grade_assignment(self, assignment_number):\n",
        "        pass\n",
        "\n",
        "class ProgrammingCourse: # No inheritance here\n",
        "\n",
        "    def __init__(self, course_name):\n",
        "        self.course_name = course_name\n",
        "\n",
        "    def assign_homework(self, due_date):\n",
        "        # Some implementation of assign_homework here...\n",
        "\n",
        "    def grade_assignment(self, assignment_number):\n",
        "        # Some implementation of grade_assignment here..."
      ],
      "metadata": {
        "id": "Bw0M6ulx9-kD"
      },
      "execution_count": null,
      "outputs": []
    },
    {
      "cell_type": "markdown",
      "source": [
        "## **Formal interfaces**"
      ],
      "metadata": {
        "id": "cjBSvfre-bF3"
      }
    },
    {
      "cell_type": "code",
      "source": [
        "from abc import ABC, abstractmethod\n",
        "\n",
        "class Course(ABC):\n",
        "\n",
        "    @abstractmethod\n",
        "    def assign_homework(self, assignment_number, due_date):\n",
        "        pass\n",
        "\n",
        "    @abstractmethod\n",
        "    def grade_assignment(self, assignment_number):\n",
        "        pass\n",
        "\n",
        "class ProgrammingCourse(Course): # must have inheritance for formal interfaces\n",
        "\n",
        "    def __init__(self, course_name):\n",
        "        self.course_name = course_name\n",
        "\n",
        "    def assign_homework(self, due_date):\n",
        "        # Some implementation of assign_homework here...\n",
        "\n",
        "    def grade_assignment(self, assignment_number):\n",
        "        # Some implementation of grade_assignment here...\n",
        "\n",
        "intermediate_oop = ProgrammingCourse(\"Intermediate Object-Oriented Programming\")"
      ],
      "metadata": {
        "id": "7d9cnZ0K-vWO"
      },
      "execution_count": 3,
      "outputs": []
    },
    {
      "cell_type": "markdown",
      "source": [
        "### **Informal interfaces**\n",
        "\n",
        "Informal interfaces provide a set of methods that must be defined in all classes that implement that interface. Below is a class named `Supplier` that will act as an informal interface. In order for `YogurtSupplier` to fulfill the contract set out by the `Supplier` interface, it must define the methods `take_order()` and `make_delivery()`."
      ],
      "metadata": {
        "id": "T3niaBo7_x-Y"
      }
    },
    {
      "cell_type": "code",
      "source": [
        "class Supplier:\n",
        "\n",
        "    def take_order(self, product_name, quantity):\n",
        "        pass\n",
        "\n",
        "    def make_delivery(self, order_id, location):\n",
        "        pass"
      ],
      "metadata": {
        "id": "oROlFJ63-6mU"
      },
      "execution_count": 4,
      "outputs": []
    },
    {
      "cell_type": "markdown",
      "source": [
        "**Instructions**\n",
        "\n",
        "- In the `YogurtSupplier` class, define the `take_order()` method to add an order to the `self.orders` dictionary.\n",
        "\n",
        "- Complete the contract set out by the `Supplier` interface by defining a `make_delivery()` method to print a message and delete the order stored using `order_id` from `self.orders`."
      ],
      "metadata": {
        "id": "SEzZSpEWCU-f"
      }
    },
    {
      "cell_type": "code",
      "source": [
        "class YogurtSupplier:\n",
        "    def __init__(self):\n",
        "        self.orders = {}\n",
        "\n",
        "    # Finish defining the take_order() method\n",
        "    def take_order(self, product_name, quantity):\n",
        "        self.orders[f\"{product_name}_{quantity}\"] = {\"product_name\": product_name, \"quantity\": quantity}\n",
        "\n",
        "    # Create a make_delivery() abstract method\n",
        "    def make_delivery(self, order_id, location):\n",
        "        print(f\"Delivering order: {order_id} to {location}\")\n",
        "        del self.orders[order_id]"
      ],
      "metadata": {
        "id": "H6rOB-6_ADOQ"
      },
      "execution_count": 5,
      "outputs": []
    },
    {
      "cell_type": "markdown",
      "source": [
        "The class you built informally fulfills the contract set out by the supplier class by the `Supplier` interface.\n",
        "\n",
        "### **Building a formal interface with ABC**\n",
        "\n",
        "Formal interfaces offer a more enforceable contract between an interface and any classes that implement it. You'll practice creating a formal interface made up of two abstract methods, using the `abc` module. The `ABC` class and `abstractmethod` decorator have been imported from `abc`.\n",
        "\n",
        "#### **Instructions**\n",
        "\n",
        "- Create a formal interface, called `Product`.\n",
        "\n",
        "- Define `purchase()` as an abstract method with parameters `self` and `quantity`, and add the `pass` keyword to the method body.\n",
        "\n",
        "- Define the `update_price()` abstract method, which takes parameters `self` and `new_price`."
      ],
      "metadata": {
        "id": "bxuXJne-ER33"
      }
    },
    {
      "cell_type": "code",
      "source": [
        "from abc import ABC, abstractmethod\n",
        "\n",
        "class Product(ABC):\n",
        "\n",
        "    # Define a purchase() abstract method\n",
        "    @abstractmethod\n",
        "    def purchase(self, quantity):\n",
        "        pass\n",
        "\n",
        "    # Create an update_price() abstract method\n",
        "    @abstractmethod\n",
        "    def update_price(self, new_price):\n",
        "        pass"
      ],
      "metadata": {
        "id": "ZP9KpuV6EOTa"
      },
      "execution_count": 6,
      "outputs": []
    },
    {
      "cell_type": "markdown",
      "source": [
        "### **Implementing a formal interface with ABC**\n",
        "\n",
        "Implement a formal interface created using the `ABC` class and the `@abstractmethod` decorator. The `Business` interface has been created for you."
      ],
      "metadata": {
        "id": "8WbtBjMGF4jb"
      }
    },
    {
      "cell_type": "code",
      "source": [
        "class Business(ABC):\n",
        "\n",
        "    @abstractmethod\n",
        "    def sell_product(self, product_name, price, quantity):\n",
        "        pass"
      ],
      "metadata": {
        "id": "63e-X3DyFyWX"
      },
      "execution_count": 7,
      "outputs": []
    },
    {
      "cell_type": "markdown",
      "source": [
        "**Instructions 1/2**\n",
        "\n",
        "- Create a `Bakery` class that implements the `Business` interface; do not yet define the `sell_product()` method.\n",
        "\n",
        "- Attempt to create an instance of the `Bakery` class in a `try-except` block; observe the exception that is thrown."
      ],
      "metadata": {
        "id": "nGZfgbsiGKyM"
      }
    },
    {
      "cell_type": "code",
      "source": [
        "# Create a class that inherits the Business interface\n",
        "class Bakery(Business):\n",
        "    def __init__(self, business_name):\n",
        "        self.business_name = business_name\n",
        "\n",
        "# Attempt to create a Bakery object, observe the exception\n",
        "try:\n",
        "    blue_eyed_baker = Bakery(\"Blue Eyed Baker\")\n",
        "except Exception as e:\n",
        "    print(e)\n"
      ],
      "metadata": {
        "colab": {
          "base_uri": "https://localhost:8080/"
        },
        "id": "jypr0BAmGHDg",
        "outputId": "afcfc458-aaf5-42d6-a8b8-bcda2f784b91"
      },
      "execution_count": 8,
      "outputs": [
        {
          "output_type": "stream",
          "name": "stdout",
          "text": [
            "Can't instantiate abstract class Bakery with abstract method sell_product\n"
          ]
        }
      ]
    },
    {
      "cell_type": "markdown",
      "source": [
        "**Instructions**\n",
        "\n",
        "- Fix the previous error by defining a `sell_product()` method in `Bakery`; calculate the total revenue from the transaction, and output a message.\n",
        "\n",
        "- Validate the `Business` interface was successfully implemented by creating a `Bakery` object."
      ],
      "metadata": {
        "id": "k57P0wHiHLEH"
      }
    },
    {
      "cell_type": "code",
      "source": [
        "class Bakery(Business):\n",
        "    def __init__(self, business_name):\n",
        "        self.business_name = business_name\n",
        "\n",
        "    # Provide a definition of the sell_product() method\n",
        "    def sell_product(self, product_name, price, quantity):\n",
        "        total_revenue = price * quantity\n",
        "        print(f\"\"\"{self.business_name} sold {quantity} {product_name} for a total of ${total_revenue}\"\"\")\n",
        "\n",
        "# Attempt to create a Bakery object\n",
        "blue_eyed_baker = Bakery(\"Blue Eyed Baker\")\n",
        "blue_eyed_baker.sell_product(\"cake\", 10, 12)\n"
      ],
      "metadata": {
        "colab": {
          "base_uri": "https://localhost:8080/"
        },
        "id": "8b81tp42HGZK",
        "outputId": "7382e6d2-ecfc-4574-ca13-100f8b7bf7d7"
      },
      "execution_count": 10,
      "outputs": [
        {
          "output_type": "stream",
          "name": "stdout",
          "text": [
            "Blue Eyed Baker sold 12 cake for a total of $120\n"
          ]
        }
      ]
    },
    {
      "cell_type": "markdown",
      "source": [
        "Formal interfaces created using abstract methods enforce the contract between the interface and a class by raising an exception if the contract is violated.\n",
        "\n",
        "# **Factory Methods**\n",
        "\n",
        "- To create objects that are used in another method.\n",
        "- All objects returned by factory methods must implement the same interface.\n",
        "- Use `_` to denote a factory method\n",
        "\n",
        "## **Why should we use factory methods?**\n",
        "\n",
        "Consider the following code which has a repetitive conditional logic in a method."
      ],
      "metadata": {
        "id": "CADJCzgAIBAf"
      }
    },
    {
      "cell_type": "code",
      "source": [
        "class Student:\n",
        "\n",
        "    # Conditional logic with similar behavior for all conditions\n",
        "    def explore_topic(self, resource_type, topic):\n",
        "        if resource_type == \"Textbook\":\n",
        "            print(f\"Referencing {topic} using a textbook\")\n",
        "            self.reference_textbook(topic)\n",
        "        elif resource_type == \"Blog\":\n",
        "            print(f\"Make sure to validate information provided in blogs!\")\n",
        "            self.reference_blog(topic)\n",
        "        elif resource_type == \"Video\":\n",
        "            self.reference_video(topic)"
      ],
      "metadata": {
        "id": "L1C9pyJvH1ML"
      },
      "execution_count": null,
      "outputs": []
    },
    {
      "cell_type": "markdown",
      "source": [
        "There are 3 different methods, `.reference_textbook()`, `.reference_blog()`, and `.reference_video()`  with repetitive logic.\n",
        "\n",
        "## **Creating classes that are returned by factory methods**"
      ],
      "metadata": {
        "id": "BdiJ4-hsZLRY"
      }
    },
    {
      "cell_type": "code",
      "source": [
        "from abc import ABC, abstractmethod\n",
        "\n",
        "class Resource(ABC):\n",
        "\n",
        "    @abstractmethod\n",
        "    def reference(self, topic):\n",
        "        pass\n",
        "\n",
        "class Textbook(Resource):\n",
        "\n",
        "    def __init__(self):\n",
        "        self.index = {\"Object-oriented Programming\": [\"Inheritance\", \"Constructors\", \"Class-level methods\"]}\n",
        "\n",
        "    def reference(self, topic):\n",
        "        print(f\"Referencing {topic} using a textbook\")\n",
        "        return self.index.get(topic)\n",
        "\n",
        "class Blog(Resource):\n",
        "\n",
        "    def __init__(self):\n",
        "        self.index = {\"Object-oriented Programming\": [\"Classes\", \"Methods\", \"Attributes\", \"self\"]}\n",
        "\n",
        "    def reference(self, topic):\n",
        "        print(f\"Referencing {topic} using blog\")\n",
        "        return self.index.get(topic)\n",
        "\n",
        "class Video(Resource):\n",
        "\n",
        "    def __init__(self):\n",
        "        self.index = {\"Object-oriented Programming\": [\"Conference\", \"Presentation\"]}\n",
        "\n",
        "    def reference(self, topic):\n",
        "        print(f\"Referencing {topic} using a video\")\n",
        "        return self.index.get(topic)"
      ],
      "metadata": {
        "id": "5Aaost-TZi0Z"
      },
      "execution_count": 6,
      "outputs": []
    },
    {
      "cell_type": "markdown",
      "source": [
        "## **Creating a factory method**"
      ],
      "metadata": {
        "id": "wW7lqKJyozg8"
      }
    },
    {
      "cell_type": "code",
      "source": [
        "class Student:\n",
        "\n",
        "    # Factory method to return Resource\n",
        "    def _get_resource(self, resource_type):\n",
        "        if resource_type == \"Textbook\":\n",
        "            return Textbook()\n",
        "        elif resource_type == \"Blog\":\n",
        "            return Blog()\n",
        "        elif resource_type == \"Video\":\n",
        "            return Video()\n",
        "\n",
        "    def explore_topic(self, resource_type, topic):\n",
        "        resource = self._get_resource(resource_type) # Retrieve the resource\n",
        "        return resource.reference(topic)"
      ],
      "metadata": {
        "id": "08Q020JtnsZW"
      },
      "execution_count": 7,
      "outputs": []
    },
    {
      "cell_type": "markdown",
      "source": [
        "## **Using factory methods**"
      ],
      "metadata": {
        "id": "BoEuq3yJpsG_"
      }
    },
    {
      "cell_type": "code",
      "source": [
        "# Create a Student object, then have it reference a textbook\n",
        "lester = Student()\n",
        "lester.explore_topic(\"Textbook\", \"Object-oriented Programming\")"
      ],
      "metadata": {
        "colab": {
          "base_uri": "https://localhost:8080/"
        },
        "id": "5CJNJhOvqESg",
        "outputId": "bc1c60c7-6773-4373-8c2f-af87f358709e"
      },
      "execution_count": 10,
      "outputs": [
        {
          "output_type": "stream",
          "name": "stdout",
          "text": [
            "Referencing Object-oriented Programming using a textbook\n"
          ]
        },
        {
          "output_type": "execute_result",
          "data": {
            "text/plain": [
              "['Inheritance', 'Constructors', 'Class-level methods']"
            ]
          },
          "metadata": {},
          "execution_count": 10
        }
      ]
    },
    {
      "cell_type": "code",
      "source": [
        "# Each to switch to another resource\n",
        "lester.explore_topic(\"Video\", \"Object-oriented Programming\")"
      ],
      "metadata": {
        "colab": {
          "base_uri": "https://localhost:8080/"
        },
        "id": "Zs8F6-9kqDPy",
        "outputId": "340b7a9c-a34b-49ad-9e70-61e67e23c942"
      },
      "execution_count": 11,
      "outputs": [
        {
          "output_type": "stream",
          "name": "stdout",
          "text": [
            "Referencing Object-oriented Programming using a video\n"
          ]
        },
        {
          "output_type": "execute_result",
          "data": {
            "text/plain": [
              "['Conference', 'Presentation']"
            ]
          },
          "metadata": {},
          "execution_count": 11
        }
      ]
    },
    {
      "cell_type": "markdown",
      "source": [
        "### **Building a factory method**\n",
        "\n",
        "Start by creating a `Checkout` class, using the factory method design pattern. The following `Customer` interface has been defined for you, along with the `RewardsMember` and `NewCustomer` concrete products."
      ],
      "metadata": {
        "id": "O1_h1VbYqqkJ"
      }
    },
    {
      "cell_type": "code",
      "source": [
        "from abc import ABC, abstractmethod\n",
        "\n",
        "class Customer(ABC):\n",
        "\n",
        "    @abstractmethod\n",
        "    def make_payment(self, price):\n",
        "        pass\n",
        "\n",
        "class RewardsMember(Customer):\n",
        "\n",
        "    def make_payment(self, price):\n",
        "        print(f\"\"\"Total price for rewards member is ${price * .90}, which is 10% off\"\"\")\n",
        "\n",
        "class NewCustomer(Customer):\n",
        "\n",
        "    def make_payment(self, price):\n",
        "      print(f\"\"\"Total price for new customer is ${price}\"\"\")"
      ],
      "metadata": {
        "id": "nBBPTHgFqfeQ"
      },
      "execution_count": 13,
      "outputs": []
    },
    {
      "cell_type": "markdown",
      "source": [
        "**Instructions**\n",
        "\n",
        "* Create a `_get_customer()` factory method that takes a `customer_type`, and returns an object of the appropriate concrete product.\n",
        "\n",
        "* In the `complete_transaction()` method, use the previously-defined factory method to return a customer, then, make a payment using the `price` passed into the `make_payment()` method."
      ],
      "metadata": {
        "id": "dnJBIFhyrTK2"
      }
    },
    {
      "cell_type": "code",
      "source": [
        "class Checkout:\n",
        "    # Create a _get_customer() factory method\n",
        "    def _get_customer(self, customer_type):\n",
        "        if customer_type == \"Rewards Member\":\n",
        "            return RewardsMember()\n",
        "        elif customer_type == \"New Customer\":\n",
        "            return NewCustomer()\n",
        "\n",
        "    # Define the complete_transaction() method\n",
        "    def complete_transaction(self, customer_type, price):\n",
        "        customer = self._get_customer(customer_type)\n",
        "        customer.make_payment(price)\n",
        "\n",
        "s = Checkout()\n",
        "s.complete_transaction(\"Rewards Member\", 100)"
      ],
      "metadata": {
        "colab": {
          "base_uri": "https://localhost:8080/"
        },
        "id": "t3cNnTB5rASk",
        "outputId": "d221659e-342f-49e0-e464-f35c431cfa0b"
      },
      "execution_count": 15,
      "outputs": [
        {
          "output_type": "stream",
          "name": "stdout",
          "text": [
            "Total price for rewards member is $90.0, which is 10% off\n"
          ]
        }
      ]
    },
    {
      "cell_type": "markdown",
      "source": [
        "Factory methods make it easy to handle multiple scenarios in a single method without the need for significant conditional logic.\n",
        "\n",
        "### **Building a data pipeline**\n",
        "\n",
        "Using factory methods not only makes code easier to read, it also makes it easier to use. In this example, you'll get to practice creating a data pipeline that extracts data from a database. The `DataPipeline` class implements a factory method design pattern, and is shown here. Also defined for you are two concrete products of the `Database` class; `Postgres` and `Redshift`."
      ],
      "metadata": {
        "id": "wP9xVSOGs7UA"
      }
    },
    {
      "cell_type": "code",
      "source": [
        "# Note: The source code is not directly available on Datacamp browser.\n",
        "from abc import ABC, abstractmethod\n",
        "\n",
        "class Database(ABC):\n",
        "\n",
        "    @abstractmethod\n",
        "    def query_data(self, query):\n",
        "        pass\n",
        "\n",
        "class Postgres(Database):\n",
        "\n",
        "    def query_data(self, query):\n",
        "        print(\"\\nMade connection to Postgres using psycopg2\")\n",
        "        print(f\"Executing {query} against row-oriented database\")\n",
        "\n",
        "class Redshift(Database):\n",
        "\n",
        "    def query_data(self, query):\n",
        "        print(\"\\nMade connection to Redshift using boto3...\")\n",
        "\n",
        "        if \"* FROM\" in query:\n",
        "            print(\"WARNING: Try not to select all columns when using Redshift\")\n",
        "        print(f\"Executing {query} against column-oriented warehouse\")"
      ],
      "metadata": {
        "id": "vKkO2qE-vhpe"
      },
      "execution_count": 16,
      "outputs": []
    },
    {
      "cell_type": "code",
      "source": [
        "class DataPipeline:\n",
        "\n",
        "    def _get_database(self, provider):\n",
        "        if provider == \"Postgres\":\n",
        "            return Postgres()\n",
        "        elif provider == \"Redshift\":\n",
        "            return Redshift()\n",
        "\n",
        "    def extract_data(self, provider, query):\n",
        "        database = self._get_database(provider)\n",
        "        dataset = database.query_data(query)\n",
        "        print(f\"Extracted dataset from {provider} database\")\n",
        "        return dataset"
      ],
      "metadata": {
        "id": "Nh0UzCtfszwy"
      },
      "execution_count": 17,
      "outputs": []
    },
    {
      "cell_type": "markdown",
      "source": [
        "**Instructions**\n",
        "\n",
        "* Create an `items_pipeline` using the `DataPipeline` class, extract a dataset from a `\"Redshift\"` database with the query `SELECT * FROM items;`.\n",
        "\n",
        "* Update the `items_pipeline` to pull from a `\"Postgres\"` database instead, using the same query as before.\n",
        "\n",
        "* Create an `etl_pipeline` that extracts data from `\"Redshift\"`."
      ],
      "metadata": {
        "id": "lb0t-iXzxzZT"
      }
    },
    {
      "cell_type": "code",
      "source": [
        "# Create an ETL DataPipeline, query using Redshift\n",
        "items_pipeline = DataPipeline()\n",
        "items_pipeline.extract_data(\"Redshift\", \"SELECT * FROM items;\")\n",
        "\n",
        "# Now, switch the pipeline to Postgres\n",
        "items_pipeline.extract_data(\"Postgres\", \"SELECT * FROM items;\")\n",
        "\n",
        "# Finally, create an etl_pipeline with Redshift\n",
        "etl_pipeline = DataPipeline()\n",
        "etl_pipeline.extract_data(\"Redshift\", \"SELECT * FROM sales;\")\n"
      ],
      "metadata": {
        "colab": {
          "base_uri": "https://localhost:8080/"
        },
        "id": "d1yfapANxnRJ",
        "outputId": "898824eb-4196-4a8e-d0f3-d8a89c2f9393"
      },
      "execution_count": 18,
      "outputs": [
        {
          "output_type": "stream",
          "name": "stdout",
          "text": [
            "\n",
            "Made connection to Redshift using boto3...\n",
            "WARNING: Try not to select all columns when using Redshift\n",
            "Executing SELECT * FROM items; against column-oriented warehouse\n",
            "Extracted dataset from Redshift database\n",
            "\n",
            "Made connection to Postgres using psycopg2\n",
            "Executing SELECT * FROM items; against row-oriented database\n",
            "Extracted dataset from Postgres database\n",
            "\n",
            "Made connection to Redshift using boto3...\n",
            "WARNING: Try not to select all columns when using Redshift\n",
            "Executing SELECT * FROM sales; against column-oriented warehouse\n",
            "Extracted dataset from Redshift database\n"
          ]
        }
      ]
    },
    {
      "cell_type": "markdown",
      "source": [
        "See how simple factory methods can make your code? By changing a single parameter, you can change the source system you're extracting data from in a data pipeline.\n",
        "\n",
        "### **Creating a ChatBot**\n",
        "\n",
        "Large language models, or LLM's are generative AI tools that can perform tasks such as text summarization and sentence completion with a simple call to an API. Design a `ChatBot` class that leverages a factory method to \"hot-swap\" LLM's in order to perform sentence completion. Below is the `LLM` \"product\" interface that has been created for you."
      ],
      "metadata": {
        "id": "efZEJNLgzvFk"
      }
    },
    {
      "cell_type": "code",
      "source": [
        "from abc import ABC, abstractmethod\n",
        "\n",
        "class LLM(ABC):\n",
        "\n",
        "  @abstractmethod\n",
        "  def complete_sentence(self, prompt):\n",
        "      pass"
      ],
      "metadata": {
        "id": "p0zZ9sbizjV8"
      },
      "execution_count": 19,
      "outputs": []
    },
    {
      "cell_type": "markdown",
      "source": [
        "**Instructions**\n",
        "\n",
        "- Complete implementing the `LLM` interface for the `OpenAI` and `Anthropic` concrete products by creating a `complete_sentence()` method that takes a `prompt`, and returns the completed sentence.\n",
        "\n",
        "- Define a factory method `_get_llm()` that takes a `provider` and returns an object of the appropriate concrete product class (either `OpenAI()` or `Anthropic()`).\n",
        "\n",
        "- Define the `chat()` method to take a `prompt` and `provider`; pass `provider` to the factory method, and call the `complete_sentence()` method of the concrete product object."
      ],
      "metadata": {
        "id": "XFMiTqr10OUO"
      }
    },
    {
      "cell_type": "code",
      "source": [
        "class OpenAI(LLM):\n",
        "    def complete_sentence(self, prompt):\n",
        "        return prompt + \" ... OpenAI end of sentence.\"\n",
        "\n",
        "class Anthropic(LLM):\n",
        "    def complete_sentence(self, prompt):\n",
        "        return prompt + \" ... Anthropic end of sentence.\"\n",
        "\n",
        "class ChatBot:\n",
        "    def _get_llm(self, provider):\n",
        "        if provider == \"OpenAI\":\n",
        "            return OpenAI()\n",
        "        elif provider == \"Anthropic\":\n",
        "            return Anthropic()\n",
        "\n",
        "    def chat(self, prompt, provider):\n",
        "        # Return an llm object, then call complete_sentence()\n",
        "        llm = self._get_llm(provider)\n",
        "        return llm.complete_sentence(prompt)\n",
        "\n",
        "a = ChatBot()\n",
        "a.chat(\"What is the meaning of life?\", \"OpenAI\")\n"
      ],
      "metadata": {
        "colab": {
          "base_uri": "https://localhost:8080/",
          "height": 36
        },
        "id": "Sox5MFL90LQ5",
        "outputId": "98e87763-54c7-46a8-fe42-06ef76bccdb0"
      },
      "execution_count": 20,
      "outputs": [
        {
          "output_type": "execute_result",
          "data": {
            "text/plain": [
              "'What is the meaning of life? ... OpenAI end of sentence.'"
            ],
            "application/vnd.google.colaboratory.intrinsic+json": {
              "type": "string"
            }
          },
          "metadata": {},
          "execution_count": 20
        }
      ]
    },
    {
      "cell_type": "markdown",
      "source": [
        "Using an interface and factory method in tandem, you built a chat bot that can use multiple generative AI providers to complete a sentence."
      ],
      "metadata": {
        "id": "1tPPUDSj6rg9"
      }
    }
  ]
}