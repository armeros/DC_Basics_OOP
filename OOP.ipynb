{
  "nbformat": 4,
  "nbformat_minor": 0,
  "metadata": {
    "colab": {
      "name": "OOP",
      "provenance": []
    },
    "kernelspec": {
      "name": "python3",
      "display_name": "Python 3"
    },
    "language_info": {
      "name": "python"
    }
  },
  "cells": [
    {
      "cell_type": "markdown",
      "metadata": {
        "id": "nEe0NKevqwqk"
      },
      "source": [
        "# ต้องเขียนเอง อันนี้ไม่รู้วิธีเอาต้นฉบับออกมา หรืออาจจะมีให้ทีหลัง"
      ]
    },
    {
      "cell_type": "code",
      "metadata": {
        "id": "IBcMJfIcjeBF"
      },
      "source": [
        "class Employee:\n",
        "    \"\"\"\n",
        "    Class representing a company employee. \n",
        "\n",
        "    Attributes\n",
        "    ----------\n",
        "    name : str \n",
        "        Employee's name        \n",
        "    email : str, default None\n",
        "        Employee's email\n",
        "    salary : float, default None\n",
        "        Employee's salary\n",
        "    rank : int, default 5\n",
        "        The rank of the employee in the company hierarchy (1 -- CEO, 2 -- direct reports of CEO, 3 -- direct reports of direct reports of CEO etc). Cannot be None if the employee is current.\n",
        "   \n",
        "    ----------------------------------------------------------------------\n",
        "    \"\"\"\n",
        "    def __init__(self, name, email=None, salary=None, rank=5):\n",
        "        \"\"\"Create an Employee object\"\"\"\n",
        "        self.name, self.email, self.salary, self.rank = name, email, salary, rank\n",
        "    \n",
        "    def give_raise(self, amount):\n",
        "        \"\"\"Raise employee's salary by a certain `amount`. Can only be used with current employees.\n",
        "       \n",
        "       Example usage:\n",
        "         # emp is an Employee object\n",
        "         emp.give_raise(1000)\"\"\"\n",
        "        if self.salary is not None:\n",
        "            self.salary += amount\n",
        "    \n",
        "    def promote(self):\n",
        "        \"\"\"Promote an employee to the next level of the company hierarchy. Decreases the rank of the employee by 1. Can only be used on current employeed who are not at the top of the hierarchy.\n",
        "       \n",
        "       Example usage:\n",
        "           # emp is an Employee object\n",
        "           emp.promote()\"\"\"\n",
        "        if (self.rank is not None) & (self.rank > 1):\n",
        "            self.rank -= 1\n",
        "    \n",
        "    def terminate(self):\n",
        "        \"\"\"Terminate the employee. Sets salary and rank to None..\n",
        "       \n",
        "       Example usage:\n",
        "          # emp is an Employee object\n",
        "          emp.terminate()\"\"\"\n",
        "        self.salary, self.rank = None, None\n",
        "        \n",
        "mystery = Employee(name=\"Natasha Ting\", salary=73500.0)\n"
      ],
      "execution_count": null,
      "outputs": []
    },
    {
      "cell_type": "code",
      "metadata": {
        "colab": {
          "base_uri": "https://localhost:8080/"
        },
        "id": "UPmmmDdXprNK",
        "outputId": "77529d77-925e-45d5-e979-8117a668b129"
      },
      "source": [
        "# Print the mystery employee's name\n",
        "print(mystery.name)\n",
        "\n",
        "# Print the mystery employee's salary\n",
        "print(mystery.salary)\n",
        "\n",
        "# Give the mystery employee a raise of $2500\n",
        "mystery.give_raise(2500)\n",
        "\n",
        "# Print the salary again\n",
        "print(mystery.salary)"
      ],
      "execution_count": null,
      "outputs": [
        {
          "output_type": "stream",
          "text": [
            "Natasha Ting\n",
            "73500.0\n",
            "76000.0\n"
          ],
          "name": "stdout"
        }
      ]
    },
    {
      "cell_type": "code",
      "metadata": {
        "colab": {
          "base_uri": "https://localhost:8080/"
        },
        "id": "HuW-GlHvp24q",
        "outputId": "3dd2fb2f-4eb3-444c-a50c-6c69a131ebff"
      },
      "source": [
        "class MyCounter:\n",
        "    def set_count(self, n):\n",
        "        self.count = n\n",
        "mc = MyCounter()\n",
        "mc.set_count(5)\n",
        "mc.count = mc.count + 1\n",
        "print(mc.count)"
      ],
      "execution_count": null,
      "outputs": [
        {
          "output_type": "stream",
          "text": [
            "6\n"
          ],
          "name": "stdout"
        }
      ]
    },
    {
      "cell_type": "markdown",
      "metadata": {
        "id": "lX4FrDUMNYsY"
      },
      "source": [
        "### Notice how you used ```self.count``` to refer to the count attribute **inside** a class definition, and ```mc.count``` to refer to the count attribute of an object."
      ]
    },
    {
      "cell_type": "code",
      "metadata": {
        "colab": {
          "base_uri": "https://localhost:8080/"
        },
        "id": "n53F4h9zNDq9",
        "outputId": "8a04ae4d-1426-44c3-ec0a-424e38b709ee"
      },
      "source": [
        "class Employee:\n",
        "  \n",
        "    def set_name(self, new_name):\n",
        "        self.name = new_name\n",
        "  \n",
        "  # Add set_salary() method\n",
        "    def set_salary(self, new_salary):\n",
        "        self.salary = new_salary\n",
        "  \n",
        "  \n",
        "# Create an object emp of class Employee  \n",
        "emp = Employee()\n",
        "\n",
        "# Use set_name to set the name of emp to 'Korel Rossi'\n",
        "emp.set_name('Korel Rossi')\n",
        "\n",
        "# Set the salary of emp to 50000\n",
        "emp.set_salary(50000)\n",
        "dir(emp)"
      ],
      "execution_count": null,
      "outputs": [
        {
          "output_type": "execute_result",
          "data": {
            "text/plain": [
              "['__class__',\n",
              " '__delattr__',\n",
              " '__dict__',\n",
              " '__dir__',\n",
              " '__doc__',\n",
              " '__eq__',\n",
              " '__format__',\n",
              " '__ge__',\n",
              " '__getattribute__',\n",
              " '__gt__',\n",
              " '__hash__',\n",
              " '__init__',\n",
              " '__init_subclass__',\n",
              " '__le__',\n",
              " '__lt__',\n",
              " '__module__',\n",
              " '__ne__',\n",
              " '__new__',\n",
              " '__reduce__',\n",
              " '__reduce_ex__',\n",
              " '__repr__',\n",
              " '__setattr__',\n",
              " '__sizeof__',\n",
              " '__str__',\n",
              " '__subclasshook__',\n",
              " '__weakref__',\n",
              " 'name',\n",
              " 'salary',\n",
              " 'set_name',\n",
              " 'set_salary']"
            ]
          },
          "metadata": {
            "tags": []
          },
          "execution_count": 4
        }
      ]
    },
    {
      "cell_type": "markdown",
      "metadata": {
        "id": "J1c1nJ1YPvnK"
      },
      "source": [
        "### Try running dir(emp) in the console and see if you can find where these attributes and methods pop up!"
      ]
    },
    {
      "cell_type": "code",
      "metadata": {
        "colab": {
          "base_uri": "https://localhost:8080/"
        },
        "id": "NXj4F0WMPhAU",
        "outputId": "a0a5ce63-1cda-45a7-90d2-9ad3cdec0f56"
      },
      "source": [
        "class Employee:\n",
        "    def set_name(self, new_name):\n",
        "        self.name = new_name\n",
        "\n",
        "    def set_salary(self, new_salary):\n",
        "        self.salary = new_salary \n",
        "\n",
        "    def give_raise(self, amount):\n",
        "        self.salary = self.salary + amount\n",
        "\n",
        "    # Add monthly_salary method that returns 1/12th of salary attribute\n",
        "    def monthly_salary(self):\n",
        "        return self.salary/12\n",
        "\n",
        "    \n",
        "emp = Employee()\n",
        "emp.set_name('Korel Rossi')\n",
        "emp.set_salary(50000)\n",
        "\n",
        "# Get monthly salary of emp and assign to mon_sal\n",
        "mon_sal = emp.monthly_salary()\n",
        "\n",
        "# Print mon_sal\n",
        "print(mon_sal)"
      ],
      "execution_count": null,
      "outputs": [
        {
          "output_type": "stream",
          "text": [
            "4166.666666666667\n"
          ],
          "name": "stdout"
        }
      ]
    },
    {
      "cell_type": "code",
      "metadata": {
        "colab": {
          "base_uri": "https://localhost:8080/"
        },
        "id": "KOhhDpZzTEyz",
        "outputId": "a9f1b34b-5314-49ec-e908-a56f244d1b45"
      },
      "source": [
        "class Employee:\n",
        "  \n",
        "    def __init__(self, name, salary=0):\n",
        "        self.name = name\n",
        "        # Modify code below to check if salary is positive\n",
        "        self.salary = salary if salary > 0 else 0, print(\"Invalid salary!\")\n",
        "\n",
        "   \n",
        "   # ...Other methods omitted for brevity ...\n",
        "      \n",
        "emp = Employee(\"Korel Rossi\", -1000)\n",
        "print(emp.name)\n",
        "print(emp.salary[0]) # เพราะการเขียนแบบข้างต้นไปเปลี่ยนให้ self.salary เป็น tuple\n",
        "print(emp.salary)"
      ],
      "execution_count": null,
      "outputs": [
        {
          "output_type": "stream",
          "text": [
            "Invalid salary!\n",
            "Korel Rossi\n",
            "0\n",
            "(0, None)\n"
          ],
          "name": "stdout"
        }
      ]
    },
    {
      "cell_type": "markdown",
      "metadata": {
        "id": "Ksxk6GggXibF"
      },
      "source": [
        "ถ้าเขียนแบบปกติ ไม่ใช้ if statement ก็แบบด้านล่างนี้"
      ]
    },
    {
      "cell_type": "code",
      "metadata": {
        "colab": {
          "base_uri": "https://localhost:8080/"
        },
        "id": "_W0o248VWhbo",
        "outputId": "ae3ee10e-a7f1-4ab7-c7bb-43708b9a3a20"
      },
      "source": [
        "class Employee:\n",
        "  \n",
        "    def __init__(self, name, salary=0):\n",
        "        self.name = name\n",
        "        # Modify code below to check if salary is positive\n",
        "        if salary > 0:\n",
        "            self.salary = salary\n",
        "        else:\n",
        "            self.salary = 0\n",
        "            print(\"Invalid salary!\")\n",
        "   # ...Other methods omitted for brevity ...\n",
        "      \n",
        "emp = Employee(\"Korel Rossi\", -1000)\n",
        "print(emp.name)\n",
        "print(emp.salary)"
      ],
      "execution_count": null,
      "outputs": [
        {
          "output_type": "stream",
          "text": [
            "Invalid salary!\n",
            "Korel Rossi\n",
            "0\n"
          ],
          "name": "stdout"
        }
      ]
    },
    {
      "cell_type": "markdown",
      "metadata": {
        "id": "uAV-otdaaax_"
      },
      "source": [
        "# You can use functions from other modules in your class definition, but you need to import the module first, and the import statement has to be ***outside*** class definition."
      ]
    },
    {
      "cell_type": "code",
      "metadata": {
        "colab": {
          "base_uri": "https://localhost:8080/"
        },
        "id": "-4HIlxtfWqhc",
        "outputId": "f50de3cf-091c-408b-fd93-979a1cc109df"
      },
      "source": [
        "# Import datetime from datetime\n",
        "from datetime import datetime\n",
        "\n",
        "class Employee:\n",
        "    \n",
        "    def __init__(self, name, salary=0):\n",
        "        self.name = name\n",
        "        if salary > 0:\n",
        "          self.salary = salary\n",
        "        else:\n",
        "          self.salary = 0\n",
        "          print(\"Invalid salary!\")\n",
        "          \n",
        "        # Add the hire_date attribute and set it to today's date\n",
        "        self.hire_date = datetime.today()\n",
        "        \n",
        "   # ...Other methods omitted for brevity ...\n",
        "      \n",
        "emp = Employee(\"Korel Rossi\", -1000)\n",
        "print(emp.name)\n",
        "print(emp.salary)"
      ],
      "execution_count": null,
      "outputs": [
        {
          "output_type": "stream",
          "text": [
            "Invalid salary!\n",
            "Korel Rossi\n",
            "0\n"
          ],
          "name": "stdout"
        }
      ]
    },
    {
      "cell_type": "code",
      "metadata": {
        "colab": {
          "base_uri": "https://localhost:8080/"
        },
        "id": "2dkDI25-XGaJ",
        "outputId": "04aad9bc-e527-441d-db84-cea1b38bd665"
      },
      "source": [
        "# Write the class Point as outlined in the instructions\n",
        "from math import sqrt\n",
        "\n",
        "class Point:\n",
        "    def __init__(self, x=0.0, y=0.0):\n",
        "        self.x, self.y = x, y\n",
        "    def distance_to_origin(self):\n",
        "        return sqrt(self.x**2+self.y**2)\n",
        "    def reflect(self, axis):\n",
        "        if axis == \"x\":\n",
        "            self.y = -self.y \n",
        "        elif axis == \"y\":\n",
        "            self.x = -self.x \n",
        "        else:\n",
        "            print(\"Error\")\n",
        "\n",
        "pt = Point(x=3.0)\n",
        "pt.reflect(\"y\")\n",
        "print((pt.x, pt.y))\n",
        "pt.y = 4.0\n",
        "print(pt.distance_to_origin())"
      ],
      "execution_count": null,
      "outputs": [
        {
          "output_type": "stream",
          "text": [
            "(-3.0, 0.0)\n",
            "5.0\n"
          ],
          "name": "stdout"
        }
      ]
    },
    {
      "cell_type": "markdown",
      "metadata": {
        "id": "uy9ZMFB5GSwA"
      },
      "source": [
        "# Class-level attributes\n",
        "\n",
        "Class attributes store data that is shared among all the class instances. They are assigned values in the class body, and are referred to using the ```ClassName.syntax``` rather than ```self.syntax``` when used in methods."
      ]
    },
    {
      "cell_type": "code",
      "metadata": {
        "colab": {
          "base_uri": "https://localhost:8080/"
        },
        "id": "U8ZCQSOtGRb0",
        "outputId": "bd9d100e-02c5-49d0-ea04-f6ce28943be3"
      },
      "source": [
        "# Create a Player class\n",
        "class Player:\n",
        "    MAX_POSITION = 10\n",
        "    MAX_SPEED = 3\n",
        "    def __init__(self):\n",
        "        self.position = 0\n",
        "\n",
        "    # Add a move() method with steps parameter\n",
        "    def move(self, steps):\n",
        "        # if position plus steps is less than MAX_POSITION, then add steps to \n",
        "        # position and assign the result back to position.\n",
        "        if self.position + steps < Player.MAX_POSITION:\n",
        "            self.position += steps\n",
        "        else: # otherwise, set position to MAX_POSITION\n",
        "            self.position = Player.MAX_POSITION\n",
        "\n",
        "    # This method provides a rudimentary visualization in the console (โจทย์มีมาให้)  \n",
        "    def draw(self):\n",
        "        drawing = \"-\" * self.position + \"|\" +\"-\"*(Player.MAX_POSITION - self.position)\n",
        "        print(drawing)\n",
        "\n",
        "p = Player(); p.draw()\n",
        "p.move(4); p.draw()\n",
        "p.move(5); p.draw()\n",
        "p.move(3); p.draw()\n",
        "\n",
        "# Print Player.MAX_POSITION       \n",
        "print(Player.MAX_POSITION)\n",
        "\n",
        "# Create a player p and print its MAX_POSITITON\n",
        "print(p.MAX_POSITION)"
      ],
      "execution_count": null,
      "outputs": [
        {
          "output_type": "stream",
          "text": [
            "|----------\n",
            "----|------\n",
            "---------|-\n",
            "----------|\n",
            "10\n",
            "10\n"
          ],
          "name": "stdout"
        }
      ]
    },
    {
      "cell_type": "markdown",
      "metadata": {
        "id": "-pn0-PGqKphG"
      },
      "source": [
        "# Changing class attributes\n",
        "\n",
        "What will happen if you try to assign another value to a class attribute when accessing it from an instance?\n",
        "\n",
        "### If you want to change the value of the class attribute at runtime, you need to do it by referring to the ***`class name`***, not through an instance."
      ]
    },
    {
      "cell_type": "code",
      "metadata": {
        "colab": {
          "base_uri": "https://localhost:8080/"
        },
        "id": "DfUQvz0NKXAX",
        "outputId": "7b7197f1-db5b-40c4-ce7f-0bd6846c2ec0"
      },
      "source": [
        "# Create Players p1 and p2\n",
        "p1, p2 = Player(), Player()\n",
        "\n",
        "print(\"MAX_SPEED of p1 and p2 before assignment:\")\n",
        "# Print p1.MAX_SPEED and p2.MAX_SPEED\n",
        "print(p1.MAX_SPEED)\n",
        "print(p2.MAX_SPEED)\n",
        "\n",
        "# Assign 7 to p1.MAX_SPEED\n",
        "p1.MAX_SPEED = 7\n",
        "\n",
        "print(\"MAX_SPEED of p1 and p2 after assignment:\")\n",
        "# Print p1.MAX_SPEED and p2.MAX_SPEED\n",
        "print(p1.MAX_SPEED)\n",
        "print(p2.MAX_SPEED)\n",
        "\n",
        "print(\"MAX_SPEED of Player:\")\n",
        "# Print Player.MAX_SPEED\n",
        "print(Player.MAX_SPEED)"
      ],
      "execution_count": null,
      "outputs": [
        {
          "output_type": "stream",
          "text": [
            "MAX_SPEED of p1 and p2 before assignment:\n",
            "3\n",
            "3\n",
            "MAX_SPEED of p1 and p2 after assignment:\n",
            "7\n",
            "3\n",
            "MAX_SPEED of Player:\n",
            "3\n"
          ],
          "name": "stdout"
        }
      ]
    },
    {
      "cell_type": "code",
      "metadata": {
        "colab": {
          "base_uri": "https://localhost:8080/"
        },
        "id": "W4kacJ15MkIV",
        "outputId": "8e181965-3447-4b07-ed15-81fbe8c14c2b"
      },
      "source": [
        "# Create Players p1 and p2\n",
        "p1, p2 = Player(), Player()\n",
        "\n",
        "print(\"MAX_SPEED of p1 and p2 before assignment:\")\n",
        "# Print p1.MAX_SPEED and p2.MAX_SPEED\n",
        "print(p1.MAX_SPEED)\n",
        "print(p2.MAX_SPEED)\n",
        "\n",
        "# ---MODIFY THIS LINE--- \n",
        "Player.MAX_SPEED = 7\n",
        "\n",
        "print(\"MAX_SPEED of p1 and p2 after assignment:\")\n",
        "# Print p1.MAX_SPEED and p2.MAX_SPEED\n",
        "print(p1.MAX_SPEED)\n",
        "print(p2.MAX_SPEED)\n",
        "\n",
        "print(\"MAX_SPEED of Player:\")\n",
        "# Print Player.MAX_SPEED\n",
        "print(Player.MAX_SPEED)"
      ],
      "execution_count": null,
      "outputs": [
        {
          "output_type": "stream",
          "text": [
            "MAX_SPEED of p1 and p2 before assignment:\n",
            "3\n",
            "3\n",
            "MAX_SPEED of p1 and p2 after assignment:\n",
            "7\n",
            "7\n",
            "MAX_SPEED of Player:\n",
            "7\n"
          ],
          "name": "stdout"
        }
      ]
    },
    {
      "cell_type": "markdown",
      "metadata": {
        "id": "m_XlqUXHMwJ8"
      },
      "source": [
        "# @classmethod Constructors \n",
        "## (Instead of `__init__`)\n",
        "\n",
        "Using the `@classmethod` decorator and a special first argument `cls`.  \n",
        "\n",
        "## `classmethod` จะใช้ class attributes ในตัว methods __ไม่ได้__ เปรียบเสมือนเป็นการสร้างค่าตั้งต้นใหม่ ด้วยวิธีอื่นนอกเหนือไปจาก `__init__`\n",
        "\n",
        "สมมติจะเขียน `class BetterDate` ที่นอกจากจะมี attributes `year`, `month`, `day` แล้ว ยังสามารถสร้าง `BetterDate` objects จากสตริงเช่น \"2020-04-30\" ได้ด้วย\n",
        "\n",
        "*   `.split(\"-\")` method will split a string at `\"-\"` into an array, e.g. `\"2020-04-30\".split(\"-\")` returns `[\"2020\", \"04\", \"30\"]`\n",
        "*   `int()` will convert a string into a number, e.g. `int(\"2019\")` is `2019`.\n",
        "*  You also want to be able to convert a `datetime` object into a `BetterDate` object.\n"
      ]
    },
    {
      "cell_type": "code",
      "metadata": {
        "colab": {
          "base_uri": "https://localhost:8080/"
        },
        "id": "6PB4eqFrMoff",
        "outputId": "f277dd45-3ea2-4374-f3ea-ec2ff05340fd"
      },
      "source": [
        "# import datetime from datetime\n",
        "from datetime import datetime\n",
        "\n",
        "\n",
        "class BetterDate:    \n",
        "    # Constructor\n",
        "    def __init__(self, year, month, day):\n",
        "      # Recall that Python allows multiple variable assignments in one line\n",
        "      self.year, self.month, self.day = year, month, day\n",
        "    \n",
        "    # Define a class method from_str\n",
        "    @classmethod\n",
        "    def from_str(cls, datestr):\n",
        "        # Split the string at \"-\" and convert each part to integer\n",
        "        parts = datestr.split(\"-\")\n",
        "        year, month, day = int(parts[0]), int(parts[1]), int(parts[2])\n",
        "        # year, month, day = map(int, datestr.split(\"-\")) แบบนี้เร็วกว่า\n",
        "        # Return the class instance\n",
        "        return cls(year, month, day)\n",
        "\n",
        "    # Define a class method from_datetime accepting a datetime object\n",
        "    @classmethod\n",
        "    def from_datetime(cls, dateobject):\n",
        "        year, month, day = map(int, [dateobject.year, dateobject.month, dateobject.day])\n",
        "        return cls(year, month, day)\n",
        "        \n",
        "bd = BetterDate.from_str('2020-04-30')   \n",
        "print(bd.year)\n",
        "print(bd.month)\n",
        "print(bd.day)\n",
        "\n",
        "today = datetime.today()     \n",
        "bd = BetterDate.from_datetime(today)   \n",
        "print(bd.year)\n",
        "print(bd.month)\n",
        "print(bd.day)"
      ],
      "execution_count": null,
      "outputs": [
        {
          "output_type": "stream",
          "text": [
            "2020\n",
            "4\n",
            "30\n",
            "2021\n",
            "6\n",
            "3\n"
          ],
          "name": "stdout"
        }
      ]
    },
    {
      "cell_type": "markdown",
      "metadata": {
        "id": "DgJ_8ObeRDaD"
      },
      "source": [
        "There's another type of methods that are not bound to a class instance - static methods, defined with the decorator `@staticmethod`. You can read about them at https://docs.python.org/3/library/functions.html#staticmethod."
      ]
    },
    {
      "cell_type": "markdown",
      "metadata": {
        "id": "l2dJ4dkxVc1L"
      },
      "source": [
        "# Create a subclass\n",
        "\n"
      ]
    },
    {
      "cell_type": "code",
      "metadata": {
        "colab": {
          "base_uri": "https://localhost:8080/"
        },
        "id": "aqA3TFhzPedX",
        "outputId": "169cbf4e-85a7-4711-8ecc-d49747d5b00a"
      },
      "source": [
        "class Employee:\n",
        "    MIN_SALARY = 30000    \n",
        "\n",
        "    def __init__(self, name, salary=MIN_SALARY):\n",
        "        self.name = name\n",
        "        if salary >= Employee.MIN_SALARY:\n",
        "            self.salary = salary\n",
        "        else:\n",
        "            self.salary = Employee.MIN_SALARY\n",
        "          \n",
        "    def give_raise(self, amount):\n",
        "        self.salary += amount      \n",
        "        \n",
        "# Define a new EMPTY class Manager inheriting from Employee\n",
        "class Manager(Employee):\n",
        "    # add a display() method to the Manager class that just prints the string \n",
        "    # \"Manager\" followed by the full name, e.g. \"Manager Katie Flatcher\"\n",
        "    def display(self):\n",
        "        print(\"Manager\", self.name)\n",
        "\n",
        "# Define a Manager object\n",
        "mng = Manager(name=\"Debbie Lashko\", salary=86500)\n",
        "\n",
        "# Print mng's name\n",
        "print(mng.name)\n",
        "\n",
        "# Call mng.display()\n",
        "mng.display()\n",
        "\n",
        "# The Manager class now includes functionality that wasn't present \n",
        "# in the original class (the display() function)."
      ],
      "execution_count": null,
      "outputs": [
        {
          "output_type": "stream",
          "text": [
            "Debbie Lashko\n",
            "Manager Debbie Lashko\n"
          ],
          "name": "stdout"
        }
      ]
    },
    {
      "cell_type": "markdown",
      "metadata": {
        "id": "FZCD-GfXj90R"
      },
      "source": [
        "# Method inheritance"
      ]
    },
    {
      "cell_type": "code",
      "metadata": {
        "colab": {
          "base_uri": "https://localhost:8080/"
        },
        "id": "RuURalK2WDOn",
        "outputId": "51755a1c-785f-4ac5-dd81-2eff4faa4a8a"
      },
      "source": [
        "class Employee:\n",
        "    def __init__(self, name, salary=30000):\n",
        "        self.name = name\n",
        "        self.salary = salary\n",
        "\n",
        "    def give_raise(self, amount):\n",
        "        self.salary += amount\n",
        "        print(\"Employee.give_raise\")\n",
        "\n",
        "        \n",
        "class Manager(Employee):\n",
        "  # Add a constructor that accepts name, salary (default 50000), and project (default None)\n",
        "    def __init__(self, name, salary=50000, project=None):\n",
        "\n",
        "        # Call the parent's constructor   \n",
        "        Employee.__init__(self, name, salary)\n",
        "\n",
        "        # Assign project attribute\n",
        "        self.project = project\n",
        "\n",
        "    def display(self):\n",
        "        print(\"Manager \", self.name)\n",
        "\n",
        "    # Add a give_raise method\n",
        "    # accepts the same parameters as Employee.give_raise(), \n",
        "    # plus a bonus parameter with the default value of 1.05\n",
        "    def give_raise(self, amount, bonus=1.05):\n",
        "        # multiplies amount by bonus\n",
        "        amount *= bonus\n",
        "        # uses the Employee's method to raise salary by that product.\n",
        "        Employee.give_raise(self, amount)\n",
        "        print(\"Manager.give_raise\")\n",
        "\n",
        "mngr = Manager(\"Ashta Dunbar\", 78500)\n",
        "mngr.give_raise(1000)\n",
        "print(mngr.salary)\n",
        "mngr.give_raise(2000, bonus=1.03)\n",
        "print(mngr.salary)\n",
        "  "
      ],
      "execution_count": null,
      "outputs": [
        {
          "output_type": "stream",
          "text": [
            "79550.0\n",
            "81610.0\n"
          ],
          "name": "stdout"
        }
      ]
    },
    {
      "cell_type": "markdown",
      "metadata": {
        "id": "Y8wx7sslm1vK"
      },
      "source": [
        "But what if we defined Manager's'give_raise() to have 2 ***non-optional*** parameters? What would be the result of `mngr.give_raise(1000)`?\n",
        "\n",
        "\n",
        "\n",
        "*    Adding print statements to both give_raise() could help!\n",
        "\n"
      ]
    },
    {
      "cell_type": "code",
      "metadata": {
        "colab": {
          "base_uri": "https://localhost:8080/",
          "height": 212
        },
        "id": "UI8rUb5-mRXi",
        "outputId": "39183e75-315b-461c-91b4-d25b58ee0040"
      },
      "source": [
        "class Employee:\n",
        "    def __init__(self, name, salary=30000):\n",
        "        self.name = name\n",
        "        self.salary = salary\n",
        "\n",
        "    def give_raise(self, amount):\n",
        "        self.salary += amount\n",
        "        print(\"Employee.give_raise\")\n",
        "\n",
        "        \n",
        "class Manager(Employee):\n",
        "  # Add a constructor that accepts name, salary (default 50000), and project (default None)\n",
        "    def __init__(self, name, salary=50000, project=None):\n",
        "\n",
        "        # Call the parent's constructor   \n",
        "        Employee.__init__(self, name, salary)\n",
        "\n",
        "        # Assign project attribute\n",
        "        self.project = project\n",
        "\n",
        "    def display(self):\n",
        "        print(\"Manager \", self.name)\n",
        "\n",
        "    # What if we defined Manager's'give_raise() to have 2 non-optional parameters?\n",
        "    def give_raise(self, amount, bonus):\n",
        "        # multiplies amount by bonus\n",
        "        amount *= bonus\n",
        "        # uses the Employee's method to raise salary by that product.\n",
        "        Employee.give_raise(self, amount)\n",
        "        print(\"Manager.give_raise\")\n",
        "\n",
        "mngr = Manager(\"Ashta Dunbar\", 78500)\n",
        "mngr.give_raise(1000)\n",
        "  "
      ],
      "execution_count": null,
      "outputs": [
        {
          "output_type": "error",
          "ename": "TypeError",
          "evalue": "ignored",
          "traceback": [
            "\u001b[0;31m---------------------------------------------------------------------------\u001b[0m",
            "\u001b[0;31mTypeError\u001b[0m                                 Traceback (most recent call last)",
            "\u001b[0;32m<ipython-input-19-48ece335d78d>\u001b[0m in \u001b[0;36m<module>\u001b[0;34m()\u001b[0m\n\u001b[1;32m     31\u001b[0m \u001b[0;34m\u001b[0m\u001b[0m\n\u001b[1;32m     32\u001b[0m \u001b[0mmngr\u001b[0m \u001b[0;34m=\u001b[0m \u001b[0mManager\u001b[0m\u001b[0;34m(\u001b[0m\u001b[0;34m\"Ashta Dunbar\"\u001b[0m\u001b[0;34m,\u001b[0m \u001b[0;36m78500\u001b[0m\u001b[0;34m)\u001b[0m\u001b[0;34m\u001b[0m\u001b[0;34m\u001b[0m\u001b[0m\n\u001b[0;32m---> 33\u001b[0;31m \u001b[0mmngr\u001b[0m\u001b[0;34m.\u001b[0m\u001b[0mgive_raise\u001b[0m\u001b[0;34m(\u001b[0m\u001b[0;36m1000\u001b[0m\u001b[0;34m)\u001b[0m\u001b[0;34m\u001b[0m\u001b[0;34m\u001b[0m\u001b[0m\n\u001b[0m\u001b[1;32m     34\u001b[0m \u001b[0;34m\u001b[0m\u001b[0m\n",
            "\u001b[0;31mTypeError\u001b[0m: give_raise() missing 1 required positional argument: 'bonus'"
          ]
        }
      ]
    },
    {
      "cell_type": "markdown",
      "metadata": {
        "id": "T3OlJWV7G_Jm"
      },
      "source": [
        "# Inheritance of class attributes\n",
        "\n",
        "## Class attributes and methods that are shared among all the instances of a class. How do they work with inheritance?"
      ]
    },
    {
      "cell_type": "code",
      "metadata": {
        "colab": {
          "base_uri": "https://localhost:8080/"
        },
        "id": "fmSHqPnZnwOM",
        "outputId": "4611e2d3-a0f0-45ef-a3ff-e74ac8a5db21"
      },
      "source": [
        "# Create a Player class\n",
        "class Player:\n",
        "\n",
        "    MAX_POSITION = 10\n",
        "    MAX_SPEED = 3\n",
        "\n",
        "    def __init__(self):\n",
        "        self.position = 0\n",
        "\n",
        "    # Add a move() method with steps parameter\n",
        "    def move(self, steps):\n",
        "        # if position plus steps is less than MAX_POSITION, then add steps to \n",
        "        # position and assign the result back to position.\n",
        "        if self.position + steps < Player.MAX_POSITION:\n",
        "            self.position += steps\n",
        "        else: # otherwise, set position to MAX_POSITION\n",
        "            self.position = Player.MAX_POSITION\n",
        "\n",
        "    # This method provides a rudimentary visualization in the console (โจทย์มีมาให้)  \n",
        "    def draw(self):\n",
        "        drawing = \"-\" * self.position + \"|\" +\"-\"*(Player.MAX_POSITION - self.position)\n",
        "        print(drawing)\n",
        "\n",
        "# Create a Racer class and set MAX_SPEED to 5\n",
        "class Racer(Player):\n",
        "\n",
        "    MAX_SPEED = 5\n",
        "    \n",
        "# Create a Player and a Racer objects\n",
        "p = Player()\n",
        "r = Racer()\n",
        "\n",
        "print(\"p.MAX_SPEED = \", p.MAX_SPEED)\n",
        "print(\"r.MAX_SPEED = \", r.MAX_SPEED)\n",
        "\n",
        "print(\"p.MAX_POSITION = \", p.MAX_POSITION)\n",
        "print(\"r.MAX_POSITION = \", r.MAX_POSITION)"
      ],
      "execution_count": null,
      "outputs": [
        {
          "output_type": "stream",
          "text": [
            "p.MAX_SPEED =  3\n",
            "r.MAX_SPEED =  5\n",
            "p.MAX_POSITION =  10\n",
            "r.MAX_POSITION =  10\n"
          ],
          "name": "stdout"
        }
      ]
    },
    {
      "cell_type": "markdown",
      "metadata": {
        "id": "7Dmt9FlEIiIr"
      },
      "source": [
        "# Class attributes CAN be inherited, and the value of class attributes CAN be overwritten in the child class. \n",
        "\n",
        "## Notice that the value of MAX_SPEED in Player was not affected by the changes to the attribute of the same name in Racer."
      ]
    },
    {
      "cell_type": "markdown",
      "metadata": {
        "id": "JEjj1q82JFPa"
      },
      "source": [
        "# Customizing a DataFrame\n",
        "\n",
        "\n",
        "\n",
        "1.   Implement a small `LoggedDF` class that inherits from a regular pandas DataFrame but has a `created_at `attribute storing the timestamp.\n",
        "2.   You will then augment the standard `to_csv()` method to ***always include a column storing the creation date***.\n",
        "\n",
        "#### Tip: all DataFrame methods have many parameters, and it is not sustainable to copy all of them for each method you're customizing. The trick is to use variable-length arguments `*args` and `**kwargs` to catch all of them.\n",
        "\n"
      ]
    },
    {
      "cell_type": "code",
      "metadata": {
        "colab": {
          "base_uri": "https://localhost:8080/",
          "height": 157
        },
        "id": "xqHluU27IXLL",
        "outputId": "00c341d6-9ea7-4d50-e162-e0f0905e8304"
      },
      "source": [
        "# Import pandas as pd\n",
        "from datetime import datetime\n",
        "import pandas as pd\n",
        "\n",
        "# Define LoggedDF inherited from pd.DataFrame and add the constructor\n",
        "class LoggedDF(pd.DataFrame):\n",
        "    def __init__(self, *args, **kwargs):\n",
        "        pd.DataFrame.__init__(self, *args, **kwargs)\n",
        "        self.created_at = datetime.today()\n",
        "\n",
        "    def to_csv(self, *args, **kwargs):\n",
        "        # Copy self to a temporary DataFrame\n",
        "        temp = self.copy()\n",
        "        \n",
        "        # Create a new column filled with self.created_at\n",
        "        temp[\"created_at\"] = self.created_at\n",
        "        \n",
        "        # Call pd.DataFrame.to_csv on temp, passing in *args and **kwargs\n",
        "        pd.DataFrame.to_csv(temp, *args, **kwargs)\n",
        "    \n",
        "ldf = LoggedDF({\"col1\": [1,2], \"col2\": [3,4]})\n",
        "print(ldf.values)\n",
        "print(ldf.created_at)\n",
        "ldf.to_csv(\"ldf.csv\")\n",
        "pd.read_csv(\"ldf.csv\").head()"
      ],
      "execution_count": null,
      "outputs": [
        {
          "output_type": "stream",
          "text": [
            "[[1 3]\n",
            " [2 4]]\n",
            "2021-06-03 14:12:18.777808\n"
          ],
          "name": "stdout"
        },
        {
          "output_type": "execute_result",
          "data": {
            "text/html": [
              "<div>\n",
              "<style scoped>\n",
              "    .dataframe tbody tr th:only-of-type {\n",
              "        vertical-align: middle;\n",
              "    }\n",
              "\n",
              "    .dataframe tbody tr th {\n",
              "        vertical-align: top;\n",
              "    }\n",
              "\n",
              "    .dataframe thead th {\n",
              "        text-align: right;\n",
              "    }\n",
              "</style>\n",
              "<table border=\"1\" class=\"dataframe\">\n",
              "  <thead>\n",
              "    <tr style=\"text-align: right;\">\n",
              "      <th></th>\n",
              "      <th>Unnamed: 0</th>\n",
              "      <th>col1</th>\n",
              "      <th>col2</th>\n",
              "      <th>created_at</th>\n",
              "    </tr>\n",
              "  </thead>\n",
              "  <tbody>\n",
              "    <tr>\n",
              "      <th>0</th>\n",
              "      <td>0</td>\n",
              "      <td>1</td>\n",
              "      <td>3</td>\n",
              "      <td>2021-06-03 14:12:18.777808</td>\n",
              "    </tr>\n",
              "    <tr>\n",
              "      <th>1</th>\n",
              "      <td>1</td>\n",
              "      <td>2</td>\n",
              "      <td>4</td>\n",
              "      <td>2021-06-03 14:12:18.777808</td>\n",
              "    </tr>\n",
              "  </tbody>\n",
              "</table>\n",
              "</div>"
            ],
            "text/plain": [
              "   Unnamed: 0  col1  col2                  created_at\n",
              "0           0     1     3  2021-06-03 14:12:18.777808\n",
              "1           1     2     4  2021-06-03 14:12:18.777808"
            ]
          },
          "metadata": {
            "tags": []
          },
          "execution_count": 7
        }
      ]
    },
    {
      "cell_type": "markdown",
      "metadata": {
        "id": "ATvRd5y_M-_t"
      },
      "source": [
        "# Notice how in the very last line, you called the parent method and passed an object to it that isn't `self`. \n",
        "\n",
        "## When you call parent methods in the class, they should accept some `object` as the first argument, and that object is usually `self`, but ***it doesn't have to be!***"
      ]
    },
    {
      "cell_type": "markdown",
      "metadata": {
        "id": "4gjER3thQIhe"
      },
      "source": [
        "# Operator Overloading: equality\n",
        "\n",
        "## When comparing two objects of a custom class using `==`, Python by default compares just the object ***references***, not the data contained in the objects. To override this behavior, the class can implement the special `__eq__()` method, which accepts two arguments -- the objects to be compared -- and returns `True` or `False`. "
      ]
    },
    {
      "cell_type": "code",
      "metadata": {
        "colab": {
          "base_uri": "https://localhost:8080/"
        },
        "id": "Lf-AcTHMQOg8",
        "outputId": "c7d19746-c744-452f-bdc5-095e864b6ae7"
      },
      "source": [
        "class BankAccount:\n",
        "   # MODIFY to initialize a number attribute\n",
        "    def __init__(self, number, balance=0):\n",
        "        self.balance, self.number = balance, number\n",
        "      \n",
        "    def withdraw(self, amount):\n",
        "        self.balance -= amount \n",
        "    \n",
        "    # Define __eq__ that returns True if the number attributes are equal \n",
        "    def __eq__(self, other):\n",
        "        return self.number == other.number\n",
        "\n",
        "# Create accounts and compare them       \n",
        "acct1 = BankAccount(123, 1000)\n",
        "acct2 = BankAccount(123, 1000)\n",
        "acct3 = BankAccount(456, 1000)\n",
        "print(acct1 == acct2)\n",
        "print(acct1 == acct3)\n",
        "    "
      ],
      "execution_count": null,
      "outputs": [
        {
          "output_type": "stream",
          "text": [
            "True\n",
            "False\n"
          ],
          "name": "stdout"
        }
      ]
    },
    {
      "cell_type": "markdown",
      "metadata": {
        "id": "dwZkF6etSnDp"
      },
      "source": [
        "# Checking class equality\n",
        "\n",
        "If you were to compare a BankAccount object to an object of another class that also has a number attribute, they will be equal even though they are not from the same class.\n",
        "\n",
        "## It is good practice to check the class of objects passed to the __eq__() method to make sure the comparison makes sense."
      ]
    },
    {
      "cell_type": "code",
      "metadata": {
        "colab": {
          "base_uri": "https://localhost:8080/"
        },
        "id": "1SA7wvYySXBk",
        "outputId": "207e53e6-f852-46e4-a955-5a95688fbd76"
      },
      "source": [
        "class BankAccount:\n",
        "    def __init__(self, number, balance=0):\n",
        "        self.number, self.balance = number, balance\n",
        "      \n",
        "    def withdraw(self, amount):\n",
        "        self.balance -= amount \n",
        "\n",
        "    # MODIFY to add a check for the type()\n",
        "    def __eq__(self, other):\n",
        "        return ((self.number == other.number) & (type(self) == type(other)))\n",
        "\n",
        "class Phone:\n",
        "  def __init__(self, number):\n",
        "     self.number = number\n",
        "\n",
        "  def __eq__(self, other):\n",
        "    return self.number == other.number\n",
        "\n",
        "acct = BankAccount(873555333)\n",
        "pn = Phone(873555333)\n",
        "print(acct == pn)\n",
        "\n",
        "#  Try running pn == acct in the console (with reversed order of equality). \n",
        "#  What does this tell you about the __eq__() method?\n",
        "print(pn == acct)\n",
        "#  The __eq__ method is based on the __eq__ of the left object."
      ],
      "execution_count": null,
      "outputs": [
        {
          "output_type": "stream",
          "text": [
            "False\n",
            "True\n"
          ],
          "name": "stdout"
        }
      ]
    },
    {
      "cell_type": "markdown",
      "metadata": {
        "id": "ZpkpJcmfUKWn"
      },
      "source": [
        "Another way to ensure that an object has the same type as you expect is to use the `isinstance(obj, Class) `function."
      ]
    },
    {
      "cell_type": "markdown",
      "metadata": {
        "id": "JNOQutTIU7Is"
      },
      "source": [
        "# Comparison and inheritance\n",
        "\n",
        "### What happens when an object is compared to an object of a child class? Consider the following two classes:"
      ]
    },
    {
      "cell_type": "code",
      "metadata": {
        "colab": {
          "base_uri": "https://localhost:8080/"
        },
        "id": "xGUMyoGNT3kX",
        "outputId": "c178d1d2-acf0-4350-9b7e-59e008e99998"
      },
      "source": [
        "class Parent:\n",
        "    def __eq__(self, other):\n",
        "        print(\"Parent's __eq__() called\")\n",
        "        return True\n",
        "\n",
        "class Child(Parent):\n",
        "    def __eq__(self, other):\n",
        "        print(\"Child's __eq__() called\")\n",
        "        return True\n",
        "\n",
        "p = Parent()\n",
        "c = Child()\n",
        "\n",
        "p == c "
      ],
      "execution_count": null,
      "outputs": [
        {
          "output_type": "stream",
          "text": [
            "Child's __eq__() called\n"
          ],
          "name": "stdout"
        },
        {
          "output_type": "execute_result",
          "data": {
            "text/plain": [
              "True"
            ]
          },
          "metadata": {
            "tags": []
          },
          "execution_count": 12
        }
      ]
    },
    {
      "cell_type": "markdown",
      "metadata": {
        "id": "SnhH1GPUVX_1"
      },
      "source": [
        "Python always calls the child's `__eq__()` method when comparing a child object to a parent object."
      ]
    },
    {
      "cell_type": "markdown",
      "metadata": {
        "id": "fmnH7a_wrpAL"
      },
      "source": [
        "# String Formatting\n",
        "\n",
        "## Print exactly the following `my_num is 5, and my_str is \"Hello\"`"
      ]
    },
    {
      "cell_type": "code",
      "metadata": {
        "colab": {
          "base_uri": "https://localhost:8080/"
        },
        "id": "73qWnOF8VPHk",
        "outputId": "37394ebe-71cc-4561-eb8f-a592ad147434"
      },
      "source": [
        "my_num, my_str = 5, \"Hello\"\n",
        "print(\"my_num is {}, and my_str is \\\"{}\\\".\".format(my_num, my_str))"
      ],
      "execution_count": null,
      "outputs": [
        {
          "output_type": "stream",
          "text": [
            "my_num is 5, and my_str is \"Hello\".\n"
          ],
          "name": "stdout"
        }
      ]
    },
    {
      "cell_type": "markdown",
      "metadata": {
        "id": "JhRx-KTssXwc"
      },
      "source": [
        "# To format a string with variables, you can either use\n",
        "\n",
        "1.    keyword arguments in `.format ('Insert {n} here'.format(n=num))`\n",
        "2.    refer to them by position index explicitly (like `'Insert {0} here'.format(num)`)\n",
        "3.   implicitly (like `'Insert {} here'.format(num)`)\n",
        "\n",
        "# To nest the same set of quotation marks, \n",
        "# you need to escape them with a slash like `\\\"`.\n",
        "\n",
        "*   `__str__()` is supposed to provide a \"user-friendly\" output describing an object. \n",
        "*   `__repr__()` should return the expression that, when evaluated, will return the same object, ***ensuring the reproducibility of your code***.\n",
        "\n"
      ]
    },
    {
      "cell_type": "code",
      "metadata": {
        "colab": {
          "base_uri": "https://localhost:8080/"
        },
        "id": "fDz27DNXsBuy",
        "outputId": "11a228fd-e767-41d2-fef4-6ae3de705f1e"
      },
      "source": [
        "class Employee:\n",
        "    def __init__(self, name, salary=30000):\n",
        "        self.name, self.salary = name, salary\n",
        "            \n",
        "    # Add the __str__() method\n",
        "    def __str__(self):\n",
        "        a = \"\"\"Employee name: {}\\nEmployee salary: {}\"\"\".format(self.name, self.salary)\n",
        "        return a\n",
        "    # Add the __repr__method\n",
        "    def __repr__(self):\n",
        "        return \"Employee(\\\"{}\\\", {})\".format(self.name, self.salary)\n",
        "\n",
        "emp1 = Employee(\"Amar Howard\", 30000)\n",
        "print(emp1)\n",
        "print(repr(emp1))\n",
        "emp2 = Employee(\"Carolyn Ramirez\", 35000)\n",
        "print(emp2)\n",
        "print(repr(emp2))"
      ],
      "execution_count": null,
      "outputs": [
        {
          "output_type": "stream",
          "text": [
            "Employee name: Amar Howard\n",
            "Employee salary: 30000\n",
            "Employee(\"Amar Howard\", 30000)\n",
            "Employee name: Carolyn Ramirez\n",
            "Employee salary: 35000\n",
            "Employee(\"Carolyn Ramirez\", 35000)\n"
          ],
          "name": "stdout"
        }
      ]
    },
    {
      "cell_type": "markdown",
      "metadata": {
        "id": "Ng68UWiyyUMO"
      },
      "source": [
        "# You should always define at least one of the string representation methods for your object to make sure that the person using your class can get important information about the object easily."
      ]
    },
    {
      "cell_type": "markdown",
      "metadata": {
        "id": "LQueqv1X0vLa"
      },
      "source": [
        "# Catching exceptions"
      ]
    },
    {
      "cell_type": "code",
      "metadata": {
        "colab": {
          "base_uri": "https://localhost:8080/"
        },
        "id": "y7gkHkt5uJ5Q",
        "outputId": "43914472-e88c-4e5f-8560-fe40891c62f1"
      },
      "source": [
        "# MODIFY the function to catch exceptions\n",
        "def invert_at_index(x, ind):\n",
        "    try:\n",
        "        return 1/x[ind]\n",
        "    except ZeroDivisionError:\n",
        "        print(\"Cannot divide by zero!\")\n",
        "    except IndexError:\n",
        "        print(\"Index out of range!\")\n",
        "a = [5,6,0,7]\n",
        "\n",
        "# Works okay\n",
        "print(invert_at_index(a, 1))\n",
        "\n",
        "# Potential ZeroDivisionError\n",
        "print(invert_at_index(a, 2))\n",
        "\n",
        "# Potential IndexError\n",
        "print(invert_at_index(a, 5))"
      ],
      "execution_count": 4,
      "outputs": [
        {
          "output_type": "stream",
          "text": [
            "0.16666666666666666\n",
            "Cannot divide by zero!\n",
            "None\n",
            "Index out of range!\n",
            "None\n"
          ],
          "name": "stdout"
        }
      ]
    },
    {
      "cell_type": "markdown",
      "metadata": {
        "id": "mEGxidqwR8uQ"
      },
      "source": [
        "# Custom exceptions\n",
        "\n",
        "All you need to define an exception is a class inherited from the built-in `Exception` class or one of its subclasses.\n",
        "\n",
        "\n",
        "\n",
        "\n",
        "\n"
      ]
    },
    {
      "cell_type": "code",
      "metadata": {
        "id": "zaOG7dlw05Sd"
      },
      "source": [
        "# Define SalaryError inherited from ValueError\n",
        "class SalaryError(ValueError):\n",
        "    pass\n",
        "# Define BonusError inherited from SalaryError\n",
        "class BonusError(SalaryError):\n",
        "    pass\n",
        "\n",
        "class Employee:\n",
        "    MIN_SALARY = 30000\n",
        "    MAX_BONUS = 5000\n",
        "\n",
        "    def __init__(self, name, salary = 30000):\n",
        "        self.name = name        \n",
        "        # If salary is too low\n",
        "        if Employee.MIN_SALARY > salary:\n",
        "            # Raise a SalaryError exception\n",
        "            raise SalaryError(\"Salary is too low!\")\n",
        "        self.salary = salary\n",
        "\n",
        "    # Rewrite using exceptions  \n",
        "    def give_bonus(self, amount):\n",
        "        if amount > Employee.MAX_BONUS:\n",
        "            raise BonusError(\"The bonus amount is too high!\")  \n",
        "        elif self.salary + amount <  Employee.MIN_SALARY:\n",
        "            raise SalaryError(\"The salary after bonus is too low!\")\n",
        "        else:  \n",
        "            self.salary += amount"
      ],
      "execution_count": 1,
      "outputs": []
    },
    {
      "cell_type": "markdown",
      "metadata": {
        "id": "m9J1wk1rUgq_"
      },
      "source": [
        "# Handling exception hierarchies\n",
        "\n",
        "`BonusError` exception was inherited from the `SalaryError` exception. How does exception inheritance affect exception handling?\n",
        "\n",
        "*   Experiment with the following code"
      ]
    },
    {
      "cell_type": "code",
      "metadata": {
        "colab": {
          "base_uri": "https://localhost:8080/",
          "height": 480
        },
        "id": "IyC3AZYoURON",
        "outputId": "e3d69eb4-e823-47f3-9061-c4e39efd3958"
      },
      "source": [
        "emp = Employee(\"Katze Rik\", salary=50000)\n",
        "try:\n",
        "  emp.give_bonus(7000)\n",
        "except SalaryError:\n",
        "  print(\"SalaryError caught!\")\n",
        "print(emp.salary)\n",
        "\n",
        "try:\n",
        "  emp.give_bonus(7000)\n",
        "except BonusError:\n",
        "  print(\"BonusError caught!\")\n",
        "print(emp.salary)\n",
        "try:\n",
        "  emp.give_bonus(-100000)\n",
        "except SalaryError:\n",
        "  print(\"SalaryError caught again!\")\n",
        "print(emp.salary)\n",
        "try:\n",
        "  emp.give_bonus(-100000)\n",
        "except BonusError:\n",
        "  print(\"BonusError caught again!\")  \n",
        "print(emp.salary)"
      ],
      "execution_count": 2,
      "outputs": [
        {
          "output_type": "stream",
          "text": [
            "SalaryError caught!\n",
            "50000\n",
            "BonusError caught!\n",
            "50000\n",
            "SalaryError caught again!\n",
            "50000\n"
          ],
          "name": "stdout"
        },
        {
          "output_type": "error",
          "ename": "SalaryError",
          "evalue": "ignored",
          "traceback": [
            "\u001b[0;31m---------------------------------------------------------------------------\u001b[0m",
            "\u001b[0;31mSalaryError\u001b[0m                               Traceback (most recent call last)",
            "\u001b[0;32m<ipython-input-2-9650614de8dd>\u001b[0m in \u001b[0;36m<module>\u001b[0;34m()\u001b[0m\n\u001b[1;32m     17\u001b[0m \u001b[0mprint\u001b[0m\u001b[0;34m(\u001b[0m\u001b[0memp\u001b[0m\u001b[0;34m.\u001b[0m\u001b[0msalary\u001b[0m\u001b[0;34m)\u001b[0m\u001b[0;34m\u001b[0m\u001b[0;34m\u001b[0m\u001b[0m\n\u001b[1;32m     18\u001b[0m \u001b[0;32mtry\u001b[0m\u001b[0;34m:\u001b[0m\u001b[0;34m\u001b[0m\u001b[0;34m\u001b[0m\u001b[0m\n\u001b[0;32m---> 19\u001b[0;31m   \u001b[0memp\u001b[0m\u001b[0;34m.\u001b[0m\u001b[0mgive_bonus\u001b[0m\u001b[0;34m(\u001b[0m\u001b[0;34m-\u001b[0m\u001b[0;36m100000\u001b[0m\u001b[0;34m)\u001b[0m\u001b[0;34m\u001b[0m\u001b[0;34m\u001b[0m\u001b[0m\n\u001b[0m\u001b[1;32m     20\u001b[0m \u001b[0;32mexcept\u001b[0m \u001b[0mBonusError\u001b[0m\u001b[0;34m:\u001b[0m\u001b[0;34m\u001b[0m\u001b[0;34m\u001b[0m\u001b[0m\n\u001b[1;32m     21\u001b[0m   \u001b[0mprint\u001b[0m\u001b[0;34m(\u001b[0m\u001b[0;34m\"BonusError caught again!\"\u001b[0m\u001b[0;34m)\u001b[0m\u001b[0;34m\u001b[0m\u001b[0;34m\u001b[0m\u001b[0m\n",
            "\u001b[0;32m<ipython-input-1-226123e3d5f5>\u001b[0m in \u001b[0;36mgive_bonus\u001b[0;34m(self, amount)\u001b[0m\n\u001b[1;32m     23\u001b[0m             \u001b[0;32mraise\u001b[0m \u001b[0mBonusError\u001b[0m\u001b[0;34m(\u001b[0m\u001b[0;34m\"The bonus amount is too high!\"\u001b[0m\u001b[0;34m)\u001b[0m\u001b[0;34m\u001b[0m\u001b[0;34m\u001b[0m\u001b[0m\n\u001b[1;32m     24\u001b[0m         \u001b[0;32melif\u001b[0m \u001b[0mself\u001b[0m\u001b[0;34m.\u001b[0m\u001b[0msalary\u001b[0m \u001b[0;34m+\u001b[0m \u001b[0mamount\u001b[0m \u001b[0;34m<\u001b[0m  \u001b[0mEmployee\u001b[0m\u001b[0;34m.\u001b[0m\u001b[0mMIN_SALARY\u001b[0m\u001b[0;34m:\u001b[0m\u001b[0;34m\u001b[0m\u001b[0;34m\u001b[0m\u001b[0m\n\u001b[0;32m---> 25\u001b[0;31m             \u001b[0;32mraise\u001b[0m \u001b[0mSalaryError\u001b[0m\u001b[0;34m(\u001b[0m\u001b[0;34m\"The salary after bonus is too low!\"\u001b[0m\u001b[0;34m)\u001b[0m\u001b[0;34m\u001b[0m\u001b[0;34m\u001b[0m\u001b[0m\n\u001b[0m\u001b[1;32m     26\u001b[0m         \u001b[0;32melse\u001b[0m\u001b[0;34m:\u001b[0m\u001b[0;34m\u001b[0m\u001b[0;34m\u001b[0m\u001b[0m\n\u001b[1;32m     27\u001b[0m             \u001b[0mself\u001b[0m\u001b[0;34m.\u001b[0m\u001b[0msalary\u001b[0m \u001b[0;34m+=\u001b[0m \u001b[0mamount\u001b[0m\u001b[0;34m\u001b[0m\u001b[0;34m\u001b[0m\u001b[0m\n",
            "\u001b[0;31mSalaryError\u001b[0m: The salary after bonus is too low!"
          ]
        }
      ]
    },
    {
      "cell_type": "code",
      "metadata": {
        "colab": {
          "base_uri": "https://localhost:8080/"
        },
        "id": "MdXUochTVVPj",
        "outputId": "a931447d-f31b-46bf-b0ac-20ecfd06a3a1"
      },
      "source": [
        "emp = Employee(\"Katze Rik\", 50000)\n",
        "try:\n",
        "  emp.give_bonus(7000)\n",
        "except SalaryError:\n",
        "  print(\"SalaryError caught\")\n",
        "except BonusError:\n",
        "  print(\"BonusError caught\")"
      ],
      "execution_count": 6,
      "outputs": [
        {
          "output_type": "stream",
          "text": [
            "SalaryError caught\n"
          ],
          "name": "stdout"
        }
      ]
    },
    {
      "cell_type": "code",
      "metadata": {
        "colab": {
          "base_uri": "https://localhost:8080/"
        },
        "id": "tfVvlSafWTni",
        "outputId": "50fdbe40-822c-4afb-c756-e3e1e3ff5ba2"
      },
      "source": [
        "emp = Employee(\"Katze Rik\", 50000)\n",
        "try:\n",
        "  emp.give_bonus(7000)\n",
        "except BonusError:\n",
        "  print(\"BonusError caught\")\n",
        "except SalaryError:\n",
        "  print(\"SalaryError caught\")\n",
        "      "
      ],
      "execution_count": 7,
      "outputs": [
        {
          "output_type": "stream",
          "text": [
            "BonusError caught\n"
          ],
          "name": "stdout"
        }
      ]
    },
    {
      "cell_type": "markdown",
      "metadata": {
        "id": "2VY4FuAHaUMp"
      },
      "source": [
        "# It's better to include an except block for a child exception before the block for a parent exception, otherwise the child exceptions will be always be caught in the parent block, and the except block for the child will never be executed."
      ]
    },
    {
      "cell_type": "markdown",
      "metadata": {
        "id": "rug0NNZtQIXq"
      },
      "source": [
        "# **Polymorphic methods**\n",
        "## Analyze the following code:\n",
        "\n",
        "\n"
      ]
    },
    {
      "cell_type": "code",
      "metadata": {
        "colab": {
          "base_uri": "https://localhost:8080/"
        },
        "id": "8ixqJ1IMZspe",
        "outputId": "5a9edd29-ba9b-498c-9c4a-eeb7840aad86"
      },
      "source": [
        "class Parent:\n",
        "    def talk(self):\n",
        "        print(\"Parent talking!\")     \n",
        "\n",
        "class Child(Parent):\n",
        "    def talk(self):\n",
        "        print(\"Child talking!\")          \n",
        "\n",
        "class TalkativeChild(Parent):\n",
        "    def talk(self):\n",
        "        print(\"TalkativeChild talking!\")\n",
        "        Parent.talk(self)\n",
        "\n",
        "\n",
        "p, c, tc = Parent(), Child(), TalkativeChild()\n",
        "\n",
        "for obj in (p, c, tc):\n",
        "    obj.talk()"
      ],
      "execution_count": 4,
      "outputs": [
        {
          "output_type": "stream",
          "text": [
            "Parent talking!\n",
            "Child talking!\n",
            "TalkativeChild talking!\n",
            "Parent talking!\n"
          ],
          "name": "stdout"
        }
      ]
    },
    {
      "cell_type": "markdown",
      "metadata": {
        "id": "Q0Fehbc7RRm3"
      },
      "source": [
        "### Polymorphism ensures that the exact method called is determined dynamically based on the instance. What do you think would happen if Child did not implement talk()?"
      ]
    },
    {
      "cell_type": "code",
      "metadata": {
        "colab": {
          "base_uri": "https://localhost:8080/"
        },
        "id": "GVGQBzQYRBWl",
        "outputId": "fe9c26fe-9e1d-4e53-c9a6-84cdb359bc1f"
      },
      "source": [
        "class Parent:\n",
        "    def talk(self):\n",
        "        print(\"Parent talking!\")     \n",
        "\n",
        "class Child(Parent):\n",
        "    pass         # Child did not implement talk() \n",
        "\n",
        "class TalkativeChild(Parent):\n",
        "    def talk(self):\n",
        "        print(\"TalkativeChild talking!\")\n",
        "        Parent.talk(self)\n",
        "\n",
        "\n",
        "p, c, tc = Parent(), Child(), TalkativeChild()\n",
        "\n",
        "for obj in (p, c, tc):\n",
        "    obj.talk()"
      ],
      "execution_count": 5,
      "outputs": [
        {
          "output_type": "stream",
          "text": [
            "Parent talking!\n",
            "Parent talking!\n",
            "TalkativeChild talking!\n",
            "Parent talking!\n"
          ],
          "name": "stdout"
        }
      ]
    },
    {
      "cell_type": "markdown",
      "metadata": {
        "id": "flEiOQyDSSIO"
      },
      "source": [
        "# Square and rectangle\n",
        "\n",
        "The classic example of a problem that violates the Liskov Substitution Principle is the Circle-Ellipse problem, sometimes called the `Square-Rectangle problem`."
      ]
    },
    {
      "cell_type": "code",
      "metadata": {
        "colab": {
          "base_uri": "https://localhost:8080/"
        },
        "id": "dnlN6ZJfR-My",
        "outputId": "2982b978-a9ee-4654-cccf-2830eb27cce9"
      },
      "source": [
        "# Define a Rectangle class\n",
        "class Rectangle:\n",
        "    def __init__(self, h, w):\n",
        "        self.h, self.w = h, w\n",
        "\n",
        "# Define a Square class\n",
        "class Square(Rectangle):\n",
        "    def __init__(self, w):\n",
        "        self.h, self.w = w, w\n",
        "\n",
        "# Create a Square object with side length 4. Then try assigning 7 to the h attribute.\n",
        "s = Square(4)\n",
        "s.h = 7\n",
        "\n",
        "print(s.w, s.h)\n",
        "# The 4x4 Square object would no longer be a square if we assign 7 to h."
      ],
      "execution_count": 7,
      "outputs": [
        {
          "output_type": "stream",
          "text": [
            "4 7\n"
          ],
          "name": "stdout"
        }
      ]
    },
    {
      "cell_type": "markdown",
      "metadata": {
        "id": "Fs3vzuaZUBGr"
      },
      "source": [
        "A Square inherited from a Rectangle will always have both the h and w attributes, but we can't allow them to change independently of each other."
      ]
    },
    {
      "cell_type": "code",
      "metadata": {
        "id": "x7etQBUaTvcd"
      },
      "source": [
        "class Rectangle:\n",
        "    def __init__(self, w,h):\n",
        "        self.w, self.h = w,h\n",
        "\n",
        "# Define methods set_h() and set_w() in Rectangle, \n",
        "# each accepting one parameter and setting h and w.     \n",
        "    def set_h(self, h):\n",
        "        self.h = h\n",
        "      \n",
        "# Define set_w to set w          \n",
        "    def set_w(self, w):\n",
        "        self.w = w\n",
        "      \n",
        "# Define methods set_h() and set_w() in Square, each accepting one parameter, \n",
        "# and setting both h and w to that parameter in both methods.      \n",
        "class Square(Rectangle):\n",
        "    def __init__(self, w):\n",
        "      self.w, self.h = w, w \n",
        "\n",
        "# Define set_h to set w and h\n",
        "    def set_h(self, h):\n",
        "      self.h, self.w = h, h\n",
        "\n",
        "# Define set_w to set w and h      \n",
        "    def set_w(self, w):\n",
        "      self.h, self.w = w, w\n",
        "\n",
        "      "
      ],
      "execution_count": 8,
      "outputs": []
    },
    {
      "cell_type": "markdown",
      "metadata": {
        "id": "ASbC_vyZWQRN"
      },
      "source": [
        "### Each of the setter methods of `Square` change both `h` and `w` attributes, while setter methods of `Rectangle` change only one attribute at a time, so the `Square` objects cannot be substituted for `Rectangle` into programs that rely on one attribute staying constant.\n"
      ]
    },
    {
      "cell_type": "markdown",
      "metadata": {
        "id": "CfvaUXt5jo3-"
      },
      "source": [
        "# Attribute naming conventions\n",
        "\n",
        "\n",
        "\n",
        "1.   The single leading underscore is a convention for internal details of implementation.  \n",
        "2.   Double leading underscores are used for attributes that should not be inherited to aviod name clashes in child classes.\n",
        "3.   Leading and trailing double underscores are reserved for built-in methods.\n",
        "\n"
      ]
    },
    {
      "cell_type": "markdown",
      "metadata": {
        "id": "JYGe3yF0lwDZ"
      },
      "source": [
        "# Using internal attibutes\n",
        "\n",
        "Add a method that checks the validity of the date, but you don't want to make it a part of BetterDate public interface."
      ]
    },
    {
      "cell_type": "code",
      "metadata": {
        "colab": {
          "base_uri": "https://localhost:8080/"
        },
        "id": "OYvShvECVag2",
        "outputId": "539b3c10-a361-41a7-c0d4-264b8d9db291"
      },
      "source": [
        "# MODIFY to add class attributes for max number of days and months\n",
        "class BetterDate:\n",
        "    _MAX_DAYS, _MAX_MONTHS = 30, 12\n",
        "\n",
        "    def __init__(self, year, month, day):\n",
        "      self.year, self.month, self.day = year, month, day\n",
        "      \n",
        "    @classmethod\n",
        "    def from_str(cls, datestr):\n",
        "        year, month, day = map(int, datestr.split(\"-\"))\n",
        "        return cls(year, month, day)\n",
        "    \n",
        "    # Add _is_valid() checking day and month values\n",
        "    def _is_valid(self):\n",
        "        return True if (self.day, self.month) < (BetterDate._MAX_DAYS, BetterDate._MAX_MONTHS) else False\n",
        "         \n",
        "bd1 = BetterDate(2020, 4, 30)\n",
        "print(bd1._is_valid())\n",
        "\n",
        "bd2 = BetterDate(2020, 6, 45)\n",
        "print(bd2._is_valid())"
      ],
      "execution_count": 9,
      "outputs": [
        {
          "output_type": "stream",
          "text": [
            "True\n",
            "False\n"
          ],
          "name": "stdout"
        }
      ]
    },
    {
      "cell_type": "markdown",
      "metadata": {
        "id": "Cp4_1DWymIJI"
      },
      "source": [
        "If you see an attribute name with one leading underscore in someone's class \n",
        "# Don't use it!"
      ]
    },
    {
      "cell_type": "markdown",
      "metadata": {
        "id": "QXZZwoeYqdRZ"
      },
      "source": [
        "# What do properties do?\n",
        "\n",
        "\n",
        "\n",
        "1.   Properties can be used to implement \"read-only\" attributes.\n",
        "2.   Properties can be accessed using the dot syntax just like regular attributes.\n",
        "3.   Properties allow for validation of values that are assigned to them.\n",
        "\n"
      ]
    },
    {
      "cell_type": "markdown",
      "metadata": {
        "id": "X79pwu_qrqPn"
      },
      "source": [
        "# Create and set properties\n",
        "\n",
        "\n",
        "\n",
        "1.   Define an ***\"internal\"*** attribute that will contain the data.\n",
        "2.   Then, define a `@property`-decorated method whose name is the property name, and that returns the internal attribute storing the data.\n",
        "3.   Define another method whose name is ***exactly the property name*** (again), and decorate it with `@prop_name.setter` where `prop_name` is the name of the property. The method should take two arguments -- `self` (as always), and the value that's being assigned to the property.\n",
        "\n"
      ]
    },
    {
      "cell_type": "code",
      "metadata": {
        "colab": {
          "base_uri": "https://localhost:8080/"
        },
        "id": "fwjYXBwSmP99",
        "outputId": "990db4bf-7d81-4252-bbbc-b5357872cf61"
      },
      "source": [
        "# Create a Customer class\n",
        "class Customer:\n",
        "    def __init__(self, name, new_bal):\n",
        "        self.name = name\n",
        "        if new_bal < 0:\n",
        "            raise ValueError\n",
        "        self._balance = new_bal\n",
        "\n",
        "    # Add a decorated balance() method returning _balance\n",
        "    @property\n",
        "    def balance(self):\n",
        "        return self._balance\n",
        "\n",
        "    # Add a setter balance() method\n",
        "    @balance.setter\n",
        "    def balance(self, new_bal):\n",
        "        # Validate the parameter value\n",
        "        if new_bal < 0:\n",
        "           raise ValueError(\"Invalid balance!\")\n",
        "        self._balance = new_bal\n",
        "        print(\"Setter method called\")\n",
        "\n",
        "    # @balance.getter) that returns a value and gets executed every time the attribute is accessed.\n",
        "    # ต้องมี @property ด้านบนก่อน ไม่งั้น Error\n",
        "    @balance.getter\n",
        "    def balance(self):\n",
        "        print(\"Getter method called\")\n",
        "        return self._balance\n",
        "        \n",
        "\n",
        "# Create a Customer        \n",
        "cust = Customer(\"Belinda Lutz\",2000)\n",
        "\n",
        "# Assign 3000 to the balance property\n",
        "cust.balance = 3000\n",
        "\n",
        "# Print the balance property\n",
        "print(cust.balance)"
      ],
      "execution_count": 18,
      "outputs": [
        {
          "output_type": "stream",
          "text": [
            "Setter method called\n",
            "Getter method called\n",
            "3000\n"
          ],
          "name": "stdout"
        }
      ]
    },
    {
      "cell_type": "markdown",
      "metadata": {
        "id": "N3nv9nER3HX-"
      },
      "source": [
        "# Read-only properties"
      ]
    },
    {
      "cell_type": "code",
      "metadata": {
        "colab": {
          "base_uri": "https://localhost:8080/"
        },
        "id": "HHZ0D6rsv22G",
        "outputId": "89aac3a6-aefa-40eb-add3-3f712a215c1f"
      },
      "source": [
        "import pandas as pd\n",
        "from datetime import datetime\n",
        "\n",
        "# LoggedDF class definition from Chapter 2\n",
        "class LoggedDF(pd.DataFrame):\n",
        "    def __init__(self, *args, **kwargs):\n",
        "        pd.DataFrame.__init__(self, *args, **kwargs)\n",
        "        self.created_at = datetime.today()\n",
        "\n",
        "    def to_csv(self, *args, **kwargs):\n",
        "        temp = self.copy()\n",
        "        temp[\"created_at\"] = self.created_at\n",
        "        pd.DataFrame.to_csv(temp, *args, **kwargs)   \n",
        "\n",
        "# Instantiate a LoggedDF called ldf\n",
        "ldf = LoggedDF({\"col1\": [1,2], \"col2\":[3,4]}) \n",
        "\n",
        "# Assign a new value to ldf's created_at attribute and print\n",
        "ldf.created_at = \"2035-07-13\"\n",
        "print(ldf.created_at)"
      ],
      "execution_count": 20,
      "outputs": [
        {
          "output_type": "stream",
          "text": [
            "2035-07-13\n"
          ],
          "name": "stdout"
        }
      ]
    },
    {
      "cell_type": "code",
      "metadata": {
        "colab": {
          "base_uri": "https://localhost:8080/",
          "height": 449
        },
        "id": "L0R4YA8C3xCs",
        "outputId": "594b9670-d2f4-4206-be2d-8de6310dcc27"
      },
      "source": [
        "import pandas as pd\n",
        "from datetime import datetime\n",
        "\n",
        "# MODIFY the class to use _created_at instead of created_at\n",
        "class LoggedDF(pd.DataFrame):\n",
        "    def __init__(self, *args, **kwargs):\n",
        "        pd.DataFrame.__init__(self, *args, **kwargs)\n",
        "        self._created_at = datetime.today()\n",
        "    \n",
        "    def to_csv(self, *args, **kwargs):\n",
        "        temp = self.copy()\n",
        "        temp[\"created_at\"] = self._created_at\n",
        "        pd.DataFrame.to_csv(temp, *args, **kwargs)   \n",
        "    \n",
        "    # Add a read-only property: _created_at\n",
        "    @property\n",
        "    def created_at(self):\n",
        "        return self._created_at\n",
        "\n",
        "# Instantiate a LoggedDF called ldf\n",
        "ldf = LoggedDF({\"col1\": [1,2], \"col2\":[3,4]}) \n",
        "\n",
        "# Assign a new value to ldf's created_at attribute and print\n",
        "ldf.created_at = \"2035-07-13\""
      ],
      "execution_count": 22,
      "outputs": [
        {
          "output_type": "error",
          "ename": "AttributeError",
          "evalue": "ignored",
          "traceback": [
            "\u001b[0;31m---------------------------------------------------------------------------\u001b[0m",
            "\u001b[0;31mAttributeError\u001b[0m                            Traceback (most recent call last)",
            "\u001b[0;32m/usr/local/lib/python3.7/dist-packages/pandas/core/generic.py\u001b[0m in \u001b[0;36m__setattr__\u001b[0;34m(self, name, value)\u001b[0m\n\u001b[1;32m   5171\u001b[0m                 \u001b[0;32melse\u001b[0m\u001b[0;34m:\u001b[0m\u001b[0;34m\u001b[0m\u001b[0;34m\u001b[0m\u001b[0m\n\u001b[0;32m-> 5172\u001b[0;31m                     \u001b[0mobject\u001b[0m\u001b[0;34m.\u001b[0m\u001b[0m__setattr__\u001b[0m\u001b[0;34m(\u001b[0m\u001b[0mself\u001b[0m\u001b[0;34m,\u001b[0m \u001b[0mname\u001b[0m\u001b[0;34m,\u001b[0m \u001b[0mvalue\u001b[0m\u001b[0;34m)\u001b[0m\u001b[0;34m\u001b[0m\u001b[0;34m\u001b[0m\u001b[0m\n\u001b[0m\u001b[1;32m   5173\u001b[0m             \u001b[0;32mexcept\u001b[0m \u001b[0;34m(\u001b[0m\u001b[0mAttributeError\u001b[0m\u001b[0;34m,\u001b[0m \u001b[0mTypeError\u001b[0m\u001b[0;34m)\u001b[0m\u001b[0;34m:\u001b[0m\u001b[0;34m\u001b[0m\u001b[0;34m\u001b[0m\u001b[0m\n",
            "\u001b[0;31mAttributeError\u001b[0m: can't set attribute",
            "\nDuring handling of the above exception, another exception occurred:\n",
            "\u001b[0;31mAttributeError\u001b[0m                            Traceback (most recent call last)",
            "\u001b[0;32m<ipython-input-22-2e8d1ca21969>\u001b[0m in \u001b[0;36m<module>\u001b[0;34m()\u001b[0m\n\u001b[1;32m     22\u001b[0m \u001b[0;34m\u001b[0m\u001b[0m\n\u001b[1;32m     23\u001b[0m \u001b[0;31m# Assign a new value to ldf's created_at attribute and print\u001b[0m\u001b[0;34m\u001b[0m\u001b[0;34m\u001b[0m\u001b[0;34m\u001b[0m\u001b[0m\n\u001b[0;32m---> 24\u001b[0;31m \u001b[0mldf\u001b[0m\u001b[0;34m.\u001b[0m\u001b[0mcreated_at\u001b[0m \u001b[0;34m=\u001b[0m \u001b[0;34m\"2035-07-13\"\u001b[0m\u001b[0;34m\u001b[0m\u001b[0;34m\u001b[0m\u001b[0m\n\u001b[0m",
            "\u001b[0;32m/usr/local/lib/python3.7/dist-packages/pandas/core/generic.py\u001b[0m in \u001b[0;36m__setattr__\u001b[0;34m(self, name, value)\u001b[0m\n\u001b[1;32m   5180\u001b[0m                         \u001b[0mstacklevel\u001b[0m\u001b[0;34m=\u001b[0m\u001b[0;36m2\u001b[0m\u001b[0;34m,\u001b[0m\u001b[0;34m\u001b[0m\u001b[0;34m\u001b[0m\u001b[0m\n\u001b[1;32m   5181\u001b[0m                     )\n\u001b[0;32m-> 5182\u001b[0;31m                 \u001b[0mobject\u001b[0m\u001b[0;34m.\u001b[0m\u001b[0m__setattr__\u001b[0m\u001b[0;34m(\u001b[0m\u001b[0mself\u001b[0m\u001b[0;34m,\u001b[0m \u001b[0mname\u001b[0m\u001b[0;34m,\u001b[0m \u001b[0mvalue\u001b[0m\u001b[0;34m)\u001b[0m\u001b[0;34m\u001b[0m\u001b[0;34m\u001b[0m\u001b[0m\n\u001b[0m\u001b[1;32m   5183\u001b[0m \u001b[0;34m\u001b[0m\u001b[0m\n\u001b[1;32m   5184\u001b[0m     \u001b[0;32mdef\u001b[0m \u001b[0m_dir_additions\u001b[0m\u001b[0;34m(\u001b[0m\u001b[0mself\u001b[0m\u001b[0;34m)\u001b[0m\u001b[0;34m:\u001b[0m\u001b[0;34m\u001b[0m\u001b[0;34m\u001b[0m\u001b[0m\n",
            "\u001b[0;31mAttributeError\u001b[0m: can't set attribute"
          ]
        }
      ]
    },
    {
      "cell_type": "markdown",
      "metadata": {
        "id": "lRppQwPX4fpa"
      },
      "source": [
        "Notice that the `to_csv()` method in the original class was using the original `created_at` attribute. After converting the attribute into a property, you could replace the call to `self._created_at` with the call to the internal attribute that's attached to the property, or you could keep it as `self.created_at`, in which case you'll now be accessing the property. Either way works!"
      ]
    },
    {
      "cell_type": "code",
      "metadata": {
        "id": "-w8ry68F4UmC"
      },
      "source": [
        ""
      ],
      "execution_count": null,
      "outputs": []
    }
  ]
}