{
  "nbformat": 4,
  "nbformat_minor": 0,
  "metadata": {
    "colab": {
      "name": "OOP",
      "provenance": []
    },
    "kernelspec": {
      "name": "python3",
      "display_name": "Python 3"
    },
    "language_info": {
      "name": "python"
    }
  },
  "cells": [
    {
      "cell_type": "markdown",
      "metadata": {
        "id": "nEe0NKevqwqk"
      },
      "source": [
        "### ต้องเขียนเอง อันนี้ไม่รู้วิธีเอาต้นฉบับออกมา หรืออาจจะมีให้ทีหลัง\n",
        "\n",
        "# **Exploring object interface**\n",
        "\n",
        "The best way to learn how to write object-oriented code is to study the design of existing classes. You've already learned about exploration tools like **`type()`** and **`dir()`**.\n",
        "\n",
        "Another important function is **`help()`**: calling **`help(x)`** in the console will show the documentation for the object or class **`x`**.\n",
        "\n",
        "Most real world classes have <ins>*many methods and attributes*</ins>, and it is easy to get lost, so in this exercise, you will start with something simpler. We have defined a class, and created an object of that class called mystery. Explore the object in the console using the tools that you learned.\n",
        "\n",
        "Explore **`Employee`** in the console further to find out what attributes it has.\n",
        "\n",
        "* Print the mystery employee's **`name`** attribute.\n",
        "* Print the employee's **`salary`**.\n",
        "* Give Natasha a raise of $`2500` by using a suitable method (use `help()` again if you need to!).\n",
        "* Print the salary again."
      ]
    },
    {
      "cell_type": "code",
      "metadata": {
        "id": "IBcMJfIcjeBF"
      },
      "source": [
        "class Employee:\n",
        "    \"\"\" \n",
        "    Class representing a company employee. \n",
        "\n",
        "    Attributes\n",
        "    ----------\n",
        "    name : str \n",
        "        Employee's name        \n",
        "    email : str, default None\n",
        "        Employee's email\n",
        "    salary : float, default None\n",
        "        Employee's salary\n",
        "    rank : int, default 5\n",
        "        The rank of the employee in the company hierarchy (1 -- CEO, 2 -- direct reports of CEO, 3 -- direct reports of direct reports of CEO etc). Cannot be None if the employee is current.\n",
        "   \n",
        "    ----------------------------------------------------------------------\n",
        "    \"\"\"\n",
        "    def __init__(self, name, email=None, salary=None, rank=5):\n",
        "        \"\"\"Create an Employee object\"\"\"\n",
        "        self.name, self.email, self.salary, self.rank = name, email, salary, rank\n",
        "    \n",
        "    def give_raise(self, amount):\n",
        "        \"\"\"Raise employee's salary by a certain `amount`. Can only be used with current employees.\n",
        "       \n",
        "       Example usage:\n",
        "         # emp is an Employee object\n",
        "         emp.give_raise(1000)\"\"\"\n",
        "        if self.salary is not None:\n",
        "            self.salary += amount\n",
        "    \n",
        "    def promote(self):\n",
        "        \"\"\"Promote an employee to the next level of the company hierarchy. Decreases the rank of the employee by 1. Can only be used on current employeed who are not at the top of the hierarchy.\n",
        "       \n",
        "       Example usage:\n",
        "           # emp is an Employee object\n",
        "           emp.promote()\"\"\"\n",
        "        if (self.rank is not None) & (self.rank > 1):\n",
        "            self.rank -= 1\n",
        "    \n",
        "    def terminate(self):\n",
        "        \"\"\"Terminate the employee. Sets salary and rank to None..\n",
        "       \n",
        "       Example usage:\n",
        "          # emp is an Employee object\n",
        "          emp.terminate()\"\"\"\n",
        "        self.salary, self.rank = None, None\n",
        "        \n",
        "mystery = Employee(name=\"Natasha Ting\", salary=73500.0)\n"
      ],
      "execution_count": null,
      "outputs": []
    },
    {
      "cell_type": "code",
      "metadata": {
        "colab": {
          "base_uri": "https://localhost:8080/"
        },
        "id": "UPmmmDdXprNK",
        "outputId": "77529d77-925e-45d5-e979-8117a668b129"
      },
      "source": [
        "# Print the mystery employee's name\n",
        "print(mystery.name)\n",
        "\n",
        "# Print the mystery employ  ee's salary\n",
        "print(mystery.salary)\n",
        "\n",
        "# Give the mystery employee a raise of $2500\n",
        "mystery.give_raise(2500)\n",
        "\n",
        "# Print the salary again\n",
        "print(mystery.salary)"
      ],
      "execution_count": null,
      "outputs": [
        {
          "output_type": "stream",
          "text": [
            "Natasha Ting\n",
            "73500.0\n",
            "76000.0\n"
          ],
          "name": "stdout"
        }
      ]
    },
    {
      "cell_type": "markdown",
      "source": [
        "### **Understanding class definitions**\n",
        "\n",
        "Objects and classes consist of \n",
        "* ***attributes*** (storing the state) and \n",
        "* ***methods*** (storing the behavior)\n",
        "\n",
        "Before you get to writing your own classes, you need to understand the basic structure of the class, and how attributes in the class definition relate to attributes in the object. "
      ],
      "metadata": {
        "id": "nqUm6vqc6IRL"
      }
    },
    {
      "cell_type": "code",
      "metadata": {
        "colab": {
          "base_uri": "https://localhost:8080/"
        },
        "id": "HuW-GlHvp24q",
        "outputId": "3dd2fb2f-4eb3-444c-a50c-6c69a131ebff"
      },
      "source": [
        "class MyCounter:\n",
        "    def set_count(self, n):\n",
        "        self.count = n\n",
        "mc = MyCounter()\n",
        "mc.set_count(5)\n",
        "mc.count = mc.count + 1\n",
        "print(mc.count)"
      ],
      "execution_count": null,
      "outputs": [
        {
          "output_type": "stream",
          "text": [
            "6\n"
          ],
          "name": "stdout"
        }
      ]
    },
    {
      "cell_type": "markdown",
      "metadata": {
        "id": "lX4FrDUMNYsY"
      },
      "source": [
        "### Notice how you used ```self.count``` to refer to the **`count`** attribute **inside** a class definition, and ```mc.count``` to refer to the **`count`** attribute of an object.\n",
        "\n",
        "### **Create your first class**\n",
        "\n",
        "You'll start building the **`Employee`** class by creating methods that set attributes, and then add a few methods that manipulate them.\n",
        "\n",
        "An object-oriented approach is most useful when your code <ins>involves complex interactions of many objects</ins>. In real production code, classes can have dozens of attributes and methods with complicated logic, but the underlying structure is the same as with the most simple class.\n",
        "\n",
        "* Create an empty class **`Employee`**.\n",
        "* Create an object **`emp`** of the class **`Employee`** by calling **`Employee()`**.\n",
        "* Try printing the **`.name`** attribute of emp object in the console. What happens?"
      ]
    },
    {
      "cell_type": "code",
      "source": [
        "# Create an empty class Employee\n",
        "class Employee:\n",
        "    pass\n",
        "\n",
        "# Create an object emp of class Employee \n",
        "emp = Employee()\n",
        "emp.name"
      ],
      "metadata": {
        "colab": {
          "base_uri": "https://localhost:8080/",
          "height": 208
        },
        "id": "3Z88OYM-8wZt",
        "outputId": "427ea914-7e0d-4f36-96d9-56ad1a974baf"
      },
      "execution_count": null,
      "outputs": [
        {
          "output_type": "error",
          "ename": "AttributeError",
          "evalue": "ignored",
          "traceback": [
            "\u001b[0;31m---------------------------------------------------------------------------\u001b[0m",
            "\u001b[0;31mAttributeError\u001b[0m                            Traceback (most recent call last)",
            "\u001b[0;32m<ipython-input-1-9a21cca86f5d>\u001b[0m in \u001b[0;36m<module>\u001b[0;34m()\u001b[0m\n\u001b[1;32m      5\u001b[0m \u001b[0;31m# Create an object emp of class Employee\u001b[0m\u001b[0;34m\u001b[0m\u001b[0;34m\u001b[0m\u001b[0;34m\u001b[0m\u001b[0m\n\u001b[1;32m      6\u001b[0m \u001b[0memp\u001b[0m \u001b[0;34m=\u001b[0m \u001b[0mEmployee\u001b[0m\u001b[0;34m(\u001b[0m\u001b[0;34m)\u001b[0m\u001b[0;34m\u001b[0m\u001b[0;34m\u001b[0m\u001b[0m\n\u001b[0;32m----> 7\u001b[0;31m \u001b[0memp\u001b[0m\u001b[0;34m.\u001b[0m\u001b[0mname\u001b[0m\u001b[0;34m\u001b[0m\u001b[0;34m\u001b[0m\u001b[0m\n\u001b[0m",
            "\u001b[0;31mAttributeError\u001b[0m: 'Employee' object has no attribute 'name'"
          ]
        }
      ]
    },
    {
      "cell_type": "markdown",
      "source": [
        "* Modify the Employee class to include a `.set_name()` method that takes a `new_name` argument, and assigns `new_name` to the `.name` attribute of the class.\n",
        "* Use the `set_name()` method on `emp` to set the name to `'Korel Rossi'`.\n",
        "* Print `emp.name`."
      ],
      "metadata": {
        "id": "yvs7vujS9PEs"
      }
    },
    {
      "cell_type": "code",
      "source": [
        "# Include a set_name method\n",
        "class Employee:\n",
        "  \n",
        "  def set_name(self, new_name):\n",
        "      self.name = new_name\n",
        "  \n",
        "# Create an object emp of class Employee  \n",
        "emp = Employee()\n",
        "\n",
        "# Use set_name() on emp to set the name of emp to 'Korel Rossi'\n",
        "emp.set_name('Korel Rossi') \n",
        "\n",
        "# Print the name of emp\n",
        "print(emp.name)"
      ],
      "metadata": {
        "colab": {
          "base_uri": "https://localhost:8080/"
        },
        "id": "NcFIhrCi9__s",
        "outputId": "50693f23-7a31-466a-fa0f-619b513528c2"
      },
      "execution_count": null,
      "outputs": [
        {
          "output_type": "stream",
          "name": "stdout",
          "text": [
            "Korel Rossi\n"
          ]
        }
      ]
    },
    {
      "cell_type": "markdown",
      "source": [
        "* Follow the pattern to add another method - `set_salary()` - that will set the salary attribute of the class to the parameter `new_salary` passed to method.\n",
        "* Set the salary of `emp` to `50000`.\n",
        "* Try printing `emp.salary` before and after calling `set_salary()`."
      ],
      "metadata": {
        "id": "P6a_M1ME-Cp2"
      }
    },
    {
      "cell_type": "code",
      "source": [
        "class Employee:\n",
        "  \n",
        "    def set_name(self, new_name):\n",
        "        self.name = new_name\n",
        "    \n",
        "    # Add set_salary() method\n",
        "    def set_salary(self, new_salary):\n",
        "        self.salary = new_salary\n",
        "  \n",
        "  \n",
        "# Create an object emp of class Employee  \n",
        "emp = Employee()\n",
        "\n",
        "# Use set_name to set the name of emp to 'Korel Rossi'\n",
        "emp.set_name('Korel Rossi')\n",
        "\n",
        "print(emp.salary)\n",
        "\n"
      ],
      "metadata": {
        "colab": {
          "base_uri": "https://localhost:8080/",
          "height": 226
        },
        "id": "IvYQq1Jv-ls6",
        "outputId": "27c26a78-8bb6-4355-ed24-f5aa7e6e9e9c"
      },
      "execution_count": null,
      "outputs": [
        {
          "output_type": "error",
          "ename": "AttributeError",
          "evalue": "ignored",
          "traceback": [
            "\u001b[0;31m---------------------------------------------------------------------------\u001b[0m",
            "\u001b[0;31mAttributeError\u001b[0m                            Traceback (most recent call last)",
            "\u001b[0;32m<ipython-input-3-e566b33af10d>\u001b[0m in \u001b[0;36m<module>\u001b[0;34m()\u001b[0m\n\u001b[1;32m     15\u001b[0m \u001b[0memp\u001b[0m\u001b[0;34m.\u001b[0m\u001b[0mset_name\u001b[0m\u001b[0;34m(\u001b[0m\u001b[0;34m'Korel Rossi'\u001b[0m\u001b[0;34m)\u001b[0m\u001b[0;34m\u001b[0m\u001b[0;34m\u001b[0m\u001b[0m\n\u001b[1;32m     16\u001b[0m \u001b[0;34m\u001b[0m\u001b[0m\n\u001b[0;32m---> 17\u001b[0;31m \u001b[0mprint\u001b[0m\u001b[0;34m(\u001b[0m\u001b[0memp\u001b[0m\u001b[0;34m.\u001b[0m\u001b[0msalary\u001b[0m\u001b[0;34m)\u001b[0m\u001b[0;34m\u001b[0m\u001b[0;34m\u001b[0m\u001b[0m\n\u001b[0m\u001b[1;32m     18\u001b[0m \u001b[0;34m\u001b[0m\u001b[0m\n",
            "\u001b[0;31mAttributeError\u001b[0m: 'Employee' object has no attribute 'salary'"
          ]
        }
      ]
    },
    {
      "cell_type": "code",
      "metadata": {
        "colab": {
          "base_uri": "https://localhost:8080/"
        },
        "id": "n53F4h9zNDq9",
        "outputId": "c2334844-385a-400f-fa3b-e31fcec080a1"
      },
      "source": [
        "class Employee:\n",
        "  \n",
        "    def set_name(self, new_name):\n",
        "        self.name = new_name\n",
        "  \n",
        "  # Add set_salary() method\n",
        "    def set_salary(self, new_salary):\n",
        "        self.salary = new_salary\n",
        "  \n",
        "  \n",
        "# Create an object emp of class Employee  \n",
        "emp = Employee()\n",
        "\n",
        "# Use set_name to set the name of emp to 'Korel Rossi'\n",
        "emp.set_name('Korel Rossi')\n",
        "\n",
        "# Set the salary of emp to 50000\n",
        "emp.set_salary(50000)\n",
        "print(emp.salary)"
      ],
      "execution_count": null,
      "outputs": [
        {
          "output_type": "stream",
          "name": "stdout",
          "text": [
            "50000\n"
          ]
        }
      ]
    },
    {
      "cell_type": "markdown",
      "metadata": {
        "id": "J1c1nJ1YPvnK"
      },
      "source": [
        "### Try running **`dir(emp)`** in the console and see if you can find where these attributes and methods pop up!"
      ]
    },
    {
      "cell_type": "code",
      "source": [
        "dir(emp)"
      ],
      "metadata": {
        "colab": {
          "base_uri": "https://localhost:8080/"
        },
        "id": "RfgYhwMv--rK",
        "outputId": "596b0d39-a028-4a43-e499-6c331aa3da03"
      },
      "execution_count": null,
      "outputs": [
        {
          "output_type": "execute_result",
          "data": {
            "text/plain": [
              "['__class__',\n",
              " '__delattr__',\n",
              " '__dict__',\n",
              " '__dir__',\n",
              " '__doc__',\n",
              " '__eq__',\n",
              " '__format__',\n",
              " '__ge__',\n",
              " '__getattribute__',\n",
              " '__gt__',\n",
              " '__hash__',\n",
              " '__init__',\n",
              " '__init_subclass__',\n",
              " '__le__',\n",
              " '__lt__',\n",
              " '__module__',\n",
              " '__ne__',\n",
              " '__new__',\n",
              " '__reduce__',\n",
              " '__reduce_ex__',\n",
              " '__repr__',\n",
              " '__setattr__',\n",
              " '__sizeof__',\n",
              " '__str__',\n",
              " '__subclasshook__',\n",
              " '__weakref__',\n",
              " 'name',\n",
              " 'salary',\n",
              " 'set_name',\n",
              " 'set_salary']"
            ]
          },
          "metadata": {},
          "execution_count": 5
        }
      ]
    },
    {
      "cell_type": "markdown",
      "source": [
        "### **Using attributes in class definition**\n",
        "\n",
        "In the previous exercise, you defined an `Employee` class with two attributes and two methods setting those attributes. This kind of method, aptly called a **`setter`** method, is far from the only possible kind. <ins>**Methods are functions**</ins>, so anything you can do with a function, you can also do with a method. For example, you can use methods to print, return values, make plots, and raise exceptions, as long as it makes sense as the behavior of the objects described by the class (an `Employee` probably wouldn't have a `pivot_table()` method).\n",
        "\n",
        "In this exercise, you'll go beyond the **`setter`** methods and learn how to use existing class attributes to define new methods. The `Employee` class and the `emp` object from the previous exercise are in your script pane.\n",
        "\n",
        "* Print the `salary` attribute of `emp`.\n",
        "* Attributes aren't read-only: use assignment (equality sign) to increase the salary attribute of `emp` by `1500`, and print it again."
      ],
      "metadata": {
        "id": "HcMAM9JP_QAN"
      }
    },
    {
      "cell_type": "code",
      "source": [
        "class Employee:\n",
        "    def set_name(self, new_name):\n",
        "        self.name = new_name\n",
        "\n",
        "    def set_salary(self, new_salary):\n",
        "        self.salary = new_salary \n",
        "  \n",
        "emp = Employee()\n",
        "emp.set_name('Korel Rossi')\n",
        "emp.set_salary(50000)\n",
        "\n",
        "# Print the salary attribute of emp\n",
        "print(emp.salary)\n",
        "\n",
        "# Increase salary of emp by 1500\n",
        "emp.salary += 1500\n",
        "# Print the salary attribute of emp again\n",
        "print(emp.salary)"
      ],
      "metadata": {
        "colab": {
          "base_uri": "https://localhost:8080/"
        },
        "id": "HfRb6smLABq3",
        "outputId": "d9586a10-5f0f-41ef-a3e1-2296185a211a"
      },
      "execution_count": null,
      "outputs": [
        {
          "output_type": "stream",
          "name": "stdout",
          "text": [
            "50000\n",
            "51500\n"
          ]
        }
      ]
    },
    {
      "cell_type": "markdown",
      "source": [
        "Raising a salary for an employee is a *common pattern of behavior*, so it should be part of the class definition instead.\n",
        "\n",
        "* Add a method `give_raise()` to Employee that increases the salary by the amount passed to `give_raise()` as a parameter."
      ],
      "metadata": {
        "id": "yKAC0h4KAPvM"
      }
    },
    {
      "cell_type": "code",
      "source": [
        "class Employee:\n",
        "    def set_name(self, new_name):\n",
        "        self.name = new_name\n",
        "\n",
        "    def set_salary(self, new_salary):\n",
        "        self.salary = new_salary \n",
        "\n",
        "    # Add a give_raise() method with raise amount as a parameter\n",
        "    def give_raise(self, amount):\n",
        "        self.salary += amount\n",
        "\n",
        "\n",
        "emp = Employee()\n",
        "emp.set_name('Korel Rossi')\n",
        "emp.set_salary(50000)\n",
        "\n",
        "print(emp.salary)\n",
        "emp.give_raise(1500)\n",
        "print(emp.salary)"
      ],
      "metadata": {
        "colab": {
          "base_uri": "https://localhost:8080/"
        },
        "id": "pj3OVha_A-nA",
        "outputId": "5248c9cb-2821-48c5-e406-debb08ef66e8"
      },
      "execution_count": null,
      "outputs": [
        {
          "output_type": "stream",
          "name": "stdout",
          "text": [
            "50000\n",
            "51500\n"
          ]
        }
      ]
    },
    {
      "cell_type": "markdown",
      "source": [
        "Methods don't have to just modify the attributes - they can return values as well!\n",
        "\n",
        "* Add a method `monthly_salary()` that returns the value of the `.salary` attribute divided by `12`.\n",
        "* Call `.monthly_salary()` on `emp`, assign it to `mon_sal`, and print."
      ],
      "metadata": {
        "id": "-DUJ_IrlBCq6"
      }
    },
    {
      "cell_type": "code",
      "metadata": {
        "colab": {
          "base_uri": "https://localhost:8080/"
        },
        "id": "NXj4F0WMPhAU",
        "outputId": "a0a5ce63-1cda-45a7-90d2-9ad3cdec0f56"
      },
      "source": [
        "class Employee:\n",
        "    def set_name(self, new_name):\n",
        "        self.name = new_name\n",
        "\n",
        "    def set_salary(self, new_salary):\n",
        "        self.salary = new_salary \n",
        "\n",
        "    def give_raise(self, amount):\n",
        "        self.salary = self.salary + amount\n",
        "\n",
        "    # Add monthly_salary method that returns 1/12th of salary attribute\n",
        "    def monthly_salary(self):\n",
        "        return self.salary/12\n",
        "\n",
        "    \n",
        "emp = Employee()\n",
        "emp.set_name('Korel Rossi')\n",
        "emp.set_salary(50000)\n",
        "\n",
        "# Get monthly salary of emp and assign to mon_sal\n",
        "mon_sal = emp.monthly_salary()\n",
        "\n",
        "# Print mon_sal\n",
        "print(mon_sal)"
      ],
      "execution_count": null,
      "outputs": [
        {
          "output_type": "stream",
          "text": [
            "4166.666666666667\n"
          ],
          "name": "stdout"
        }
      ]
    },
    {
      "cell_type": "markdown",
      "source": [
        "# ***Class anatomy: the `__init__` constructor***"
      ],
      "metadata": {
        "id": "1DwDsHPxCFkL"
      }
    },
    {
      "cell_type": "code",
      "source": [
        "class Customer:\n",
        "    def __init__(self, name):\n",
        "        self.name = name # <--- Create the .name attribute and set it to name parameter\n",
        "        print(\"The __init__ method was called\")\n",
        "        \n",
        "cust = Customer(\"Lara de Silva\") #<--- __init__ is implicitly called\n",
        "print(cust.name)"
      ],
      "metadata": {
        "colab": {
          "base_uri": "https://localhost:8080/"
        },
        "id": "ISHPzF7hC-Ma",
        "outputId": "695a85dd-8672-4ebd-a562-89fd35f86aed"
      },
      "execution_count": null,
      "outputs": [
        {
          "output_type": "stream",
          "name": "stdout",
          "text": [
            "The __init__ method was called\n",
            "Lara de Silva\n"
          ]
        }
      ]
    },
    {
      "cell_type": "markdown",
      "source": [
        "We can add more values to **`__init__`**."
      ],
      "metadata": {
        "id": "-yQt__5KDgnK"
      }
    },
    {
      "cell_type": "code",
      "source": [
        "class Customer:\n",
        "    def __init__(self, name, balance): # <-- balance parameter added\n",
        "        self.name = name\n",
        "        self.balance = balance # <-- balance attribute added\n",
        "        print(\"The __init__ method was called\")\n",
        "        \n",
        "cust = Customer(\"Lara de Silva\", 1000) # <-- __init__ is called\n",
        "print(cust.name)\n",
        "print(cust.balance)"
      ],
      "metadata": {
        "colab": {
          "base_uri": "https://localhost:8080/"
        },
        "id": "SF_jZ5z9Dn3M",
        "outputId": "b7610d43-0874-442c-d887-5efca40cb584"
      },
      "execution_count": null,
      "outputs": [
        {
          "output_type": "stream",
          "name": "stdout",
          "text": [
            "The __init__ method was called\n",
            "Lara de Silva\n",
            "1000\n"
          ]
        }
      ]
    },
    {
      "cell_type": "markdown",
      "source": [
        "# **Best practices creating classes**\n",
        "1. **Initialize attributes in** **`__init__()`**\n",
        "2. **Naming**\n",
        "  * `CamelCase` for class,\n",
        "  * `lower_snake_case` for functions and attributes\n",
        "3. **`self`** is `self`\n",
        "4. **Use docstrings**\n"
      ],
      "metadata": {
        "id": "GSNq5FN-EXxn"
      }
    },
    {
      "cell_type": "code",
      "source": [
        "class MyClass:\n",
        "    \"\"\"This class does nothing\"\"\"\n",
        "    pass"
      ],
      "metadata": {
        "id": "Ndib0dCEFAcK"
      },
      "execution_count": null,
      "outputs": []
    },
    {
      "cell_type": "markdown",
      "source": [
        "### **Add a class constructor**\n",
        "\n",
        "Instead of using the methods like `set_salary()` that you wrote in the previous lesson, you will introduce a constructor that assigns name and salary to the employee at the moment when the object is created.\n",
        "\n",
        "You'll also create a new attribute -- `hire_date` -- which will **NOT** be initialized through parameters, but instead will contain the current date.\n",
        "\n",
        "Initializing attributes in the constructor is a good idea, because this ensures that the object has all the necessary attributes the moment it is created.\n",
        "\n",
        "1. Define the class `Employee` with a constructor **`__init__()`** that:\n",
        "\n",
        "  * accepts two arguments, `name` and `salary` (with default value `0`),\n",
        "  * creates two attributes, also called `name` and `salary`,\n",
        "  * sets their values to the corresponding arguments."
      ],
      "metadata": {
        "id": "7DWWXDhGPTuj"
      }
    },
    {
      "cell_type": "code",
      "source": [
        "class Employee:\n",
        "    # Create __init__() method\n",
        "    def __init__(self, name, salary=0):\n",
        "        # Create the name and salary attributes\n",
        "        self.name = name\n",
        "        self.salary = salary\n",
        "    \n",
        "    # From the previous lesson\n",
        "    def give_raise(self, amount):\n",
        "        self.salary += amount\n",
        "\n",
        "    def monthly_salary(self):\n",
        "        return self.salary/12\n",
        "        \n",
        "emp = Employee(\"Korel Rossi\")\n",
        "print(emp.name)\n",
        "print(emp.salary)     "
      ],
      "metadata": {
        "colab": {
          "base_uri": "https://localhost:8080/"
        },
        "id": "VdQkEci1QsWY",
        "outputId": "204541e4-10b5-4af7-a8ad-55c0e4ed69e4"
      },
      "execution_count": null,
      "outputs": [
        {
          "output_type": "stream",
          "name": "stdout",
          "text": [
            "Korel Rossi\n",
            "0\n"
          ]
        }
      ]
    },
    {
      "cell_type": "markdown",
      "source": [
        "The **`__init__()`** method is a great place to do preprocessing.\n",
        "\n",
        "* Modify **`__init__()`** to check whether the `salary` parameter is positive:\n",
        "  * if yes, assign it to the `salary` attribute,\n",
        "  * if not, assign `0` to the attribute and print `\"Invalid salary!\"`."
      ],
      "metadata": {
        "id": "8hMpPdiQQxvH"
      }
    },
    {
      "cell_type": "code",
      "metadata": {
        "colab": {
          "base_uri": "https://localhost:8080/"
        },
        "id": "KOhhDpZzTEyz",
        "outputId": "a9f1b34b-5314-49ec-e908-a56f244d1b45"
      },
      "source": [
        "class Employee:\n",
        "  \n",
        "    def __init__(self, name, salary=0):\n",
        "        self.name = name\n",
        "        # Modify code below to check if salary is positive\n",
        "        self.salary = salary if salary > 0 else 0, print(\"Invalid salary!\")\n",
        "\n",
        "   \n",
        "   # ...Other methods omitted for brevity ...\n",
        "      \n",
        "emp = Employee(\"Korel Rossi\", -1000)\n",
        "print(emp.name)\n",
        "print(emp.salary[0]) # เพราะการเขียนแบบข้างต้นไปเปลี่ยนให้ self.salary เป็น tuple\n",
        "print(emp.salary)"
      ],
      "execution_count": null,
      "outputs": [
        {
          "output_type": "stream",
          "text": [
            "Invalid salary!\n",
            "Korel Rossi\n",
            "0\n",
            "(0, None)\n"
          ],
          "name": "stdout"
        }
      ]
    },
    {
      "cell_type": "markdown",
      "metadata": {
        "id": "Ksxk6GggXibF"
      },
      "source": [
        "ถ้าเขียนแบบปกติ ไม่ใช้ if statement ก็แบบด้านล่างนี้"
      ]
    },
    {
      "cell_type": "code",
      "metadata": {
        "colab": {
          "base_uri": "https://localhost:8080/"
        },
        "id": "_W0o248VWhbo",
        "outputId": "ae3ee10e-a7f1-4ab7-c7bb-43708b9a3a20"
      },
      "source": [
        "class Employee:\n",
        "  \n",
        "    def __init__(self, name, salary=0):\n",
        "        self.name = name\n",
        "        # Modify code below to check if salary is positive\n",
        "        if salary > 0:\n",
        "            self.salary = salary\n",
        "        else:\n",
        "            self.salary = 0\n",
        "            print(\"Invalid salary!\")\n",
        "   # ...Other methods omitted for brevity ...\n",
        "      \n",
        "emp = Employee(\"Korel Rossi\", -1000)\n",
        "print(emp.name)\n",
        "print(emp.salary)"
      ],
      "execution_count": null,
      "outputs": [
        {
          "output_type": "stream",
          "text": [
            "Invalid salary!\n",
            "Korel Rossi\n",
            "0\n"
          ],
          "name": "stdout"
        }
      ]
    },
    {
      "cell_type": "markdown",
      "metadata": {
        "id": "uAV-otdaaax_"
      },
      "source": [
        "# You can use functions from other modules in your class definition, but you need to import the module first, and the import statement has to be ***outside*** class definition.\n",
        "\n",
        "* Import `datetime` from the `datetime` module. This contains the function that returns current date.\n",
        "* Add an attribute `hire_date` and set it to **`datetime.today()`**."
      ]
    },
    {
      "cell_type": "code",
      "metadata": {
        "colab": {
          "base_uri": "https://localhost:8080/"
        },
        "id": "-4HIlxtfWqhc",
        "outputId": "a7f2c09b-3ce5-4abf-ad36-070140cbe38c"
      },
      "source": [
        "# Import datetime from datetime\n",
        "from datetime import datetime\n",
        "\n",
        "class Employee:\n",
        "    \n",
        "    def __init__(self, name, salary=0):\n",
        "        self.name = name\n",
        "        if salary > 0:\n",
        "          self.salary = salary\n",
        "        else:\n",
        "          self.salary = 0\n",
        "          print(\"Invalid salary!\")\n",
        "          \n",
        "        # Add the hire_date attribute and set it to today's date\n",
        "        self.hire_date = datetime.today()\n",
        "        \n",
        "   # ...Other methods omitted for brevity ...\n",
        "      \n",
        "emp = Employee(\"Korel Rossi\", -1000)\n",
        "print(emp.name)\n",
        "print(emp.salary)\n",
        "print(emp.hire_date.strftime('%Y-%m-%d'))"
      ],
      "execution_count": null,
      "outputs": [
        {
          "output_type": "stream",
          "name": "stdout",
          "text": [
            "Invalid salary!\n",
            "Korel Rossi\n",
            "0\n",
            "2022-01-07\n"
          ]
        }
      ]
    },
    {
      "cell_type": "markdown",
      "source": [
        "### **Write a class from scratch**\n",
        "\n",
        "You want to be able to tell the position of the element, how far it is from other elements, and easily implement horizontal or vertical flip .\n",
        "\n",
        "The most basic element of any visualization is a single point. In this exercise, you'll write a class for a point on a plane from scratch.\n",
        "\n",
        "Define the class `Point` that has:\n",
        "\n",
        "* Two attributes, `x` and `y` - the coordinates of the point on the plane;\n",
        "* A constructor that accepts two arguments, `x` and `y`, that initialize the corresponding attributes. These arguments should have default value of `0.0`;\n",
        "* A method `distance_to_origin()` that returns the distance from the point to the origin. The formula for that is $\\sqrt{x^2 + y^2}$\n",
        "* *A method* `reflect()`, that reflects the point with respect to the x- or y-axis:\n",
        "  * accepts one argument `axis`,\n",
        "  * if `axis=\"x\"` , it sets the `y` (not a typo!) attribute to the negative value of the `y` attribute,\n",
        "  * if `axis=\"y\"`, it sets the `x` attribute to the negative value of the `x` attribute,\n",
        "  * for any other value of axis, prints an error message.\n",
        "\n",
        "  ![image.png](data:image/png;base64,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)\n",
        "\n",
        "Note: *You can choose to use `sqrt()` function from either the `numpy` or the `math` package, but whichever package you choose, **don't forget to import it** before starting the class definition!*\n",
        "\n",
        "*To check your work, you should be able to run the following code without errors:*\n",
        "\n",
        "```\n",
        "pt = Point(x=3.0)\n",
        "pt.reflect(\"y\")\n",
        "print((pt.x, pt.y))\n",
        "pt.y = 4.0\n",
        "print(pt.distance_to_origin())\n",
        "```\n",
        "\n",
        "and return the output\n",
        "\n",
        "```\n",
        "(-3.0,0.0)\n",
        "5.0\n",
        "```"
      ],
      "metadata": {
        "id": "53rUbNL1T1zS"
      }
    },
    {
      "cell_type": "code",
      "metadata": {
        "colab": {
          "base_uri": "https://localhost:8080/"
        },
        "id": "2dkDI25-XGaJ",
        "outputId": "04aad9bc-e527-441d-db84-cea1b38bd665"
      },
      "source": [
        "# Write the class Point as outlined in the instructions\n",
        "from math import sqrt\n",
        "\n",
        "class Point:\n",
        "    def __init__(self, x=0.0, y=0.0):\n",
        "        self.x, self.y = x, y\n",
        "    def distance_to_origin(self):\n",
        "        return sqrt(self.x**2+self.y**2)\n",
        "    def reflect(self, axis):\n",
        "        if axis == \"x\":\n",
        "            self.y = -self.y \n",
        "        elif axis == \"y\":\n",
        "            self.x = -self.x \n",
        "        else:\n",
        "            print(\"Error\")\n",
        "\n",
        "pt = Point(x=3.0)\n",
        "pt.reflect(\"y\")\n",
        "print((pt.x, pt.y))\n",
        "pt.y = 4.0\n",
        "print(pt.distance_to_origin())"
      ],
      "execution_count": null,
      "outputs": [
        {
          "output_type": "stream",
          "text": [
            "(-3.0, 0.0)\n",
            "5.0\n"
          ],
          "name": "stdout"
        }
      ]
    },
    {
      "cell_type": "markdown",
      "metadata": {
        "id": "uy9ZMFB5GSwA"
      },
      "source": [
        "Notice how you implemented `distance_to_origin()` as a method instead of an attribute. Implementing it as an attribute would be less sustainable - you would have to recalculate it every time you change the values of the `x` and `y` attributes to make sure the object state stays current.\n",
        "\n",
        "# ***Instance-level attributes***\n",
        "\n",
        "\n"
      ]
    },
    {
      "cell_type": "code",
      "source": [
        "class Employee:\n",
        "    def __init__(self, name, salary):\n",
        "        self.name = name\n",
        "        self.salary = salary\n",
        "\n",
        "emp1 = Employee(\"Teo Mille\", 50000)\n",
        "emp2 = Employee(\"Marta Popov\", 65000)\n",
        "print(emp1.name, emp1.salary)\n",
        "print(emp2.name, emp2.salary)"
      ],
      "metadata": {
        "colab": {
          "base_uri": "https://localhost:8080/"
        },
        "id": "9XE2MQxzyXUM",
        "outputId": "fb81ca4d-0ac1-4f85-e1e2-ab83691b9829"
      },
      "execution_count": null,
      "outputs": [
        {
          "output_type": "stream",
          "name": "stdout",
          "text": [
            "Teo Mille 50000\n",
            "Marta Popov 65000\n"
          ]
        }
      ]
    },
    {
      "cell_type": "markdown",
      "source": [
        "* `.name` , `.salary` are ***instance attributes***\n",
        "* `self` binds to an instance\n",
        "\n",
        "แต่ในบางครั้ง ก็อยากให้มี standard attributes ที่เหมือนกันทุกๆ instances เปรียบเสมือนตัวแปร **`global`** ใน `class` นั้นๆ\n",
        "\n"
      ],
      "metadata": {
        "id": "UiJzN1H5ykzk"
      }
    },
    {
      "cell_type": "markdown",
      "source": [
        "# ***Class-level attributes***\n",
        "\n",
        "Class attributes store data that is shared among all the class instances. They are assigned values in the class body, and are referred to using the ```ClassName.syntax``` rather than ```self.syntax``` when used in methods."
      ],
      "metadata": {
        "id": "07T88laByK0c"
      }
    },
    {
      "cell_type": "code",
      "source": [
        "class MyClass:\n",
        "    # Define a class attribute\n",
        "    CLASS_ATTR_NAME = \"attr_value\""
      ],
      "metadata": {
        "id": "5KQAa5Uv3EJt"
      },
      "execution_count": null,
      "outputs": []
    },
    {
      "cell_type": "markdown",
      "source": [
        "## ***Class-level Data***\n",
        "\n",
        "* <ins>Do NOT</ins> use **`self`** to *define* class attribute\n",
        "* use\n",
        "\n",
        "  ```\n",
        "  ClassName.ATTR_NAME \n",
        "  ```\n",
        "  \n",
        "  to access the class attribute value"
      ],
      "metadata": {
        "id": "H2tsA2C93X3M"
      }
    },
    {
      "cell_type": "code",
      "source": [
        "class Employee:\n",
        "    # Define a class attribute\n",
        "    MIN_SALARY = 30000 #<--- no self.\n",
        "\n",
        "    def __init__(self, name, salary):\n",
        "        self.name = name\n",
        "\n",
        "        # Use class name to access class attribute\n",
        "        if salary >= Employee.MIN_SALARY: \n",
        "            self.salary = salary\n",
        "        else:\n",
        "            self.salary = Employee.MIN_SALARY"
      ],
      "metadata": {
        "id": "wmrz1xrC3fT_"
      },
      "execution_count": null,
      "outputs": []
    },
    {
      "cell_type": "markdown",
      "source": [
        "# ***Class methods***\n",
        "\n",
        "* Methods are already \"shared\": same code for every instance\n",
        "* But class methods can't use instance-level data\n",
        "\n",
        "The first argument is not **`self`**, but **`cls`**, referring to the `class`, just like the **`self`** argument was a reference to a particular instance. Then you write it as any other function, keeping in mind that <ins>*you can't refer to any instance attributes in that method.*</ins> \n",
        "\n",
        "* To call a `class method`, we use class-dot-method syntax, rather than object-dot-method syntax."
      ],
      "metadata": {
        "id": "WZf_vKzR5GdA"
      }
    },
    {
      "cell_type": "code",
      "source": [
        "class MyClass:\n",
        "\n",
        "    @classmethod                                # <---use decorator to declare a class method\n",
        "    def my_awesome_method(cls, args, kwargs=0): # <---cls argument refers to the class\n",
        "        pass\n",
        "        # Do stuff here\n",
        "        # Can't use any instance attributes :(\n",
        "            \n",
        "MyClass.my_awesome_method(args...)"
      ],
      "metadata": {
        "id": "fxlx0FAL5aiY"
      },
      "execution_count": null,
      "outputs": []
    },
    {
      "cell_type": "markdown",
      "source": [
        "## **ใช้ Class Methods เมื่อไหร่**\n",
        "\n",
        "* ถ้าใช้ **`__init__()`** มันต้องมีการสร้าง instances ขึ้นมาก่อน\n",
        "* ในการใช้งานจริง อาจต้องมีการสร้าง instances ผ่านทางไฟล์ข้อมูล ซึ่งเมื่อยังไม่มีการสร้าง instances ขึ้นมา ก็ใช้ **`__init__()`** ก่อนไม่ได้ "
      ],
      "metadata": {
        "id": "wKN6jcNO8mZ3"
      }
    },
    {
      "cell_type": "code",
      "source": [
        "class Employee:\n",
        "    MIN_SALARY = 30000\n",
        "    def __init__(self, name, salary=30000):\n",
        "        self.name = name\n",
        "        if salary >= Employee.MIN_SALARY: \n",
        "            self.salary = salary\n",
        "        else: \n",
        "            self.salary = Employee.MIN_SALARY\n",
        "    \n",
        "    @classmethod\n",
        "    def from_file(cls, filename):\n",
        "        with open(filename,\"r\") as f: \n",
        "            name = f.readline()\n",
        "        return cls(name)  # cls refers to the class so this line calls __init__()\n",
        "\n",
        "# Create an employee without calling Employee()\n",
        "emp = Employee.from_file(\"employee_data.txt\") \n",
        "print(emp.name, emp.salary)\n",
        "type(emp)"
      ],
      "metadata": {
        "colab": {
          "base_uri": "https://localhost:8080/"
        },
        "id": "evXPY8rq9KPR",
        "outputId": "00e13250-63a1-42ff-83dc-2226114980c8"
      },
      "execution_count": null,
      "outputs": [
        {
          "output_type": "stream",
          "name": "stdout",
          "text": [
            "Sandia Romanova 30000\n"
          ]
        },
        {
          "output_type": "execute_result",
          "data": {
            "text/plain": [
              "__main__.Employee"
            ]
          },
          "metadata": {},
          "execution_count": 9
        }
      ]
    },
    {
      "cell_type": "markdown",
      "source": [
        "### **Class-level attributes**\n",
        "\n",
        "Class attributes store data that is shared among all the class instances. They are assigned values in the class body, and are referred to using the **`ClassName`**. syntax rather than **`self`**. syntax when used in methods.\n",
        "\n",
        "In this exercise, you will be a game developer working on a game that will have several players moving on a grid and interacting with each other. As the first step, you want to define a `Player` class that will just move along a straight line. `Player` will have a `.position` attribute and a `.move()` method. The grid is limited, so the `position` of `Player` will have a maximal value.\n",
        "\n",
        "1. Define a class `Player` that has:\n",
        "  * A class attribute `MAX_POSITION` with value `10`.\n",
        "  * The **`__init__()`** method that sets the `position` instance attribute to `0`.\n",
        "  * Print `Player.MAX_POSITION`.\n",
        "  * Create a `Player` object `p` and print its `MAX_POSITION`."
      ],
      "metadata": {
        "id": "J8D3Qvk__I2u"
      }
    },
    {
      "cell_type": "code",
      "source": [
        "# Create a Player class\n",
        "class Player:\n",
        "    MAX_POSITION = 10\n",
        "    def __init__(self, position=0):\n",
        "        self.position = position\n",
        "\n",
        "# Print Player.MAX_POSITION       \n",
        "print(Player.MAX_POSITION)\n",
        "\n",
        "# Create a player p and print its MAX_POSITITON\n",
        "p = Player()\n",
        "print(p.MAX_POSITION)"
      ],
      "metadata": {
        "colab": {
          "base_uri": "https://localhost:8080/"
        },
        "id": "mUec_lrDAx6j",
        "outputId": "b235e32e-0145-4b29-c24b-e6626a67d7c1"
      },
      "execution_count": null,
      "outputs": [
        {
          "output_type": "stream",
          "name": "stdout",
          "text": [
            "10\n",
            "10\n"
          ]
        }
      ]
    },
    {
      "cell_type": "markdown",
      "source": [
        "2. Add a `move()` method with a steps parameter such that:\n",
        "\n",
        "  * if `position` plus `steps` is less than `MAX_POSITION`, then add `steps` to `position` and assign the result back to `position`;\n",
        "  * otherwise, set `position` to `MAX_POSITION`.\n",
        "\n",
        "*Take a look at the console for a visualization!*"
      ],
      "metadata": {
        "id": "HuMQnNXBA6NR"
      }
    },
    {
      "cell_type": "code",
      "source": [
        "class Player:\n",
        "    MAX_POSITION = 10\n",
        "    \n",
        "    def __init__(self):\n",
        "        self.position = 0\n",
        "\n",
        "    # Add a move() method with steps parameter\n",
        "    def move(self, steps):\n",
        "        if self.position + steps < Player.MAX_POSITION:\n",
        "            self.position += steps\n",
        "        else:\n",
        "            self.position = Player.MAX_POSITION\n",
        "            \n",
        "    # This method provides a rudimentary visualization in the console    \n",
        "    def draw(self):\n",
        "        drawing = \"-\" * self.position + \"|\" +\"-\"*(Player.MAX_POSITION - self.position)\n",
        "        print(drawing)\n",
        "\n",
        "p = Player(); p.draw()\n",
        "p.move(4); p.draw()\n",
        "p.move(5); p.draw()\n",
        "p.move(3); p.draw()"
      ],
      "metadata": {
        "colab": {
          "base_uri": "https://localhost:8080/"
        },
        "id": "7npNnKA8CcJv",
        "outputId": "9750e6ad-493b-4ac3-ab24-f430d3a63fc6"
      },
      "execution_count": null,
      "outputs": [
        {
          "output_type": "stream",
          "name": "stdout",
          "text": [
            "|----------\n",
            "----|------\n",
            "---------|-\n",
            "----------|\n"
          ]
        }
      ]
    },
    {
      "cell_type": "markdown",
      "source": [
        "### **Changing class attributes**\n",
        "\n",
        "You learned how to define class attributes and how to access them from class instances. So what will happen if you try to assign another value to a class attribute when accessing it from an instance? The answer is not as simple as you might think!\n",
        "\n",
        "The Player class from the previous exercise is pre-defined. Recall that it has a `position` instance attribute, and `MAX_SPEED` and `MAX_POSITION` class attributes. The initial value of `MAX_SPEED` is `3`.\n",
        "\n",
        "* Create two Player objects `p1` and `p2`.\n",
        "* Print `p1.MAX_SPEED` and `p2.MAX_SPEED`.\n",
        "* Assign `7` to `p1.MAX_SPEED`.\n",
        "* Print `p1.MAX_SPEED` and `p2.MAX_SPEED` again.\n",
        "* Print `Player.MAX_SPEED`.\n",
        "* *Examine the output carefully*."
      ],
      "metadata": {
        "id": "CLn_WZ1usi4k"
      }
    },
    {
      "cell_type": "code",
      "metadata": {
        "colab": {
          "base_uri": "https://localhost:8080/"
        },
        "id": "U8ZCQSOtGRb0",
        "outputId": "12595a22-ece8-48e1-e5af-3bc9f956a153"
      },
      "source": [
        "# Create a Player class\n",
        "class Player:\n",
        "    MAX_POSITION = 10\n",
        "    MAX_SPEED = 3\n",
        "    def __init__(self):\n",
        "        self.position = 0\n",
        "\n",
        "    # Add a move() method with steps parameter\n",
        "    def move(self, steps):\n",
        "        # if position plus steps is less than MAX_POSITION, then add steps to \n",
        "        # position and assign the result back to position.\n",
        "        if self.position + steps < Player.MAX_POSITION:\n",
        "            self.position += steps\n",
        "        else: # otherwise, set position to MAX_POSITION\n",
        "            self.position = Player.MAX_POSITION\n",
        "\n",
        "    # This method provides a rudimentary visualization in the console (โจทย์มีมาให้)  \n",
        "    def draw(self):\n",
        "        drawing = \"-\" * self.position + \"|\" +\"-\"*(Player.MAX_POSITION - self.position)\n",
        "        print(drawing)\n",
        "\n",
        "# Create Players p1 and p2\n",
        "p1, p2 = Player(), Player()\n",
        "\n",
        "print(\"MAX_SPEED of p1 and p2 before assignment:\")\n",
        "# Print p1.MAX_SPEED and p2.MAX_SPEED\n",
        "print(p1.MAX_SPEED)\n",
        "print(p2.MAX_SPEED)\n",
        "\n",
        "# Assign 7 to p1.MAX_SPEED\n",
        "p1.MAX_SPEED = 7\n",
        "\n",
        "print(\"MAX_SPEED of p1 and p2 after assignment:\")\n",
        "# Print p1.MAX_SPEED and p2.MAX_SPEED\n",
        "print(p1.MAX_SPEED)\n",
        "print(p2.MAX_SPEED)\n",
        "print(\"MAX_SPEED of Player:\")\n",
        "# Print Player.MAX_SPEED\n",
        "print(Player.MAX_SPEED)"
      ],
      "execution_count": null,
      "outputs": [
        {
          "output_type": "stream",
          "name": "stdout",
          "text": [
            "MAX_SPEED of p1 and p2 before assignment:\n",
            "3\n",
            "3\n",
            "MAX_SPEED of p1 and p2 after assignment:\n",
            "7\n",
            "3\n",
            "MAX_SPEED of Player:\n",
            "3\n"
          ]
        }
      ]
    },
    {
      "cell_type": "markdown",
      "source": [
        "Even though `MAX_SPEED` is shared across instances, assigning `7` to `p1.MAX_SPEED` didn't change the value of `MAX_SPEED` in `p2`, or *even* in the `Player` class.\n",
        "\n",
        "So what happened? In fact, Python created a new instance attribute in `p1`, also called it `MAX_SPEED`, and assigned `7` to it, without touching the class attribute.\n",
        "\n",
        "Now let's change the class attribute value for real.\n",
        "\n",
        "* Modify the assignment to assign `7` to Player.MAX_SPEED instead."
      ],
      "metadata": {
        "id": "9HmQBD8yuRXL"
      }
    },
    {
      "cell_type": "code",
      "metadata": {
        "colab": {
          "base_uri": "https://localhost:8080/"
        },
        "id": "W4kacJ15MkIV",
        "outputId": "8761d70f-a89e-4624-e6a1-814cc6c03e64"
      },
      "source": [
        "class Player:\n",
        "    MAX_POSITION = 10\n",
        "    MAX_SPEED = 3\n",
        "    def __init__(self):\n",
        "        self.position = 0\n",
        "\n",
        "    # Add a move() method with steps parameter\n",
        "    def move(self, steps):\n",
        "        # if position plus steps is less than MAX_POSITION, then add steps to \n",
        "        # position and assign the result back to position.\n",
        "        if self.position + steps < Player.MAX_POSITION:\n",
        "            self.position += steps\n",
        "        else: # otherwise, set position to MAX_POSITION\n",
        "            self.position = Player.MAX_POSITION\n",
        "\n",
        "    # This method provides a rudimentary visualization in the console (โจทย์มีมาให้)  \n",
        "    def draw(self):\n",
        "        drawing = \"-\" * self.position + \"|\" +\"-\"*(Player.MAX_POSITION - self.position)\n",
        "        print(drawing)\n",
        "\n",
        "# Create Players p1 and p2\n",
        "p1, p2 = Player(), Player()\n",
        "\n",
        "print(\"MAX_SPEED of p1 and p2 before assignment:\")\n",
        "# Print p1.MAX_SPEED and p2.MAX_SPEED\n",
        "print(p1.MAX_SPEED)\n",
        "print(p2.MAX_SPEED)\n",
        "\n",
        "#######################################################\n",
        "#               ---MODIFY THIS LINE---                # \n",
        "####################################################### \n",
        "Player.MAX_SPEED = 7\n",
        "\n",
        "print(\"MAX_SPEED of p1 and p2 after assignment:\")\n",
        "# Print p1.MAX_SPEED and p2.MAX_SPEED\n",
        "print(p1.MAX_SPEED)\n",
        "print(p2.MAX_SPEED)\n",
        "\n",
        "print(\"MAX_SPEED of Player:\")\n",
        "# Print Player.MAX_SPEED\n",
        "print(Player.MAX_SPEED)"
      ],
      "execution_count": null,
      "outputs": [
        {
          "output_type": "stream",
          "name": "stdout",
          "text": [
            "MAX_SPEED of p1 and p2 before assignment:\n",
            "3\n",
            "3\n",
            "MAX_SPEED of p1 and p2 after assignment:\n",
            "7\n",
            "7\n",
            "MAX_SPEED of Player:\n",
            "7\n"
          ]
        }
      ]
    },
    {
      "cell_type": "markdown",
      "source": [
        "You shouldn't be able to change the data in all the instances of the class through a single instance. If you want to change the value of the class attribute at runtime, you need to do it by ***referring to the class name***, not through an instance.\n",
        "\n",
        "# ***@classmethod Constructors*** \n",
        "## (Instead of **`__init__()`**)\n",
        "\n",
        "## `classmethod` จะใช้ class attributes ในตัว methods __ไม่ได้__ เปรียบเสมือนเป็นการสร้างค่าตั้งต้นใหม่ ด้วยวิธีอื่นนอกเหนือไปจาก **`__init__`**\n",
        "\n",
        "สมมติจะเขียน `class BetterDate` ที่นอกจากจะมี attributes `year`, `month`, `day` แล้ว ยังสามารถสร้าง `BetterDate` objects จากสตริงเช่น \"2020-04-30\" ได้ด้วย\n",
        "\n",
        "Python allows you to define class methods as well, using the **`@classmethod`** decorator and a special first argument **`cls`**. The main use of class methods is defining methods that return an instance of the class, but aren't using the same code as **`__init__()`**.\n",
        "\n",
        "For example, you are developing a time series package and want to define your own class for working with dates, `BetterDate`. The attributes of the class will be `year`, `month`, and `day`. You want to have a constructor that creates `BetterDate` objects given the values for `year`, `month`, and `day`, but you also want to be able to create `BetterDate` objects from strings like `2020-04-30`\n",
        "\n",
        "You might find the following functions useful:\n",
        "\n",
        "*   **`.split(\"-\")`** method will split a string at `\"-\"` into an array, e.g. `\"2020-04-30\".split(\"-\")` returns `[\"2020\", \"04\", \"30\"]`\n",
        "*   `int()` will convert a string into a number, e.g. `int(\"2019\")` is `2019`.\n",
        "*  You also want to be able to convert a `datetime` object into a `BetterDate` object.\n",
        "\n",
        "1. Add a class method `from_str()` that:\n",
        "\n",
        "* accepts a string `datestr` of the format `'YYYY-MM-DD'`,\n",
        "* splits `datestr` and converts each part into an integer,\n",
        "* returns an instance of the class with the attributes set to the values extracted from `datestr`.\n"
      ],
      "metadata": {
        "id": "93ubuJbKvTUG"
      }
    },
    {
      "cell_type": "code",
      "source": [
        "class BetterDate:    \n",
        "    # Constructor\n",
        "    def __init__(self, year, month, day):\n",
        "      # Recall that Python allows multiple variable assignments in one line\n",
        "      self.year, self.month, self.day = year, month, day\n",
        "    \n",
        "    # Define a class method from_str\n",
        "    @classmethod\n",
        "    def from_str(cls, datestr):\n",
        "        # Split the string at \"-\" and convert each part to integer\n",
        "        parts = datestr.split(\"-\")\n",
        "        year, month, day = int(parts[0]), int(parts[1]), int(parts[2])\n",
        "        # Return the class instance\n",
        "        return cls(year, month, day)\n",
        "        \n",
        "bd = BetterDate.from_str('2020-04-30')   \n",
        "print(bd.year)\n",
        "print(bd.month)\n",
        "print(bd.day)"
      ],
      "metadata": {
        "colab": {
          "base_uri": "https://localhost:8080/"
        },
        "id": "tMAUTEOpydNX",
        "outputId": "85a9a706-1d0a-4195-931e-d8cb4c915a07"
      },
      "execution_count": null,
      "outputs": [
        {
          "output_type": "stream",
          "name": "stdout",
          "text": [
            "2020\n",
            "4\n",
            "30\n"
          ]
        }
      ]
    },
    {
      "cell_type": "markdown",
      "source": [
        "For compatibility, you also want to be able to convert a `datetime` object into a `BetterDate` object.\n",
        "\n",
        "* Add a class method `from_datetime()` that accepts a `datetime` object as the argument, and uses its attributes **`.year`**, **`.month `**and **`.day`** to create a `BetterDate` object with the same attribute values."
      ],
      "metadata": {
        "id": "3lF6o-i_ykc8"
      }
    },
    {
      "cell_type": "code",
      "metadata": {
        "colab": {
          "base_uri": "https://localhost:8080/"
        },
        "id": "6PB4eqFrMoff",
        "outputId": "3cc5206b-cfe0-4fa5-ad9a-dde12dd413e7"
      },
      "source": [
        "# import datetime from datetime\n",
        "from datetime import datetime\n",
        "\n",
        "class BetterDate:\n",
        "    def __init__(self, year, month, day):\n",
        "      self.year, self.month, self.day = year, month, day\n",
        "      \n",
        "    @classmethod\n",
        "    def from_str(cls, datestr):\n",
        "        year, month, day = map(int, datestr.split(\"-\"))\n",
        "        return cls(year, month, day)\n",
        "      \n",
        "    # Define a class method from_datetime accepting a datetime object\n",
        "    @classmethod\n",
        "    def from_datetime(cls, datetime):\n",
        "        y, m, d = datetime.year, datetime.month, datetime.day\n",
        "        return cls(y, m, d)\n",
        "\n",
        "# You should be able to run the code below with no errors: \n",
        "today = datetime.today()     \n",
        "bd = BetterDate.from_datetime(today)   \n",
        "print(bd.year)\n",
        "print(bd.month)\n",
        "print(bd.day)"
      ],
      "execution_count": null,
      "outputs": [
        {
          "output_type": "stream",
          "name": "stdout",
          "text": [
            "2022\n",
            "1\n",
            "8\n"
          ]
        }
      ]
    },
    {
      "cell_type": "markdown",
      "metadata": {
        "id": "DgJ_8ObeRDaD"
      },
      "source": [
        "There's another type of methods that are not bound to a class instance - ***static methods***, defined with the decorator **`@staticmethod`**. They are mainly used for helper or utility functions that could as well live outside of the class, but make more sense when bundled into the class. \n",
        "\n",
        "# ***Static Method***\n",
        "\n",
        "1. Use **`@staticmethod`** decorator \n",
        "2. No need to use **`self`** or **`cls`** (static method is not for generating alternative instances.  If you want to generate an instance, use either calling the class' name, or class method constructor.)\n",
        "\n",
        "The class with static methods below was modified from `Employee` class on DataCamp, but static method is not covered in the course."
      ]
    },
    {
      "cell_type": "code",
      "source": [
        "class Employee:\n",
        "    # Define a class attribute\n",
        "    MIN_SALARY = 30000 #<--- no self.\n",
        "\n",
        "    def __init__(self, name, salary):\n",
        "        self.name = name\n",
        "\n",
        "        # Use class name to access class attribute\n",
        "        if salary >= Employee.MIN_SALARY: \n",
        "            self.salary = salary\n",
        "        else:\n",
        "            self.salary = Employee.MIN_SALARY\n",
        "    \n",
        "    @staticmethod\n",
        "    def get_min_salary():\n",
        "        return Employee.MIN_SALARY\n",
        "\n",
        "    @staticmethod\n",
        "    def raise_min_salary(amount=5000):\n",
        "        return Employee.get_min_salary() + amount  # เวลาอ้างถึง static method ต้องใช้ชื่อ Class ไม่ใช่ self.method_name ตามปกติ\n",
        "\n",
        "print(Employee.get_min_salary())\n",
        "print(Employee.raise_min_salary(8000))"
      ],
      "metadata": {
        "colab": {
          "base_uri": "https://localhost:8080/"
        },
        "id": "O1r7TuZrEZ7f",
        "outputId": "7a547fc6-0374-4c59-bb09-7de4ffd8aa16"
      },
      "execution_count": null,
      "outputs": [
        {
          "output_type": "stream",
          "name": "stdout",
          "text": [
            "30000\n",
            "38000\n"
          ]
        }
      ]
    },
    {
      "cell_type": "markdown",
      "source": [
        "# ***Inheritance***\n",
        "\n",
        "### **Example:**"
      ],
      "metadata": {
        "id": "rOaMjI6pJOBe"
      }
    },
    {
      "cell_type": "code",
      "source": [
        "class BankAccount:\n",
        "    def __init__(self, balance):\n",
        "        self.balance = balance\n",
        "    def withdraw(self, amount):\n",
        "        self.balance -= amount\n",
        "# Empty class inherited from BankAccount\n",
        "class SavingsAccount(BankAccount):\n",
        "    pass"
      ],
      "metadata": {
        "id": "H_GRVG91JVLY"
      },
      "execution_count": null,
      "outputs": []
    },
    {
      "cell_type": "markdown",
      "source": [
        "## **Child class has all of the the parent data**\n",
        "\n"
      ],
      "metadata": {
        "id": "MiT6AhLVJqyN"
      }
    },
    {
      "cell_type": "code",
      "source": [
        "savings_acct = SavingsAccount(1000)\n",
        "type(savings_acct)"
      ],
      "metadata": {
        "colab": {
          "base_uri": "https://localhost:8080/"
        },
        "id": "6I-tAJfGJ1UN",
        "outputId": "b25efc84-a537-4638-bc7a-1937fa64f904"
      },
      "execution_count": null,
      "outputs": [
        {
          "output_type": "execute_result",
          "data": {
            "text/plain": [
              "__main__.SavingsAccount"
            ]
          },
          "metadata": {},
          "execution_count": 9
        }
      ]
    },
    {
      "cell_type": "code",
      "source": [
        "# Attribute inherited from BankAccount\n",
        "savings_acct.balance"
      ],
      "metadata": {
        "colab": {
          "base_uri": "https://localhost:8080/"
        },
        "id": "yFlzCVAnJ7gJ",
        "outputId": "bcb8b588-64e5-4550-f0d7-2832c7206b21"
      },
      "execution_count": null,
      "outputs": [
        {
          "output_type": "execute_result",
          "data": {
            "text/plain": [
              "1000"
            ]
          },
          "metadata": {},
          "execution_count": 10
        }
      ]
    },
    {
      "cell_type": "code",
      "source": [
        "# Method inherited from BankAccount\n",
        "savings_acct.withdraw(300)\n",
        "savings_acct.balance"
      ],
      "metadata": {
        "colab": {
          "base_uri": "https://localhost:8080/"
        },
        "id": "1muiEpmSKDh1",
        "outputId": "ea8a8374-90c0-4ced-d0ba-7ba20553611e"
      },
      "execution_count": null,
      "outputs": [
        {
          "output_type": "execute_result",
          "data": {
            "text/plain": [
              "700"
            ]
          },
          "metadata": {},
          "execution_count": 11
        }
      ]
    },
    {
      "cell_type": "markdown",
      "metadata": {
        "id": "l2dJ4dkxVc1L"
      },
      "source": [
        "### **Create a subclass**\n",
        "\n",
        "The purpose of child classes -- or sub-classes, as they are usually called - is to customize and extend functionality of the parent class.\n",
        "\n",
        "Recall the `Employee` class from earlier. In most organizations, managers enjoy more privileges and more responsibilities than a regular employee. So it would make sense to introduce a `Manager` class that has more functionality than `Employee`.\n",
        "\n",
        "But a `Manager` is still an employee, so the `Manager` class should be inherited from the `Employee` class.\n",
        "\n",
        "* Add an empty `Manager` class that is inherited from `Employee`.\n",
        "* Create an object `mng` of the `Manager` class with the name `Debbie Lashko` and salary `86500`.\n",
        "* Print the name of `mng`."
      ]
    },
    {
      "cell_type": "code",
      "metadata": {
        "colab": {
          "base_uri": "https://localhost:8080/"
        },
        "id": "aqA3TFhzPedX",
        "outputId": "6b6e1574-48bf-4199-d241-896c1f71067a"
      },
      "source": [
        "class Employee:\n",
        "  MIN_SALARY = 30000    \n",
        "\n",
        "  def __init__(self, name, salary=MIN_SALARY):\n",
        "      self.name = name\n",
        "      if salary >= Employee.MIN_SALARY:\n",
        "        self.salary = salary\n",
        "      else:\n",
        "        self.salary = Employee.MIN_SALARY\n",
        "        \n",
        "  def give_raise(self, amount):\n",
        "      self.salary += amount      \n",
        "        \n",
        "# Define a new class Manager inheriting from Employee\n",
        "class Manager(Employee):\n",
        "    pass\n",
        "\n",
        "# Define a Manager object\n",
        "mng = Manager('Debbie Lashko', 86500)\n",
        "\n",
        "# Print mng's name\n",
        "print(mng.name)"
      ],
      "execution_count": null,
      "outputs": [
        {
          "output_type": "stream",
          "name": "stdout",
          "text": [
            "Debbie Lashko\n"
          ]
        }
      ]
    },
    {
      "cell_type": "markdown",
      "source": [
        "* Remove the `pass` statement and add a `display()` method to the `Manager` class that just prints the string `\"Manager\"` followed by the full name, e.g. `\"Manager Katie Flatcher\"`\n",
        "* Call the `.display()` method from the `mng` instance."
      ],
      "metadata": {
        "id": "S_l_drATLk8A"
      }
    },
    {
      "cell_type": "code",
      "source": [
        "class Employee:\n",
        "  MIN_SALARY = 30000    \n",
        "\n",
        "  def __init__(self, name, salary=MIN_SALARY):\n",
        "      self.name = name\n",
        "      if salary >= Employee.MIN_SALARY:\n",
        "        self.salary = salary\n",
        "      else:\n",
        "        self.salary = Employee.MIN_SALARY\n",
        "  def give_raise(self, amount):\n",
        "    self.salary += amount      \n",
        "        \n",
        "# MODIFY Manager class and add a display method\n",
        "class Manager(Employee):\n",
        "    def display(self):\n",
        "        print(\"Manager \" + self.name)\n",
        "\n",
        "mng = Manager(\"Debbie Lashko\", 86500)\n",
        "print(mng.name)\n",
        "\n",
        "# Call mng.display()\n",
        "mng.display()"
      ],
      "metadata": {
        "colab": {
          "base_uri": "https://localhost:8080/"
        },
        "id": "0JXxZgaWMab4",
        "outputId": "baf3b072-0d9c-4ceb-af40-ad08771e587e"
      },
      "execution_count": null,
      "outputs": [
        {
          "output_type": "stream",
          "name": "stdout",
          "text": [
            "Debbie Lashko\n",
            "Manager Debbie Lashko\n"
          ]
        }
      ]
    },
    {
      "cell_type": "markdown",
      "source": [
        "The `Manager` class now includes functionality that wasn't present in the original class (the `.display()` method) in addition to all the functionality of the `Employee` class."
      ],
      "metadata": {
        "id": "uCgdZavhMkFQ"
      }
    },
    {
      "cell_type": "markdown",
      "source": [
        "# ***Customizing Inheritance Constructors***"
      ],
      "metadata": {
        "id": "4VGeHkjmNJW2"
      }
    },
    {
      "cell_type": "code",
      "source": [
        "class BankAccount:\n",
        "    def __init__(self, balance):\n",
        "        self.balance = balance\n",
        "    def withdraw(self, amount):\n",
        "        self.balance -= amount\n",
        "\n",
        "class SavingsAccount(BankAccount):\n",
        "\n",
        "    # Constructor speficially for SavingsAccount with an additional parameter\n",
        "    def __init__(self, balance, interest_rate):\n",
        "\n",
        "        # Call the parent constructor using ClassName.__init__()\n",
        "        BankAccount.__init__(self, balance) # <--- self is a SavingsAccount but also a BankAccount\n",
        "\n",
        "        # Add more functionality\n",
        "        self.interest_rate = interest_rate\n",
        "\n",
        "# Construct the object using the new constructor\n",
        "acct = SavingsAccount(1000, 0.03)\n",
        "acct.interest_rate"
      ],
      "metadata": {
        "colab": {
          "base_uri": "https://localhost:8080/"
        },
        "id": "KblqezTfNRW3",
        "outputId": "29fedb14-ac2b-45cb-8396-218b7ca711d1"
      },
      "execution_count": null,
      "outputs": [
        {
          "output_type": "execute_result",
          "data": {
            "text/plain": [
              "0.03"
            ]
          },
          "metadata": {},
          "execution_count": 15
        }
      ]
    },
    {
      "cell_type": "markdown",
      "source": [
        "# ***Adding functionality to Inherited Class***"
      ],
      "metadata": {
        "id": "yRbb_OCWOHVk"
      }
    },
    {
      "cell_type": "code",
      "source": [
        "class BankAccount:\n",
        "    def __init__(self, balance):\n",
        "        self.balance = balance\n",
        "    def withdraw(self, amount):\n",
        "        self.balance -= amount\n",
        "\n",
        "class SavingsAccount(BankAccount):\n",
        "\n",
        "    def __init__(self, balance, interest_rate):\n",
        "        BankAccount.__init__(self, balance) # <--- self is a SavingsAccount but also a BankAccount\n",
        "        self.interest_rate = interest_rate\n",
        "\n",
        "    # New functionality\n",
        "    def compute_interest(self, n_periods = 1):\n",
        "        return self.balance * ( (1 + self.interest_rate) ** n_periods - 1)\n",
        "\n",
        "acct = SavingsAccount(1000, 0.03)\n",
        "acct.compute_interest()"
      ],
      "metadata": {
        "colab": {
          "base_uri": "https://localhost:8080/"
        },
        "id": "5OiX4AcVOY_l",
        "outputId": "df8a41a3-777b-435c-d950-fab8733e5702"
      },
      "execution_count": null,
      "outputs": [
        {
          "output_type": "execute_result",
          "data": {
            "text/plain": [
              "30.00000000000003"
            ]
          },
          "metadata": {},
          "execution_count": 16
        }
      ]
    },
    {
      "cell_type": "markdown",
      "source": [
        "## ***More examples of Customizing functionality***"
      ],
      "metadata": {
        "id": "AYDheZvmPt7h"
      }
    },
    {
      "cell_type": "code",
      "source": [
        "class BankAccount:\n",
        "    def __init__(self, balance):\n",
        "        self.balance = balance\n",
        "    def withdraw(self, amount):\n",
        "        self.balance -= amount\n",
        "\n",
        "class CheckingAccount(BankAccount):\n",
        "    def __init__(self, balance, limit):\n",
        "        BankAccount.__init__(self, balance)\n",
        "        self.limit = limit\n",
        "    \n",
        "    def deposit(self, amount):\n",
        "        self.balance += amount\n",
        "    \n",
        "    def withdraw(self, amount, fee=0):\n",
        "        if fee <= self.limit:\n",
        "            BankAccount.withdraw(self, amount + fee)\n",
        "        else:\n",
        "            BankAccount.withdraw(self, amount + self.limit)\n",
        "\n",
        "check_acct = CheckingAccount(1000, 25)\n",
        "\n",
        "# Will call withdraw from CheckingAccount\n",
        "check_acct.withdraw(200, fee=15)\n",
        "check_acct.balance"
      ],
      "metadata": {
        "colab": {
          "base_uri": "https://localhost:8080/"
        },
        "id": "GBazAHM2P0K6",
        "outputId": "69d1f6ee-596f-439e-b7eb-9d5991a763f3"
      },
      "execution_count": null,
      "outputs": [
        {
          "output_type": "execute_result",
          "data": {
            "text/plain": [
              "785"
            ]
          },
          "metadata": {},
          "execution_count": 26
        }
      ]
    },
    {
      "cell_type": "markdown",
      "source": [
        "Trying this call for a generic `BankAccount` instance would cause an error, because the method defined in the `BankAccount` class was not affected by the changes in the subclass."
      ],
      "metadata": {
        "id": "HSTJ0Iw3S4cP"
      }
    },
    {
      "cell_type": "code",
      "source": [
        "bank_acct = BankAccount(1000)\n",
        "bank_acct.withdraw(200, fee=15)"
      ],
      "metadata": {
        "colab": {
          "base_uri": "https://localhost:8080/",
          "height": 190
        },
        "id": "rOIdQxYKSvhD",
        "outputId": "4c7933d7-1c3b-4009-e35d-48cd0f0c8d90"
      },
      "execution_count": null,
      "outputs": [
        {
          "output_type": "error",
          "ename": "TypeError",
          "evalue": "ignored",
          "traceback": [
            "\u001b[0;31m---------------------------------------------------------------------------\u001b[0m",
            "\u001b[0;31mTypeError\u001b[0m                                 Traceback (most recent call last)",
            "\u001b[0;32m<ipython-input-27-d2fefcc8db85>\u001b[0m in \u001b[0;36m<module>\u001b[0;34m()\u001b[0m\n\u001b[1;32m      1\u001b[0m \u001b[0mbank_acct\u001b[0m \u001b[0;34m=\u001b[0m \u001b[0mBankAccount\u001b[0m\u001b[0;34m(\u001b[0m\u001b[0;36m1000\u001b[0m\u001b[0;34m)\u001b[0m\u001b[0;34m\u001b[0m\u001b[0;34m\u001b[0m\u001b[0m\n\u001b[0;32m----> 2\u001b[0;31m \u001b[0mbank_acct\u001b[0m\u001b[0;34m.\u001b[0m\u001b[0mwithdraw\u001b[0m\u001b[0;34m(\u001b[0m\u001b[0;36m200\u001b[0m\u001b[0;34m,\u001b[0m \u001b[0mfee\u001b[0m\u001b[0;34m=\u001b[0m\u001b[0;36m15\u001b[0m\u001b[0;34m)\u001b[0m\u001b[0;34m\u001b[0m\u001b[0;34m\u001b[0m\u001b[0m\n\u001b[0m",
            "\u001b[0;31mTypeError\u001b[0m: withdraw() got an unexpected keyword argument 'fee'"
          ]
        }
      ]
    },
    {
      "cell_type": "markdown",
      "metadata": {
        "id": "FZCD-GfXj90R"
      },
      "source": [
        "### ***Method inheritance***\n",
        "\n",
        "Inheritance is powerful because it allows us to reuse and customize code without rewriting existing code. By calling methods of the parent class within the child class, we reuse all the code in those methods, making our code concise and manageable.\n",
        "\n",
        "In this exercise, you'll continue working with the `Manager` class that is inherited from the `Employee` class. You'll add new data to the class, and customize the `give_raise()` method to increase the manager's raise amount by a bonus percentage whenever they are given a raise.\n",
        "\n",
        "A simplified version of the `Employee` class, as well as the beginning of the `Manager` class from the previous lesson is provided for you in the script pane.\n",
        "\n",
        "1. Add a constructor to `Manager` that:\n",
        "\n",
        "  * accepts `name`, `salary` (default `50000`), and project (default `None`)\n",
        "  * calls the constructor of the `Employee` class with the `name` and `salary` parameters,\n",
        "  * creates a `project` attribute and sets it to the `project` parameter.\n",
        "\n",
        "2. Add a `give_raise()` method to `Manager` that:\n",
        "\n",
        "  * accepts the same parameters as `Employee.give_raise()`, plus a `bonus` parameter with the default value of `1.05` (bonus of 5%)\n",
        "  * multiplies amount by `bonus`\n",
        "  * uses the `Employee`'s method to raise salary by that product."
      ]
    },
    {
      "cell_type": "code",
      "metadata": {
        "colab": {
          "base_uri": "https://localhost:8080/"
        },
        "id": "RuURalK2WDOn",
        "outputId": "f6c5fd8f-23a8-4e68-d954-a0184dc44dc4"
      },
      "source": [
        "class Employee:\n",
        "    def __init__(self, name, salary=30000):\n",
        "        self.name = name\n",
        "        self.salary = salary\n",
        "\n",
        "    def give_raise(self, amount):\n",
        "        self.salary += amount\n",
        "        #print(\"Employee.give_raise\")\n",
        "\n",
        "        \n",
        "class Manager(Employee):\n",
        "  # Add a constructor that accepts name, salary (default 50000), and project (default None)\n",
        "    def __init__(self, name, salary=50000, project=None):\n",
        "\n",
        "        # Call the parent's constructor   \n",
        "        Employee.__init__(self, name, salary)\n",
        "\n",
        "        # Assign project attribute\n",
        "        self.project = project\n",
        "\n",
        "    def display(self):\n",
        "        print(\"Manager \", self.name)\n",
        "\n",
        "    # Add a give_raise method\n",
        "    # accepts the same parameters as Employee.give_raise(), \n",
        "    # plus a bonus parameter with the default value of 1.05\n",
        "    def give_raise(self, amount, bonus=1.05):\n",
        "        Employee.give_raise(self, amount*bonus)\n",
        "        #print(\"Manager.give_raise\")\n",
        "\n",
        "mngr = Manager(\"Ashta Dunbar\", 78500)\n",
        "mngr.give_raise(1000)\n",
        "print(mngr.salary)\n",
        "mngr.give_raise(2000, bonus=1.03)\n",
        "print(mngr.salary)\n",
        "  "
      ],
      "execution_count": null,
      "outputs": [
        {
          "output_type": "stream",
          "name": "stdout",
          "text": [
            "79550.0\n",
            "81610.0\n"
          ]
        }
      ]
    },
    {
      "cell_type": "markdown",
      "metadata": {
        "id": "Y8wx7sslm1vK"
      },
      "source": [
        "In the new class, the use of the **default** values ensured that the signature of the customized method was compatible with its signature in the parent class. But what if we defined Manager's'`give_raise()` to have 2 ***non-optional*** parameters? What would be the result of `mngr.give_raise(1000)`?\n",
        "\n",
        "*    Adding print statements to both `give_raise()` could help!\n",
        "\n"
      ]
    },
    {
      "cell_type": "code",
      "metadata": {
        "colab": {
          "base_uri": "https://localhost:8080/"
        },
        "id": "UI8rUb5-mRXi",
        "outputId": "f6ba0f91-c5f5-437e-de97-797ae434592a"
      },
      "source": [
        "class Employee:\n",
        "    def __init__(self, name, salary=30000):\n",
        "        self.name = name\n",
        "        self.salary = salary\n",
        "\n",
        "    def give_raise(self, amount):\n",
        "        self.salary += amount\n",
        "        print(\"Employee.give_raise\")\n",
        "\n",
        "        \n",
        "class Manager(Employee):\n",
        "  # Add a constructor that accepts name, salary (default 50000), and project (default None)\n",
        "    def __init__(self, name, salary=50000, project=None):\n",
        "\n",
        "        # Call the parent's constructor   \n",
        "        Employee.__init__(self, name, salary)\n",
        "\n",
        "        # Assign project attribute\n",
        "        self.project = project\n",
        "\n",
        "    def display(self):\n",
        "        print(\"Manager \", self.name)\n",
        "\n",
        "    # What if we defined Manager's'give_raise() to have 2 non-optional parameters?\n",
        "    def give_raise(self, amount, bonus):\n",
        "        # multiplies amount by bonus\n",
        "        amount *= bonus\n",
        "        # uses the Employee's method to raise salary by that product.\n",
        "        Employee.give_raise(self, amount)\n",
        "        print(\"Manager.give_raise\")\n",
        "\n",
        "mngr = Manager(\"Ashta Dunbar\", 78500)\n",
        "mngr.give_raise(1000, 1.05) # <=== You must fill in the positional argument\n",
        "print(mngr.salary)\n",
        "mngr.give_raise(2000, 1.03) \n",
        "print(mngr.salary)\n",
        "  "
      ],
      "execution_count": null,
      "outputs": [
        {
          "output_type": "stream",
          "name": "stdout",
          "text": [
            "Employee.give_raise\n",
            "Manager.give_raise\n",
            "79550.0\n",
            "Employee.give_raise\n",
            "Manager.give_raise\n",
            "81610.0\n"
          ]
        }
      ]
    },
    {
      "cell_type": "markdown",
      "metadata": {
        "id": "T3OlJWV7G_Jm"
      },
      "source": [
        "# **Inheritance of class attributes**\n",
        "\n",
        "You learned about ***class attributes and methods*** that are shared among all the instances of a class. How do they work with inheritance?\n",
        "\n",
        "In this exercise, you'll create subclasses of the `Player` class from the first lesson of the chapter, and explore the inheritance of class attributes and methods.\n",
        "\n",
        "The `Player` class has been defined for you. Recall that the Player class had two class-level attributes: `MAX_POSITION` and `MAX_SPEED`, with default values `10` and `3`.\n",
        "\n",
        "* Create a class `Racer` inherited from `Player`,\n",
        "* Assign `5` to `MAX_SPEED` in the body of the class.\n",
        "* Create a `Player` object `p` and a `Racer` object `r` (no arguments needed for the constructor).\n",
        "\n",
        "*Examine the printouts carefully.* "
      ]
    },
    {
      "cell_type": "code",
      "metadata": {
        "colab": {
          "base_uri": "https://localhost:8080/"
        },
        "id": "fmSHqPnZnwOM",
        "outputId": "4611e2d3-a0f0-45ef-a3ff-e74ac8a5db21"
      },
      "source": [
        "# Create a Player class\n",
        "class Player:\n",
        "\n",
        "    MAX_POSITION = 10\n",
        "    MAX_SPEED = 3\n",
        "\n",
        "    def __init__(self):\n",
        "        self.position = 0\n",
        "\n",
        "    # Add a move() method with steps parameter\n",
        "    def move(self, steps):\n",
        "        # if position plus steps is less than MAX_POSITION, then add steps to \n",
        "        # position and assign the result back to position.\n",
        "        if self.position + steps < Player.MAX_POSITION:\n",
        "            self.position += steps\n",
        "        else: # otherwise, set position to MAX_POSITION\n",
        "            self.position = Player.MAX_POSITION\n",
        "\n",
        "    # This method provides a rudimentary visualization in the console (โจทย์มีมาให้)  \n",
        "    def draw(self):\n",
        "        drawing = \"-\" * self.position + \"|\" +\"-\"*(Player.MAX_POSITION - self.position)\n",
        "        print(drawing)\n",
        "\n",
        "# Create a Racer class and set MAX_SPEED to 5\n",
        "class Racer(Player):\n",
        "\n",
        "    MAX_SPEED = 5\n",
        "    \n",
        "# Create a Player and a Racer objects\n",
        "p = Player()\n",
        "r = Racer()\n",
        "\n",
        "print(\"p.MAX_SPEED = \", p.MAX_SPEED)\n",
        "print(\"r.MAX_SPEED = \", r.MAX_SPEED)\n",
        "\n",
        "print(\"p.MAX_POSITION = \", p.MAX_POSITION)\n",
        "print(\"r.MAX_POSITION = \", r.MAX_POSITION)"
      ],
      "execution_count": null,
      "outputs": [
        {
          "output_type": "stream",
          "text": [
            "p.MAX_SPEED =  3\n",
            "r.MAX_SPEED =  5\n",
            "p.MAX_POSITION =  10\n",
            "r.MAX_POSITION =  10\n"
          ],
          "name": "stdout"
        }
      ]
    },
    {
      "cell_type": "markdown",
      "metadata": {
        "id": "7Dmt9FlEIiIr"
      },
      "source": [
        "# Class attributes CAN be inherited, and the value of class attributes CAN be overwritten in the child class. \n",
        "\n",
        "## Notice that the value of `MAX_SPEED` in `Player` was not affected by the changes to the attribute of the same name in `Racer`."
      ]
    },
    {
      "cell_type": "markdown",
      "metadata": {
        "id": "JEjj1q82JFPa"
      },
      "source": [
        "### ***Customizing a DataFrame***\n",
        "\n",
        "In your company, any data has to come with a *timestamp* recording when the dataset was created, to make sure that outdated information is not being used. You would like to use pandas DataFrames for processing data, but you would need to customize the class to allow for the use of timestamps.\n",
        "\n",
        "You will implement a small `LoggedDF` class that inherits from a regular pandas DataFrame but has a `created_at` attribute storing the timestamp. You will then augment the standard `to_csv()` method to always include a column storing the creation date.\n",
        "\n",
        "1.   Implement a small `LoggedDF` class that inherits from a regular pandas DataFrame but has a `created_at `attribute storing the timestamp.\n",
        "2.   You will then augment the standard `to_csv()` method to ***always include a column storing the creation date***.\n",
        "\n",
        "#### *Tip: all DataFrame methods have many parameters, and it is not sustainable to copy all of them for each method you're customizing. The trick is to use variable-length arguments* `*args` *and* `**kwargs` *to catch all of them.*\n",
        "\n",
        "* Define `LoggedDF` class inherited from `pd.DataFrame`.\n",
        "* Define a constructor with arguments `*args` and `**kwargs` that:\n",
        "  * calls the `pd.DataFrame` constructor with the same arguments,\n",
        "  * assigns `datetime.today()` to `self.created_at`.\n",
        "\n"
      ]
    },
    {
      "cell_type": "code",
      "metadata": {
        "colab": {
          "base_uri": "https://localhost:8080/"
        },
        "id": "xqHluU27IXLL",
        "outputId": "9f65b785-33f8-4808-d419-53dc6c476c98"
      },
      "source": [
        "from datetime import datetime\n",
        "import pandas as pd\n",
        "\n",
        "# Define LoggedDF inherited from pd.DataFrame and add the constructor\n",
        "class LoggedDF(pd.DataFrame):\n",
        "    def __init__(self, *args, **kwargs):\n",
        "        pd.DataFrame.__init__(self, *args, **kwargs)\n",
        "        self.created_at = datetime.today()\n",
        "    \n",
        "ldf = LoggedDF({\"col1\": [1,2], \"col2\": [3,4]})\n",
        "print(ldf.values)\n",
        "print(ldf.created_at.strftime('%d %B, %Y'))"
      ],
      "execution_count": null,
      "outputs": [
        {
          "output_type": "stream",
          "name": "stdout",
          "text": [
            "[[1 3]\n",
            " [2 4]]\n",
            "08 January, 2022\n"
          ]
        }
      ]
    },
    {
      "cell_type": "markdown",
      "source": [
        "* Add a `to_csv()` method to `LoggedDF` that:\n",
        "  * copies `self` to a temporary DataFrame using `.copy()`,\n",
        "  * creates a new column `created_at` in the temporary DataFrame and fills it with `self.created_at`\n",
        "  * calls `pd.DataFrame.to_csv()` on the *temporary variable*."
      ],
      "metadata": {
        "id": "CaOadKlXx4FL"
      }
    },
    {
      "cell_type": "code",
      "source": [
        "from datetime import datetime\n",
        "import pandas as pd\n",
        "\n",
        "# Define LoggedDF inherited from pd.DataFrame and add the constructor\n",
        "class LoggedDF(pd.DataFrame):\n",
        "    def __init__(self, *args, **kwargs):\n",
        "        pd.DataFrame.__init__(self, *args, **kwargs)\n",
        "        self.created_at = datetime.today()\n",
        "\n",
        "    def to_csv(self, *args, **kwargs):\n",
        "    # Copy self to a temporary DataFrame\n",
        "        temp = self.copy()\n",
        "        \n",
        "        # Create a new column filled with self.created_at\n",
        "        temp[\"created_at\"] = self.created_at.strftime('%d %B, %Y')\n",
        "        \n",
        "        # Call pd.DataFrame.to_csv on temp, passing in *args and **kwargs\n",
        "        pd.DataFrame.to_csv(temp, *args, **kwargs)  # <== This is not \"self\"\n",
        "\n",
        "ldf = LoggedDF({\"col1\": [1,2], \"col2\": [3,4]})\n",
        "ldf.to_csv(\"ldf.csv\")\n",
        "pd.read_csv(\"ldf.csv\").drop(columns='Unnamed: 0').head()"
      ],
      "metadata": {
        "colab": {
          "base_uri": "https://localhost:8080/",
          "height": 112
        },
        "id": "UXAlcIufyg-q",
        "outputId": "2645bad2-fd1c-4377-a039-ccbd385e0420"
      },
      "execution_count": null,
      "outputs": [
        {
          "output_type": "execute_result",
          "data": {
            "text/html": [
              "\n",
              "  <div id=\"df-4f6f345a-a64c-499b-8cb1-98e96b0619e2\">\n",
              "    <div class=\"colab-df-container\">\n",
              "      <div>\n",
              "<style scoped>\n",
              "    .dataframe tbody tr th:only-of-type {\n",
              "        vertical-align: middle;\n",
              "    }\n",
              "\n",
              "    .dataframe tbody tr th {\n",
              "        vertical-align: top;\n",
              "    }\n",
              "\n",
              "    .dataframe thead th {\n",
              "        text-align: right;\n",
              "    }\n",
              "</style>\n",
              "<table border=\"1\" class=\"dataframe\">\n",
              "  <thead>\n",
              "    <tr style=\"text-align: right;\">\n",
              "      <th></th>\n",
              "      <th>col1</th>\n",
              "      <th>col2</th>\n",
              "      <th>created_at</th>\n",
              "    </tr>\n",
              "  </thead>\n",
              "  <tbody>\n",
              "    <tr>\n",
              "      <th>0</th>\n",
              "      <td>1</td>\n",
              "      <td>3</td>\n",
              "      <td>08 January, 2022</td>\n",
              "    </tr>\n",
              "    <tr>\n",
              "      <th>1</th>\n",
              "      <td>2</td>\n",
              "      <td>4</td>\n",
              "      <td>08 January, 2022</td>\n",
              "    </tr>\n",
              "  </tbody>\n",
              "</table>\n",
              "</div>\n",
              "      <button class=\"colab-df-convert\" onclick=\"convertToInteractive('df-4f6f345a-a64c-499b-8cb1-98e96b0619e2')\"\n",
              "              title=\"Convert this dataframe to an interactive table.\"\n",
              "              style=\"display:none;\">\n",
              "        \n",
              "  <svg xmlns=\"http://www.w3.org/2000/svg\" height=\"24px\"viewBox=\"0 0 24 24\"\n",
              "       width=\"24px\">\n",
              "    <path d=\"M0 0h24v24H0V0z\" fill=\"none\"/>\n",
              "    <path d=\"M18.56 5.44l.94 2.06.94-2.06 2.06-.94-2.06-.94-.94-2.06-.94 2.06-2.06.94zm-11 1L8.5 8.5l.94-2.06 2.06-.94-2.06-.94L8.5 2.5l-.94 2.06-2.06.94zm10 10l.94 2.06.94-2.06 2.06-.94-2.06-.94-.94-2.06-.94 2.06-2.06.94z\"/><path d=\"M17.41 7.96l-1.37-1.37c-.4-.4-.92-.59-1.43-.59-.52 0-1.04.2-1.43.59L10.3 9.45l-7.72 7.72c-.78.78-.78 2.05 0 2.83L4 21.41c.39.39.9.59 1.41.59.51 0 1.02-.2 1.41-.59l7.78-7.78 2.81-2.81c.8-.78.8-2.07 0-2.86zM5.41 20L4 18.59l7.72-7.72 1.47 1.35L5.41 20z\"/>\n",
              "  </svg>\n",
              "      </button>\n",
              "      \n",
              "  <style>\n",
              "    .colab-df-container {\n",
              "      display:flex;\n",
              "      flex-wrap:wrap;\n",
              "      gap: 12px;\n",
              "    }\n",
              "\n",
              "    .colab-df-convert {\n",
              "      background-color: #E8F0FE;\n",
              "      border: none;\n",
              "      border-radius: 50%;\n",
              "      cursor: pointer;\n",
              "      display: none;\n",
              "      fill: #1967D2;\n",
              "      height: 32px;\n",
              "      padding: 0 0 0 0;\n",
              "      width: 32px;\n",
              "    }\n",
              "\n",
              "    .colab-df-convert:hover {\n",
              "      background-color: #E2EBFA;\n",
              "      box-shadow: 0px 1px 2px rgba(60, 64, 67, 0.3), 0px 1px 3px 1px rgba(60, 64, 67, 0.15);\n",
              "      fill: #174EA6;\n",
              "    }\n",
              "\n",
              "    [theme=dark] .colab-df-convert {\n",
              "      background-color: #3B4455;\n",
              "      fill: #D2E3FC;\n",
              "    }\n",
              "\n",
              "    [theme=dark] .colab-df-convert:hover {\n",
              "      background-color: #434B5C;\n",
              "      box-shadow: 0px 1px 3px 1px rgba(0, 0, 0, 0.15);\n",
              "      filter: drop-shadow(0px 1px 2px rgba(0, 0, 0, 0.3));\n",
              "      fill: #FFFFFF;\n",
              "    }\n",
              "  </style>\n",
              "\n",
              "      <script>\n",
              "        const buttonEl =\n",
              "          document.querySelector('#df-4f6f345a-a64c-499b-8cb1-98e96b0619e2 button.colab-df-convert');\n",
              "        buttonEl.style.display =\n",
              "          google.colab.kernel.accessAllowed ? 'block' : 'none';\n",
              "\n",
              "        async function convertToInteractive(key) {\n",
              "          const element = document.querySelector('#df-4f6f345a-a64c-499b-8cb1-98e96b0619e2');\n",
              "          const dataTable =\n",
              "            await google.colab.kernel.invokeFunction('convertToInteractive',\n",
              "                                                     [key], {});\n",
              "          if (!dataTable) return;\n",
              "\n",
              "          const docLinkHtml = 'Like what you see? Visit the ' +\n",
              "            '<a target=\"_blank\" href=https://colab.research.google.com/notebooks/data_table.ipynb>data table notebook</a>'\n",
              "            + ' to learn more about interactive tables.';\n",
              "          element.innerHTML = '';\n",
              "          dataTable['output_type'] = 'display_data';\n",
              "          await google.colab.output.renderOutput(dataTable, element);\n",
              "          const docLink = document.createElement('div');\n",
              "          docLink.innerHTML = docLinkHtml;\n",
              "          element.appendChild(docLink);\n",
              "        }\n",
              "      </script>\n",
              "    </div>\n",
              "  </div>\n",
              "  "
            ],
            "text/plain": [
              "   col1  col2        created_at\n",
              "0     1     3  08 January, 2022\n",
              "1     2     4  08 January, 2022"
            ]
          },
          "metadata": {},
          "execution_count": 50
        }
      ]
    },
    {
      "cell_type": "markdown",
      "metadata": {
        "id": "ATvRd5y_M-_t"
      },
      "source": [
        "Using `*args` and `**kwargs` allows you to not worry about keeping the signature of your customized method compatible.\n",
        "\n",
        "### *Notice how in the very last line, you called the parent method and passed an object to it that isn't `self`.* \n",
        "\n",
        "### When you call parent methods in the class, they should accept some `object` as the first argument, and that object is usually `self`, but ***it doesn't have to be!***\n",
        "\n",
        "If you want to use `self`:\n",
        "\n",
        "```\n",
        "def to_csv(self, *args, **kwargs):\n",
        "        \n",
        "        self[\"created_at\"] = self.created_at.strftime('%d %B, %Y')\n",
        "        pd.DataFrame.to_csv(self, *args, **kwargs)\n",
        "``` \n",
        "This yields the same "
      ]
    },
    {
      "cell_type": "markdown",
      "metadata": {
        "id": "4gjER3thQIhe"
      },
      "source": [
        "# ***Operator Overloading: equality***\n",
        "\n",
        "When comparing two objects of a custom class using **`==`**, Python by default compares just the object ***references***, not the data contained in the objects. What does this mean?\n",
        "\n"
      ]
    },
    {
      "cell_type": "code",
      "source": [
        "class Customer:\n",
        "\n",
        "    def __init__(self, name, balance, id):\n",
        "        self.name, self.balance = name, balance \n",
        "        self.id = id \n",
        "        \n",
        "customer1 = Customer(\"Maryam Azar\", 3000, 123) \n",
        "customer2 = Customer(\"Maryam Azar\", 3000, 123) \n",
        "print(customer1 == customer2)\n",
        "print(customer1)\n",
        "print(customer2)"
      ],
      "metadata": {
        "colab": {
          "base_uri": "https://localhost:8080/"
        },
        "id": "mWfN6_kjA62E",
        "outputId": "1b517f83-5e59-4b58-e53a-627fface61d3"
      },
      "execution_count": null,
      "outputs": [
        {
          "output_type": "stream",
          "name": "stdout",
          "text": [
            "False\n",
            "<__main__.Customer object at 0x7fc2233f6490>\n",
            "<__main__.Customer object at 0x7fc2233f6a50>\n"
          ]
        }
      ]
    },
    {
      "cell_type": "markdown",
      "source": [
        "Since the references are not the same, they are not equal by default using **`==`**. To override this behavior, the class can implement the special **`__eq__()`** method, which accepts two arguments -- the objects to be compared -- and returns `True` or `False`. "
      ],
      "metadata": {
        "id": "PbYfTHPmAtct"
      }
    },
    {
      "cell_type": "code",
      "metadata": {
        "colab": {
          "base_uri": "https://localhost:8080/"
        },
        "id": "Lf-AcTHMQOg8",
        "outputId": "f468d132-bd8e-4f62-bbf6-490eb1cb994c"
      },
      "source": [
        "class BankAccount:\n",
        "   # MODIFY to initialize a number attribute\n",
        "    def __init__(self, number, balance=0):\n",
        "        self.balance, self.number = balance, number\n",
        "      \n",
        "    def withdraw(self, amount):\n",
        "        self.balance -= amount \n",
        "    \n",
        "    # Define __eq__ that returns True if the number attributes are equal \n",
        "    def __eq__(self, other):\n",
        "        return self.number == other.number\n",
        "\n",
        "# Create accounts and compare them       \n",
        "acct1 = BankAccount(123, 1000)\n",
        "acct2 = BankAccount(123, 1000)\n",
        "acct3 = BankAccount(456, 1000)\n",
        "print(acct1 == acct2)\n",
        "print(acct1 == acct3)"
      ],
      "execution_count": null,
      "outputs": [
        {
          "output_type": "stream",
          "name": "stdout",
          "text": [
            "True\n",
            "False\n"
          ]
        }
      ]
    },
    {
      "cell_type": "markdown",
      "source": [
        "![image.png](data:image/png;base64,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)\n",
        "\n",
        "![image.png](data:image/png;base64,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)"
      ],
      "metadata": {
        "id": "ct9i5JrSCzfZ"
      }
    },
    {
      "cell_type": "markdown",
      "metadata": {
        "id": "dwZkF6etSnDp"
      },
      "source": [
        "### ***Overloading equality***\n",
        "\n",
        "When comparing two objects of a custom class using **`==`**, Python by default compares just the object ***references***, not the data contained in the objects. To override this behavior, the class can implement the special **`__eq__()`** method, which accepts two arguments -- the objects to be compared -- and returns **`True`** or **`False`**. This method will be implicitly called when two objects are compared.\n",
        "\n",
        "The `BankAccount` class is available for you in the script pane. It has one attribute, `.balance`, and a `.withdraw()` method. Two bank accounts with the same balance are not necessarily the same account, but a bank account usually has an account number, and two accounts with the same account number should be considered the same.\n",
        "\n",
        "\n",
        "* Try to create a few `BankAccount` objects in the console and compare them.\n",
        "\n"
      ]
    },
    {
      "cell_type": "code",
      "source": [
        "class BankAccount:\n",
        "   \n",
        "    def __init__(self, balance=0):\n",
        "        self.balance = balance\n",
        "      \n",
        "    def withdraw(self, amount):\n",
        "        self.balance -= amount\n",
        "\n",
        "acc1, acc2, acc3 = BankAccount(300), BankAccount(500), BankAccount(300) \n",
        "print(acc1 == acc2)\n",
        "print(acc1 == acc3)"
      ],
      "metadata": {
        "colab": {
          "base_uri": "https://localhost:8080/"
        },
        "id": "E0BLLav2SG4x",
        "outputId": "90774039-3d0b-4d22-8539-a59c83cdc88e"
      },
      "execution_count": null,
      "outputs": [
        {
          "output_type": "stream",
          "name": "stdout",
          "text": [
            "False\n",
            "False\n"
          ]
        }
      ]
    },
    {
      "cell_type": "markdown",
      "source": [
        "* Modify the **`__init__()`** method to accept a new parameter - `number` - and initialize a new `.number` attribute.\n",
        "* Define an **`__eq__()`** method that returns `True` if the number attribute of two objects is equal.\n",
        "* Examine the `print` statements and the output in the console."
      ],
      "metadata": {
        "id": "BC5xMfdYSFHd"
      }
    },
    {
      "cell_type": "code",
      "source": [
        "class BankAccount:\n",
        "    ##########################################\n",
        "    # MODIFY to initialize a number attribute#\n",
        "    ##########################################\n",
        "    def __init__(self, number, balance=0):\n",
        "        self.balance, self.number = balance, number\n",
        "      \n",
        "    def withdraw(self, amount):\n",
        "        self.balance -= amount \n",
        "    \n",
        "    # Define __eq__ that returns True if the number attributes are equal \n",
        "    def __eq__(self, other):\n",
        "        return self.number == other.number\n",
        "\n",
        "# Create accounts and compare them       \n",
        "acct1 = BankAccount(123, 1000)\n",
        "acct2 = BankAccount(123, 1000)\n",
        "acct3 = BankAccount(456, 1000)\n",
        "print(acct1 == acct2)\n",
        "print(acct1 == acct3)  "
      ],
      "metadata": {
        "colab": {
          "base_uri": "https://localhost:8080/"
        },
        "id": "hCMnJrkDTsJJ",
        "outputId": "49f27394-dc6c-467b-8a77-fea77553400b"
      },
      "execution_count": null,
      "outputs": [
        {
          "output_type": "stream",
          "name": "stdout",
          "text": [
            "True\n",
            "False\n"
          ]
        }
      ]
    },
    {
      "cell_type": "markdown",
      "source": [
        "Notice that your method compares just the account numbers, but not balances. What would happen if *two accounts have the same account number but different balances?* The code you wrote will treat these accounts as equal, but it might be better to throw an error - an exception - instead, informing the user that something is wrong.\n",
        "\n",
        "### ***Checking class equality***\n",
        "\n",
        "In the previous exercise, you defined a `BankAccount` class with a number attribute that was used for comparison. But if you were to compare a `BankAccount` object to an object of another class that also has a number attribute, you could end up with unexpected results.\n",
        "\n",
        "For example, consider two classes."
      ],
      "metadata": {
        "id": "ImqdZMqLUDvd"
      }
    },
    {
      "cell_type": "code",
      "source": [
        "\n",
        "class Phone:\n",
        "    def __init__(self, number):\n",
        "        self.number = number\n",
        "\n",
        "    def __eq__(self, other):\n",
        "        return self.number == other.number\n",
        "\n",
        "class BankAccount:\n",
        "    def __init__(self, number):\n",
        "        self.number = number\n",
        "\n",
        "    def __eq__(self, other):\n",
        "        return self.number == other.number\n",
        "\n",
        "acct = BankAccount(873555333)\n",
        "pn = Phone(873555333)\n",
        "acct == pn"
      ],
      "metadata": {
        "colab": {
          "base_uri": "https://localhost:8080/"
        },
        "id": "7soMOLqyeAoH",
        "outputId": "ae8f3f62-43ba-4786-aa98-56446bdfb34e"
      },
      "execution_count": null,
      "outputs": [
        {
          "output_type": "execute_result",
          "data": {
            "text/plain": [
              "True"
            ]
          },
          "metadata": {},
          "execution_count": 9
        }
      ]
    },
    {
      "cell_type": "markdown",
      "source": [
        "Running `acct == pn` will return `True`, even though we're comparing a phone number with a bank account number.\n",
        "\n",
        "It is good practice to check the class of objects passed to the **`__eq__()`** method to make sure the comparison makes sense.\n",
        "\n",
        "* Modify the definition of `BankAccount` to only return `True` if the number attribute is the same and the `type()` of both objects passed to it is the same."
      ],
      "metadata": {
        "id": "K80bUbfFeWwP"
      }
    },
    {
      "cell_type": "code",
      "metadata": {
        "colab": {
          "base_uri": "https://localhost:8080/"
        },
        "id": "1SA7wvYySXBk",
        "outputId": "6b84a850-17f9-49c3-e87c-7b35fef3870a"
      },
      "source": [
        "class BankAccount:\n",
        "    def __init__(self, number, balance=0):\n",
        "        self.number, self.balance = number, balance\n",
        "      \n",
        "    def withdraw(self, amount):\n",
        "        self.balance -= amount \n",
        "\n",
        "    # MODIFY to add a check for the type()\n",
        "    def __eq__(self, other):\n",
        "        return ((self.number == other.number) & (type(self) == type(other)))\n",
        "\n",
        "class Phone:\n",
        "  def __init__(self, number):\n",
        "     self.number = number\n",
        "\n",
        "  def __eq__(self, other):\n",
        "    return self.number == other.number\n",
        "\n",
        "acct = BankAccount(873555333)\n",
        "pn = Phone(873555333)\n",
        "print(acct == pn)\n",
        "\n",
        "#  Try running pn == acct in the console (with reversed order of equality). \n",
        "#  What does this tell you about the __eq__() method?\n",
        "print(pn == acct)\n",
        "#  The __eq__ method is based on the __eq__ of the left object."
      ],
      "execution_count": null,
      "outputs": [
        {
          "output_type": "stream",
          "name": "stdout",
          "text": [
            "False\n",
            "True\n"
          ]
        }
      ]
    },
    {
      "cell_type": "markdown",
      "metadata": {
        "id": "ZpkpJcmfUKWn"
      },
      "source": [
        "Another way to ensure that an object has the same type as you expect is to use the **`isinstance(obj, Class)`** function."
      ]
    },
    {
      "cell_type": "markdown",
      "metadata": {
        "id": "JNOQutTIU7Is"
      },
      "source": [
        "### ***Comparison and inheritance***\n",
        "\n",
        "What happens when an object is compared to an object of a child class? Consider the following two classes:\n",
        "\n",
        "```\n",
        "class Parent:\n",
        "    def __eq__(self, other):\n",
        "        print(\"Parent's __eq__() called\")\n",
        "        return True\n",
        "\n",
        "class Child(Parent):\n",
        "    def __eq__(self, other):\n",
        "        print(\"Child's __eq__() called\")\n",
        "        return True\n",
        "```\n",
        "\n",
        "The `Child` class inherits from the `Parent` class, and both implement the **`__eq__()`** method that includes a diagnostic printout. Which **`__eq__()`** method will be called when the following code is run?\n",
        "\n",
        "```\n",
        "p = Parent()\n",
        "c = Child()\n",
        "\n",
        "p == c \n",
        "```"
      ]
    },
    {
      "cell_type": "code",
      "metadata": {
        "colab": {
          "base_uri": "https://localhost:8080/"
        },
        "id": "xGUMyoGNT3kX",
        "outputId": "9072311c-05e9-4c2b-a80f-5bc340c8ba15"
      },
      "source": [
        "class Parent:\n",
        "    def __eq__(self, other):\n",
        "        print(\"Parent's __eq__() called\")\n",
        "        return True\n",
        "\n",
        "class Child(Parent):\n",
        "    def __eq__(self, other):\n",
        "        print(\"Child's __eq__() called\")\n",
        "        return True\n",
        "\n",
        "p = Parent()\n",
        "c = Child()\n",
        "\n",
        "p == c "
      ],
      "execution_count": null,
      "outputs": [
        {
          "output_type": "stream",
          "name": "stdout",
          "text": [
            "Child's __eq__() called\n"
          ]
        },
        {
          "output_type": "execute_result",
          "data": {
            "text/plain": [
              "True"
            ]
          },
          "metadata": {},
          "execution_count": 11
        }
      ]
    },
    {
      "cell_type": "markdown",
      "metadata": {
        "id": "SnhH1GPUVX_1"
      },
      "source": [
        "Python always calls the child's **`__eq__()`** method when comparing a child object to a parent object."
      ]
    },
    {
      "cell_type": "markdown",
      "metadata": {
        "id": "fmnH7a_wrpAL"
      },
      "source": [
        "# ***Operator overloading: string representation***"
      ]
    },
    {
      "cell_type": "code",
      "source": [
        "class Customer:\n",
        "    def __init__(self, name, balance):\n",
        "        self.name, self.balance = name, balance\n",
        "    def __str__(self):  # <<<<<< รับมาเฉพาะ self เท่านั้น\n",
        "        cust_str = \"\"\"Customer: name: {name}balance: {balance}\"\"\".format(name = self.name, balance = self.balance)\n",
        "        return cust_str\n",
        "\n",
        "cust = Customer(\"Maryam Azar\", 3000)\n",
        "\n",
        "# Will implicitly call __str__()\n",
        "print(cust)"
      ],
      "metadata": {
        "colab": {
          "base_uri": "https://localhost:8080/"
        },
        "id": "SYnBhMNwDGsQ",
        "outputId": "77841fba-c7c9-4144-a618-5a05588c8ef4"
      },
      "execution_count": null,
      "outputs": [
        {
          "output_type": "stream",
          "name": "stdout",
          "text": [
            "Customer: name: Maryam Azarbalance: 3000\n"
          ]
        }
      ]
    },
    {
      "cell_type": "markdown",
      "source": [
        "# **__repr__()**\n",
        "\n",
        "* เวลาเขียนค่าที่เป็นผลลัพธ์ จะอยู่ในรูปที่ก็อปไปสร้างเป็น instances ใหม่ได้เลย"
      ],
      "metadata": {
        "id": "apnPFJ-rECXG"
      }
    },
    {
      "cell_type": "code",
      "source": [
        "class Customer:\n",
        "    def __init__(self, name, balance):\n",
        "        self.name, self.balance = name, balance\n",
        "    def __repr__(self):\n",
        "        # Notice the '...' around name\n",
        "        return \"Customer('{name}', {balance})\".format(name = self.name, balance = self.balance)\n",
        "\n",
        "cust = Customer(\"Maryam Azar\", 3000)\n",
        "cust # <--- # Will implicitly call __repr__()"
      ],
      "metadata": {
        "colab": {
          "base_uri": "https://localhost:8080/"
        },
        "id": "X_8ExYSGEbJ_",
        "outputId": "5b65704d-df36-453a-f97c-17606feaf31b"
      },
      "execution_count": null,
      "outputs": [
        {
          "output_type": "execute_result",
          "data": {
            "text/plain": [
              "Customer('Maryam Azar', 3000)"
            ]
          },
          "metadata": {},
          "execution_count": 7
        }
      ]
    },
    {
      "cell_type": "markdown",
      "source": [
        "### ***String formatting review***\n",
        "\n",
        "Before you start defining custom string representations for objects, make sure you are comfortable working with strings and formatting them. If you need a refresher, take a minute to look through the [official Python tutorial on string formatting](https://docs.python.org/3/library/stdtypes.html#str.format).\n",
        "\n",
        "In this exercise, consider the following code\n",
        "\n",
        "```\n",
        "my_num = 5\n",
        "my_str = \"Hello\"\n",
        "\n",
        "f = ...\n",
        "print(f)\n",
        "```\n",
        "\n",
        "where the definition for `f` is missing.\n",
        "\n",
        "Write the definition of `f` that will make the code above print exactly the following:\n",
        "\n",
        "```\n",
        "my_num is 5, and my_str is \"Hello\".\n",
        "```\n",
        "\n"
      ],
      "metadata": {
        "id": "mEZRWeFeDKec"
      }
    },
    {
      "cell_type": "code",
      "metadata": {
        "colab": {
          "base_uri": "https://localhost:8080/"
        },
        "id": "73qWnOF8VPHk",
        "outputId": "a03a9aa1-7c47-468a-a3c0-2163fb5cbe04"
      },
      "source": [
        "my_num, my_str = 5, \"Hello\"\n",
        "print(\"my_num is {}, and my_str is \\\"{}\\\".\".format(my_num, my_str))"
      ],
      "execution_count": null,
      "outputs": [
        {
          "output_type": "stream",
          "name": "stdout",
          "text": [
            "my_num is 5, and my_str is \"Hello\".\n"
          ]
        }
      ]
    },
    {
      "cell_type": "markdown",
      "source": [
        "### ***String representation of objects***\n",
        "\n",
        "There are two special methods in Python that return a string representation of an object. **`__str__()`** is called when you use **`print()`** or **`str()`** on an object, and **`__repr__()`** is called when you use **`repr()`** on an object, print the object in the console without calling **`print()`**, or instead of **`__str__()`** if **`__str__()`** is not defined.\n",
        "\n",
        "**`__str__()`** is supposed to provide a \"user-friendly\" output describing an object, and**` __repr__()`** should return the expression that, when evaluated, will return the same object, ensuring the reproducibility of your code.\n",
        "\n",
        "In this exercise, you will continue working with the `Employee` class.\n",
        "\n",
        "Add the **`__str__()`** method to Employee that satisfies the following:\n",
        "\n",
        "* If `emp` is an `Employee` object with name `\"Amar Howard\"` and salary of `40000`, then `print(emp)` outputs\n",
        "\n",
        "```\n",
        "Employee name: Amar Howard\n",
        "Employee salary: 40000\n",
        "```"
      ],
      "metadata": {
        "id": "1-FE2fgLJrim"
      }
    },
    {
      "cell_type": "code",
      "source": [
        "class Employee:\n",
        "    def __init__(self, name, salary=30000):\n",
        "        self.name, self.salary = name, salary\n",
        "      \n",
        "    def __str__(self):\n",
        "        return \"Employee name: {name}\\nEmployee salary: {salary}\".format(name=self.name, salary=self.salary)      \n",
        "\n",
        "emp1 = Employee(\"Amar Howard\", 30000)\n",
        "print(emp1)\n",
        "emp2 = Employee(\"Carolyn Ramirez\", 35000)\n",
        "print(emp2)"
      ],
      "metadata": {
        "colab": {
          "base_uri": "https://localhost:8080/"
        },
        "id": "USJ6Ll7xPhBz",
        "outputId": "d4584524-f7ff-4cf3-99e8-346608e99509"
      },
      "execution_count": null,
      "outputs": [
        {
          "output_type": "stream",
          "name": "stdout",
          "text": [
            "Employee name: Amar Howard\n",
            "Employee salary: 30000\n",
            "Employee name: Carolyn Ramirez\n",
            "Employee salary: 35000\n"
          ]
        }
      ]
    },
    {
      "cell_type": "markdown",
      "source": [
        "* Add the **`__repr__()`** method to `Employee` that satisfies the following:\n",
        "\n",
        "  * If `emp` is an `Employee` object with name `\"Amar Howard\"` and `salary` of `40000`, then `repr(emp)` outputs\n",
        "```\n",
        "Employee(\"Amar Howard\", 40000)\n",
        "```"
      ],
      "metadata": {
        "id": "FvHI8SIkP-0i"
      }
    },
    {
      "cell_type": "markdown",
      "metadata": {
        "id": "JhRx-KTssXwc"
      },
      "source": [
        "# To format a string with variables, you can either use\n",
        "\n",
        "1.    keyword arguments in `.format ('Insert {n} here'.format(n=num))`\n",
        "2.    refer to them by position index explicitly (like `'Insert {0} here'.format(num)`)\n",
        "3.   implicitly (like `'Insert {} here'.format(num)`)\n",
        "\n",
        "# To nest the same set of quotation marks, \n",
        "# you need to escape them with a slash like `\\\"`.\n",
        "\n",
        "*   `__str__()` is supposed to provide a \"user-friendly\" output describing an object. \n",
        "*   `__repr__()` should return the expression that, when evaluated, will return the same object, ***ensuring the reproducibility of your code***.\n",
        "\n"
      ]
    },
    {
      "cell_type": "code",
      "metadata": {
        "colab": {
          "base_uri": "https://localhost:8080/"
        },
        "id": "fDz27DNXsBuy",
        "outputId": "f5f2fb20-5be3-41df-a859-9bf4ec7e50be"
      },
      "source": [
        "class Employee:\n",
        "    def __init__(self, name, salary=30000):\n",
        "        self.name, self.salary = name, salary\n",
        "            \n",
        "    # Add the __str__() method\n",
        "    def __str__(self):\n",
        "        a = \"\"\"Employee name: {}\\nEmployee salary: {}\"\"\".format(self.name, self.salary)\n",
        "        return a\n",
        "    # Add the __repr__method  \n",
        "    def __repr__(self):\n",
        "        return f'Employee(\"{self.name}\", {self.salary})'\n",
        "\n",
        "emp1 = Employee(\"Amar Howard\", 30000)\n",
        "print(repr(emp1))\n",
        "emp2 = Employee(\"Carolyn Ramirez\", 35000)\n",
        "print(repr(emp2))"
      ],
      "execution_count": null,
      "outputs": [
        {
          "output_type": "stream",
          "name": "stdout",
          "text": [
            "Employee(\"Amar Howard\", 30000)\n",
            "Employee(\"Carolyn Ramirez\", 35000)\n"
          ]
        }
      ]
    },
    {
      "cell_type": "markdown",
      "metadata": {
        "id": "Ng68UWiyyUMO"
      },
      "source": [
        "### You should always define *at least one of the string representation methods* for your object to make sure that the person using your class can get important information about the object easily."
      ]
    },
    {
      "cell_type": "markdown",
      "metadata": {
        "id": "LQueqv1X0vLa"
      },
      "source": [
        "# ***Catching exceptions***\n",
        "\n",
        "## **Exception handling**"
      ]
    },
    {
      "cell_type": "code",
      "source": [
        "try:\n",
        "    # Try running some code\n",
        "except ExceptionNameHere:\n",
        "    # Run this code if ExceptionNameHere happens\n",
        "except AnotherExceptionHere: #<-- can have multiple except blocks\n",
        "    # Run this code if AnotherExceptionHere happens\n",
        "...\n",
        "finally: #<-- optional\n",
        "    # Run this code no matter what"
      ],
      "metadata": {
        "id": "cI15tv8wjjMR"
      },
      "execution_count": null,
      "outputs": []
    },
    {
      "cell_type": "markdown",
      "source": [
        "# ***Raising exceptions***\n",
        "\n",
        "`raise ExceptionNameHere('Error message here')`\n",
        "\n",
        "**Example**:"
      ],
      "metadata": {
        "id": "D_dGngMTj5B4"
      }
    },
    {
      "cell_type": "code",
      "source": [
        "def make_list_of_ones(length):\n",
        "    if length <= 0:\n",
        "        raise ValueError(\"Invalid length!\") # <--- Will stop the program and raise an error\n",
        "    return [1]*length\n",
        "    \n",
        "make_list_of_ones(-1)"
      ],
      "metadata": {
        "colab": {
          "base_uri": "https://localhost:8080/",
          "height": 335
        },
        "id": "jFzpn__0kLhn",
        "outputId": "d2de36bd-03e8-4f46-cbe1-f7b660d860df"
      },
      "execution_count": null,
      "outputs": [
        {
          "output_type": "error",
          "ename": "ValueError",
          "evalue": "ignored",
          "traceback": [
            "\u001b[0;31m---------------------------------------------------------------------------\u001b[0m",
            "\u001b[0;31mValueError\u001b[0m                                Traceback (most recent call last)",
            "\u001b[0;32m<ipython-input-1-889ccaf612a5>\u001b[0m in \u001b[0;36m<module>\u001b[0;34m()\u001b[0m\n\u001b[1;32m      4\u001b[0m     \u001b[0;32mreturn\u001b[0m \u001b[0;34m[\u001b[0m\u001b[0;36m1\u001b[0m\u001b[0;34m]\u001b[0m\u001b[0;34m*\u001b[0m\u001b[0mlength\u001b[0m\u001b[0;34m\u001b[0m\u001b[0;34m\u001b[0m\u001b[0m\n\u001b[1;32m      5\u001b[0m \u001b[0;34m\u001b[0m\u001b[0m\n\u001b[0;32m----> 6\u001b[0;31m \u001b[0mmake_list_of_ones\u001b[0m\u001b[0;34m(\u001b[0m\u001b[0;34m-\u001b[0m\u001b[0;36m1\u001b[0m\u001b[0;34m)\u001b[0m\u001b[0;34m\u001b[0m\u001b[0;34m\u001b[0m\u001b[0m\n\u001b[0m",
            "\u001b[0;32m<ipython-input-1-889ccaf612a5>\u001b[0m in \u001b[0;36mmake_list_of_ones\u001b[0;34m(length)\u001b[0m\n\u001b[1;32m      1\u001b[0m \u001b[0;32mdef\u001b[0m \u001b[0mmake_list_of_ones\u001b[0m\u001b[0;34m(\u001b[0m\u001b[0mlength\u001b[0m\u001b[0;34m)\u001b[0m\u001b[0;34m:\u001b[0m\u001b[0;34m\u001b[0m\u001b[0;34m\u001b[0m\u001b[0m\n\u001b[1;32m      2\u001b[0m     \u001b[0;32mif\u001b[0m \u001b[0mlength\u001b[0m \u001b[0;34m<=\u001b[0m \u001b[0;36m0\u001b[0m\u001b[0;34m:\u001b[0m\u001b[0;34m\u001b[0m\u001b[0;34m\u001b[0m\u001b[0m\n\u001b[0;32m----> 3\u001b[0;31m         \u001b[0;32mraise\u001b[0m \u001b[0mValueError\u001b[0m\u001b[0;34m(\u001b[0m\u001b[0;34m\"Invalid length!\"\u001b[0m\u001b[0;34m)\u001b[0m \u001b[0;31m# <--- Will stop the program and raise an error\u001b[0m\u001b[0;34m\u001b[0m\u001b[0;34m\u001b[0m\u001b[0m\n\u001b[0m\u001b[1;32m      4\u001b[0m     \u001b[0;32mreturn\u001b[0m \u001b[0;34m[\u001b[0m\u001b[0;36m1\u001b[0m\u001b[0;34m]\u001b[0m\u001b[0;34m*\u001b[0m\u001b[0mlength\u001b[0m\u001b[0;34m\u001b[0m\u001b[0;34m\u001b[0m\u001b[0m\n\u001b[1;32m      5\u001b[0m \u001b[0;34m\u001b[0m\u001b[0m\n",
            "\u001b[0;31mValueError\u001b[0m: Invalid length!"
          ]
        }
      ]
    },
    {
      "cell_type": "markdown",
      "source": [
        "# ***Custom exceptions***\n",
        "\n",
        "* Inherit from `Exception` or one of its subclasses\n",
        "* Usually an empty class"
      ],
      "metadata": {
        "id": "FAwp8o-ak4BG"
      }
    },
    {
      "cell_type": "code",
      "source": [
        "class BalanceError(Exception): \n",
        "    pass\n",
        "\n",
        "class Customer:\n",
        "    def __init__(self, name, balance):\n",
        "        if balance < 0 :\n",
        "            raise BalanceError(\"Balance has to be non-negative!\")\n",
        "        else:\n",
        "            self.name, self.balance = name, balance\n",
        "\n",
        "cust = Customer(\"Larry Torres\", -100)"
      ],
      "metadata": {
        "colab": {
          "base_uri": "https://localhost:8080/",
          "height": 335
        },
        "id": "_BLZoPdolKkN",
        "outputId": "c8f9a131-d956-4a69-9596-3d9b9ab43c7e"
      },
      "execution_count": null,
      "outputs": [
        {
          "output_type": "error",
          "ename": "BalanceError",
          "evalue": "ignored",
          "traceback": [
            "\u001b[0;31m---------------------------------------------------------------------------\u001b[0m",
            "\u001b[0;31mBalanceError\u001b[0m                              Traceback (most recent call last)",
            "\u001b[0;32m<ipython-input-2-9e75a042b694>\u001b[0m in \u001b[0;36m<module>\u001b[0;34m()\u001b[0m\n\u001b[1;32m      9\u001b[0m             \u001b[0mself\u001b[0m\u001b[0;34m.\u001b[0m\u001b[0mname\u001b[0m\u001b[0;34m,\u001b[0m \u001b[0mself\u001b[0m\u001b[0;34m.\u001b[0m\u001b[0mbalance\u001b[0m \u001b[0;34m=\u001b[0m \u001b[0mname\u001b[0m\u001b[0;34m,\u001b[0m \u001b[0mbalance\u001b[0m\u001b[0;34m\u001b[0m\u001b[0;34m\u001b[0m\u001b[0m\n\u001b[1;32m     10\u001b[0m \u001b[0;34m\u001b[0m\u001b[0m\n\u001b[0;32m---> 11\u001b[0;31m \u001b[0mcust\u001b[0m \u001b[0;34m=\u001b[0m \u001b[0mCustomer\u001b[0m\u001b[0;34m(\u001b[0m\u001b[0;34m\"Larry Torres\"\u001b[0m\u001b[0;34m,\u001b[0m \u001b[0;34m-\u001b[0m\u001b[0;36m100\u001b[0m\u001b[0;34m)\u001b[0m\u001b[0;34m\u001b[0m\u001b[0;34m\u001b[0m\u001b[0m\n\u001b[0m",
            "\u001b[0;32m<ipython-input-2-9e75a042b694>\u001b[0m in \u001b[0;36m__init__\u001b[0;34m(self, name, balance)\u001b[0m\n\u001b[1;32m      5\u001b[0m     \u001b[0;32mdef\u001b[0m \u001b[0m__init__\u001b[0m\u001b[0;34m(\u001b[0m\u001b[0mself\u001b[0m\u001b[0;34m,\u001b[0m \u001b[0mname\u001b[0m\u001b[0;34m,\u001b[0m \u001b[0mbalance\u001b[0m\u001b[0;34m)\u001b[0m\u001b[0;34m:\u001b[0m\u001b[0;34m\u001b[0m\u001b[0;34m\u001b[0m\u001b[0m\n\u001b[1;32m      6\u001b[0m         \u001b[0;32mif\u001b[0m \u001b[0mbalance\u001b[0m \u001b[0;34m<\u001b[0m \u001b[0;36m0\u001b[0m \u001b[0;34m:\u001b[0m\u001b[0;34m\u001b[0m\u001b[0;34m\u001b[0m\u001b[0m\n\u001b[0;32m----> 7\u001b[0;31m             \u001b[0;32mraise\u001b[0m \u001b[0mBalanceError\u001b[0m\u001b[0;34m(\u001b[0m\u001b[0;34m\"Balance has to be non-negative!\"\u001b[0m\u001b[0;34m)\u001b[0m\u001b[0;34m\u001b[0m\u001b[0;34m\u001b[0m\u001b[0m\n\u001b[0m\u001b[1;32m      8\u001b[0m         \u001b[0;32melse\u001b[0m\u001b[0;34m:\u001b[0m\u001b[0;34m\u001b[0m\u001b[0;34m\u001b[0m\u001b[0m\n\u001b[1;32m      9\u001b[0m             \u001b[0mself\u001b[0m\u001b[0;34m.\u001b[0m\u001b[0mname\u001b[0m\u001b[0;34m,\u001b[0m \u001b[0mself\u001b[0m\u001b[0;34m.\u001b[0m\u001b[0mbalance\u001b[0m \u001b[0;34m=\u001b[0m \u001b[0mname\u001b[0m\u001b[0;34m,\u001b[0m \u001b[0mbalance\u001b[0m\u001b[0;34m\u001b[0m\u001b[0;34m\u001b[0m\u001b[0m\n",
            "\u001b[0;31mBalanceError\u001b[0m: Balance has to be non-negative!"
          ]
        }
      ]
    },
    {
      "cell_type": "markdown",
      "source": [
        "# ***Catching custom exceptions***"
      ],
      "metadata": {
        "id": "iCy0gyDBl4JD"
      }
    },
    {
      "cell_type": "code",
      "source": [
        "class BalanceError(Exception): \n",
        "    pass\n",
        "\n",
        "class Customer:\n",
        "    def __init__(self, name, balance):\n",
        "        if balance < 0 :\n",
        "            raise BalanceError(\"Balance has to be non-negative!\")\n",
        "        else:\n",
        "            self.name, self.balance = name, balance\n",
        "\n",
        "    def __repr__(self):\n",
        "        return f'Customer(\"{self.name}\", {self.balance})'\n",
        "\n",
        "try:\n",
        "    cust = Customer(\"Larry Torres\", -100)\n",
        "except BalanceError:\n",
        "    cust = Customer(\"Larry Torres\", 0)\n",
        "\n",
        "cust"
      ],
      "metadata": {
        "colab": {
          "base_uri": "https://localhost:8080/"
        },
        "id": "gCqTWGu7mKlP",
        "outputId": "1891fb67-efec-4c1c-bc44-215507752f61"
      },
      "execution_count": null,
      "outputs": [
        {
          "output_type": "execute_result",
          "data": {
            "text/plain": [
              "Customer(\"Larry Torres\", 0)"
            ]
          },
          "metadata": {},
          "execution_count": 4
        }
      ]
    },
    {
      "cell_type": "markdown",
      "source": [
        "### ***Catching exceptions***\n",
        "\n",
        "Before you start writing your own custom exceptions, let's make sure you have the basics of handling exceptions down.\n",
        "\n",
        "In this exercise, you are given a function `invert_at_index(x, ind)` that takes two arguments, a list `x` and an index `ind`, and inverts the element of the list at that index. For example `invert_at_index([5,6,7], 1)` returns `1/6`, or `0.166666` .\n",
        "\n",
        "Try running the code as-is and examine the output in the console. There are two unsafe operations in this function: first, if the element that we're trying to invert has the value `0`, then the code will cause a `ZeroDivisionError` exception. Second, if the index passed to the function is out of range for the list, the code will cause a `IndexError`. In both cases, the script will be interrupted, which might not be desirable.\n",
        "\n",
        "Use a `try - except - except` pattern (with two except blocks) inside the function to catch and handle two exceptions as follows:\n",
        "\n",
        "* try executing the code as-is,\n",
        "* if `ZeroDivisionError` occurs, print `\"Cannot divide by zero!\"`,\n",
        "* if `IndexError` occurs, print `\"Index out of range!\"`\n",
        "\n",
        "*You know you got it right if the code runs without errors, and the output in the console is:*\n",
        "\n",
        "```\n",
        "0.16666666666666666\n",
        "Cannot divide by zero!\n",
        "None\n",
        "Index out of range!\n",
        "None\n",
        "```"
      ],
      "metadata": {
        "id": "vIId_z4Dm8aV"
      }
    },
    {
      "cell_type": "code",
      "metadata": {
        "colab": {
          "base_uri": "https://localhost:8080/"
        },
        "id": "y7gkHkt5uJ5Q",
        "outputId": "43914472-e88c-4e5f-8560-fe40891c62f1"
      },
      "source": [
        "# MODIFY the function to catch exceptions\n",
        "def invert_at_index(x, ind):\n",
        "    try:\n",
        "        return 1/x[ind]\n",
        "    except ZeroDivisionError:\n",
        "        print(\"Cannot divide by zero!\")\n",
        "    except IndexError:\n",
        "        print(\"Index out of range!\")\n",
        "a = [5,6,0,7]\n",
        "\n",
        "# Works okay\n",
        "print(invert_at_index(a, 1))\n",
        "\n",
        "# Potential ZeroDivisionError\n",
        "print(invert_at_index(a, 2))\n",
        "\n",
        "# Potential IndexError\n",
        "print(invert_at_index(a, 5))"
      ],
      "execution_count": null,
      "outputs": [
        {
          "output_type": "stream",
          "text": [
            "0.16666666666666666\n",
            "Cannot divide by zero!\n",
            "None\n",
            "Index out of range!\n",
            "None\n"
          ],
          "name": "stdout"
        }
      ]
    },
    {
      "cell_type": "markdown",
      "metadata": {
        "id": "mEGxidqwR8uQ"
      },
      "source": [
        "It's important to note, though, that this code will only be able to handle the two particular errors specified in the except blocks. Any other error would still terminate the program.\n",
        "\n",
        "### ***Custom exceptions***\n",
        "\n",
        "You don't have to rely solely on built-in exceptions like `IndexError`: you can define ***your own exceptions*** more specific to your application. You can also define exception hierarchies. <ins>*All you need to define an exception is a class inherited from the built-in Exception class</ins> or one of its subclasses*.\n",
        "\n",
        "Previously, you defined an `Employee` class and used print statements and default values to handle errors like creating an employee with a salary below the minimum or giving a raise that is too big. A better way to handle this situation is to use exceptions. Because these errors are specific to our application (unlike, for example, a division by zero error which is universal), it makes sense to use custom exception classes.\n",
        "\n",
        "* Define an empty class `SalaryError` inherited from the built-in `ValueError` class.\n",
        "* Define an empty class `BonusError` inherited from the `SalaryError` class.\n",
        "* Complete the definition of **`__init__()`** to raise a `SalaryError` with the message `\"Salary is too low!\"` if the salary parameter is less than `MIN_SALARY` class attribute.\n",
        "\n",
        "*There's no need for `else` because `raise` terminates the program anyway.*\n",
        "\n",
        "\n",
        "* Examine the `give_bonus()` method, and then rewrite it using exceptions instead of print statements:\n",
        "\n",
        "  * raise a `BonusError` if the bonus amount is too high;\n",
        "  * raise a `SalaryError` if the result of adding the bonus would be too low.\n",
        "\n",
        "\n",
        "\n",
        "\n"
      ]
    },
    {
      "cell_type": "code",
      "metadata": {
        "id": "zaOG7dlw05Sd"
      },
      "source": [
        "# Define SalaryError inherited from ValueError\n",
        "class SalaryError(ValueError):\n",
        "    pass\n",
        "# Define BonusError inherited from SalaryError\n",
        "class BonusError(SalaryError):\n",
        "    pass\n",
        "\n",
        "class Employee:\n",
        "    MIN_SALARY = 30000\n",
        "    MAX_BONUS = 5000\n",
        "\n",
        "    def __init__(self, name, salary = 30000):\n",
        "        self.name = name        \n",
        "        # If salary is too low\n",
        "        if Employee.MIN_SALARY > salary:\n",
        "            # Raise a SalaryError exception\n",
        "            raise SalaryError(\"Salary is too low!\")\n",
        "        self.salary = salary\n",
        "\n",
        "    # Rewrite using exceptions  \n",
        "    def give_bonus(self, amount):\n",
        "        if amount > Employee.MAX_BONUS:\n",
        "            raise BonusError(\"The bonus amount is too high!\")  \n",
        "        elif self.salary + amount <  Employee.MIN_SALARY:\n",
        "            raise SalaryError(\"The salary after bonus is too low!\")\n",
        "        else:  # <<<<<<< Optional\n",
        "            self.salary += amount"
      ],
      "execution_count": null,
      "outputs": []
    },
    {
      "cell_type": "markdown",
      "metadata": {
        "id": "m9J1wk1rUgq_"
      },
      "source": [
        "Notice that if you `raise` an exception inside an `if` statement, you don't need to add an `else` branch to run the rest of the code. Because `raise` terminates the function, the code after raise will only be executed if an exception did not occur.\n",
        "\n",
        "### ***Handling exception hierarchies***\n",
        "\n",
        "Previously, you defined an `Employee` class with a method `get_bonus()` that raises a `BonusError` and a `SalaryError` depending on parameters. But the `BonusError` exception was inherited from the `SalaryError` exception. How does exception inheritance affect exception handling?\n",
        "\n",
        "The `Employee` class has been defined for you. It has a minimal salary of `30000` and a maximal bonus amount of `5000`.\n",
        "\n",
        "Experiment with the following code\n",
        "\n",
        "and select the statement which is **TRUE** about handling parent/child exception classes:"
      ]
    },
    {
      "cell_type": "code",
      "metadata": {
        "colab": {
          "base_uri": "https://localhost:8080/",
          "height": 482
        },
        "id": "IyC3AZYoURON",
        "outputId": "cc82235f-8013-4f58-fbcf-a6992940b467"
      },
      "source": [
        "class SalaryError(ValueError): pass\n",
        "class BonusError(SalaryError): pass\n",
        "\n",
        "class Employee:\n",
        "    MIN_SALARY = 30000\n",
        "    MAX_BONUS = 5000\n",
        "\n",
        "    def __init__(self, name, salary = 30000):\n",
        "        self.name = name        \n",
        "        if Employee.MIN_SALARY > salary:\n",
        "            raise SalaryError(\"Salary is too low!\")\n",
        "        self.salary = salary\n",
        "\n",
        "    def give_bonus(self, amount):\n",
        "        if amount > Employee.MAX_BONUS:\n",
        "            raise BonusError(\"The bonus amount is too high!\")  \n",
        "        elif self.salary + amount <  Employee.MIN_SALARY:\n",
        "            raise SalaryError(\"The salary after bonus is too low!\")\n",
        "        else: \n",
        "            self.salary += amount\n",
        "\n",
        "emp = Employee(\"Katze Rik\", salary=50000)\n",
        "\n",
        "try:\n",
        "  emp.give_bonus(7000)\n",
        "except SalaryError:\n",
        "  print(\"SalaryError caught!\")\n",
        "print(emp.salary)\n",
        "\n",
        "try:\n",
        "  emp.give_bonus(7000)\n",
        "except BonusError:\n",
        "  print(\"BonusError caught!\")\n",
        "print(emp.salary)\n",
        "\n",
        "try:\n",
        "  emp.give_bonus(-100000)\n",
        "except SalaryError:\n",
        "  print(\"SalaryError caught again!\")\n",
        "print(emp.salary)\n",
        "\n",
        "try:\n",
        "  emp.give_bonus(-100000)\n",
        "except BonusError:\n",
        "  print(\"BonusError caught again!\")  \n",
        "print(emp.salary)"
      ],
      "execution_count": null,
      "outputs": [
        {
          "output_type": "stream",
          "name": "stdout",
          "text": [
            "SalaryError caught!\n",
            "50000\n",
            "BonusError caught!\n",
            "50000\n",
            "SalaryError caught again!\n",
            "50000\n"
          ]
        },
        {
          "output_type": "error",
          "ename": "SalaryError",
          "evalue": "ignored",
          "traceback": [
            "\u001b[0;31m---------------------------------------------------------------------------\u001b[0m",
            "\u001b[0;31mSalaryError\u001b[0m                               Traceback (most recent call last)",
            "\u001b[0;32m<ipython-input-7-bc4a7610cbe6>\u001b[0m in \u001b[0;36m<module>\u001b[0;34m()\u001b[0m\n\u001b[1;32m     41\u001b[0m \u001b[0;34m\u001b[0m\u001b[0m\n\u001b[1;32m     42\u001b[0m \u001b[0;32mtry\u001b[0m\u001b[0;34m:\u001b[0m\u001b[0;34m\u001b[0m\u001b[0;34m\u001b[0m\u001b[0m\n\u001b[0;32m---> 43\u001b[0;31m   \u001b[0memp\u001b[0m\u001b[0;34m.\u001b[0m\u001b[0mgive_bonus\u001b[0m\u001b[0;34m(\u001b[0m\u001b[0;34m-\u001b[0m\u001b[0;36m100000\u001b[0m\u001b[0;34m)\u001b[0m\u001b[0;34m\u001b[0m\u001b[0;34m\u001b[0m\u001b[0m\n\u001b[0m\u001b[1;32m     44\u001b[0m \u001b[0;32mexcept\u001b[0m \u001b[0mBonusError\u001b[0m\u001b[0;34m:\u001b[0m\u001b[0;34m\u001b[0m\u001b[0;34m\u001b[0m\u001b[0m\n\u001b[1;32m     45\u001b[0m   \u001b[0mprint\u001b[0m\u001b[0;34m(\u001b[0m\u001b[0;34m\"BonusError caught again!\"\u001b[0m\u001b[0;34m)\u001b[0m\u001b[0;34m\u001b[0m\u001b[0;34m\u001b[0m\u001b[0m\n",
            "\u001b[0;32m<ipython-input-7-bc4a7610cbe6>\u001b[0m in \u001b[0;36mgive_bonus\u001b[0;34m(self, amount)\u001b[0m\n\u001b[1;32m     16\u001b[0m             \u001b[0;32mraise\u001b[0m \u001b[0mBonusError\u001b[0m\u001b[0;34m(\u001b[0m\u001b[0;34m\"The bonus amount is too high!\"\u001b[0m\u001b[0;34m)\u001b[0m\u001b[0;34m\u001b[0m\u001b[0;34m\u001b[0m\u001b[0m\n\u001b[1;32m     17\u001b[0m         \u001b[0;32melif\u001b[0m \u001b[0mself\u001b[0m\u001b[0;34m.\u001b[0m\u001b[0msalary\u001b[0m \u001b[0;34m+\u001b[0m \u001b[0mamount\u001b[0m \u001b[0;34m<\u001b[0m  \u001b[0mEmployee\u001b[0m\u001b[0;34m.\u001b[0m\u001b[0mMIN_SALARY\u001b[0m\u001b[0;34m:\u001b[0m\u001b[0;34m\u001b[0m\u001b[0;34m\u001b[0m\u001b[0m\n\u001b[0;32m---> 18\u001b[0;31m             \u001b[0;32mraise\u001b[0m \u001b[0mSalaryError\u001b[0m\u001b[0;34m(\u001b[0m\u001b[0;34m\"The salary after bonus is too low!\"\u001b[0m\u001b[0;34m)\u001b[0m\u001b[0;34m\u001b[0m\u001b[0;34m\u001b[0m\u001b[0m\n\u001b[0m\u001b[1;32m     19\u001b[0m         \u001b[0;32melse\u001b[0m\u001b[0;34m:\u001b[0m\u001b[0;34m\u001b[0m\u001b[0;34m\u001b[0m\u001b[0m\n\u001b[1;32m     20\u001b[0m             \u001b[0mself\u001b[0m\u001b[0;34m.\u001b[0m\u001b[0msalary\u001b[0m \u001b[0;34m+=\u001b[0m \u001b[0mamount\u001b[0m\u001b[0;34m\u001b[0m\u001b[0;34m\u001b[0m\u001b[0m\n",
            "\u001b[0;31mSalaryError\u001b[0m: The salary after bonus is too low!"
          ]
        }
      ]
    },
    {
      "cell_type": "markdown",
      "source": [
        "**`except`** block for a parent exception will catch child exceptions แต่ child exception (ในที่นี้ `BonusError`) จะไม่สามารถ catch parent exception (ในที่นี้ `SalaryError`) ได้ โดยดูได้จากโค้ดท่อนสุดท้าย `emp.give_bonus(-100000)` มันเป็น SalaryError ดังนั้นตรง `except BonusError:` จึงไม่สามารถจับ SalaryError ได้\n",
        "\n",
        "* อธิบายสั้นๆคือ Parent Exception เป็นสับเซตของ Child Exception ดังนั้นทุกๆ Parent Error ก็จะหมายถึง Child Error ด้วย"
      ],
      "metadata": {
        "id": "_M3VhQo2zQrC"
      }
    },
    {
      "cell_type": "code",
      "metadata": {
        "colab": {
          "base_uri": "https://localhost:8080/"
        },
        "id": "MdXUochTVVPj",
        "outputId": "82e118a6-531b-4d07-c8bc-f9351188bb85"
      },
      "source": [
        "emp = Employee(\"Katze Rik\", 50000)\n",
        "try:\n",
        "  emp.give_bonus(7000)\n",
        "except SalaryError:\n",
        "  print(\"SalaryError caught\")\n",
        "except BonusError:\n",
        "  print(\"BonusError caught\")"
      ],
      "execution_count": null,
      "outputs": [
        {
          "output_type": "stream",
          "name": "stdout",
          "text": [
            "SalaryError caught\n"
          ]
        }
      ]
    },
    {
      "cell_type": "code",
      "metadata": {
        "colab": {
          "base_uri": "https://localhost:8080/"
        },
        "id": "tfVvlSafWTni",
        "outputId": "5ba0a5b9-b594-4a8f-b653-5735dac91ac0"
      },
      "source": [
        "emp = Employee(\"Katze Rik\", 50000)\n",
        "try:\n",
        "  emp.give_bonus(7000)\n",
        "except BonusError:\n",
        "  print(\"BonusError caught\")\n",
        "except SalaryError:\n",
        "  print(\"SalaryError caught\")\n",
        "      "
      ],
      "execution_count": null,
      "outputs": [
        {
          "output_type": "stream",
          "name": "stdout",
          "text": [
            "BonusError caught\n"
          ]
        }
      ]
    },
    {
      "cell_type": "markdown",
      "metadata": {
        "id": "2VY4FuAHaUMp"
      },
      "source": [
        "It's better to include an **`except`** block for a child exception before the block for a parent exception, otherwise the child exceptions will be always be caught in the parent block, and the except block for the child will never be executed.\n",
        "\n",
        "In other words, it's better to list the **`except`** blocks in the increasing order of specificity, i.e. ***children before parents***, otherwise the child exception will be called in the parent **`except`** block."
      ]
    },
    {
      "cell_type": "markdown",
      "metadata": {
        "id": "rug0NNZtQIXq"
      },
      "source": [
        "# ***Polymorphism***\n",
        "\n",
        "Using a unified interface to operate on objects of different\n",
        "classes\n",
        "\n",
        "### ***Polymorphic methods***\n",
        "\n",
        "To design classes effectively, you need to understand *how inheritance and polymorphism work together*.\n",
        "\n",
        "In this exercise, you have three classes - one parent and two children - each of which has a `talk()` method. Analyze the following code:\n",
        "\n"
      ]
    },
    {
      "cell_type": "code",
      "metadata": {
        "colab": {
          "base_uri": "https://localhost:8080/"
        },
        "id": "8ixqJ1IMZspe",
        "outputId": "5a9edd29-ba9b-498c-9c4a-eeb7840aad86"
      },
      "source": [
        "class Parent:\n",
        "    def talk(self):\n",
        "        print(\"Parent talking!\")     \n",
        "\n",
        "class Child(Parent):\n",
        "    def talk(self):\n",
        "        print(\"Child talking!\")          \n",
        "\n",
        "class TalkativeChild(Parent):\n",
        "    def talk(self):\n",
        "        print(\"TalkativeChild talking!\")\n",
        "        Parent.talk(self)\n",
        "\n",
        "\n",
        "p, c, tc = Parent(), Child(), TalkativeChild()\n",
        "\n",
        "for obj in (p, c, tc):\n",
        "    obj.talk()"
      ],
      "execution_count": null,
      "outputs": [
        {
          "output_type": "stream",
          "text": [
            "Parent talking!\n",
            "Child talking!\n",
            "TalkativeChild talking!\n",
            "Parent talking!\n"
          ],
          "name": "stdout"
        }
      ]
    },
    {
      "cell_type": "markdown",
      "metadata": {
        "id": "Q0Fehbc7RRm3"
      },
      "source": [
        "### Polymorphism ensures that the exact method called is determined dynamically based on the instance. What do you think would happen if Child did not implement talk()?"
      ]
    },
    {
      "cell_type": "code",
      "metadata": {
        "colab": {
          "base_uri": "https://localhost:8080/"
        },
        "id": "GVGQBzQYRBWl",
        "outputId": "fe9c26fe-9e1d-4e53-c9a6-84cdb359bc1f"
      },
      "source": [
        "class Parent:\n",
        "    def talk(self):\n",
        "        print(\"Parent talking!\")     \n",
        "\n",
        "class Child(Parent):\n",
        "    pass         # Child did not implement talk() \n",
        "\n",
        "class TalkativeChild(Parent):\n",
        "    def talk(self):\n",
        "        print(\"TalkativeChild talking!\")\n",
        "        Parent.talk(self)\n",
        "\n",
        "\n",
        "p, c, tc = Parent(), Child(), TalkativeChild()\n",
        "\n",
        "for obj in (p, c, tc):\n",
        "    obj.talk()"
      ],
      "execution_count": null,
      "outputs": [
        {
          "output_type": "stream",
          "text": [
            "Parent talking!\n",
            "Parent talking!\n",
            "TalkativeChild talking!\n",
            "Parent talking!\n"
          ],
          "name": "stdout"
        }
      ]
    },
    {
      "cell_type": "markdown",
      "metadata": {
        "id": "flEiOQyDSSIO"
      },
      "source": [
        "### ***Square and rectangle***\n",
        "\n",
        "The classic example of a problem that violates the ***Liskov Substitution Principle*** is the Circle-Ellipse problem, sometimes called the Square-Rectangle problem.\n",
        "\n",
        "By all means, it seems like you should be able to define a class `Rectangle`, with attributes `h` and `w` (for height and width), and then define a class `Square` that inherits from the `Rectangle`. After all, a square **\"is-a\"** rectangle!\n",
        "\n",
        "Unfortunately, ***this intuition doesn't apply to object-oriented design***.\n",
        "\n",
        "1. Create a class `Rectangle` with a constructor that accepts two parameters, `h` and `w`, and sets its `h` and `w` attributes to the values of h and w.\n",
        "  * Create a class `Square` inherited from `Rectangle` with a constructor that accepts one parameter `w`, and sets both the `h` and `w` attributes to the value of `w`.\n",
        "\n",
        "2. Create a `Square` object with side length `4`. Then try assigning `7` to the `h` attribute.\n",
        "  What went wrong with these classes?"
      ]
    },
    {
      "cell_type": "code",
      "metadata": {
        "colab": {
          "base_uri": "https://localhost:8080/"
        },
        "id": "dnlN6ZJfR-My",
        "outputId": "ab7af80d-62b6-45b7-bfb8-35fa3e560454"
      },
      "source": [
        "# Define a Rectangle class\n",
        "class Rectangle:\n",
        "    def __init__(self, h, w):\n",
        "        self.h, self.w = h, w\n",
        "\n",
        "# Define a Square class\n",
        "class Square(Rectangle):\n",
        "    def __init__(self, w):\n",
        "        Rectangle.__init__(self, w, w)\n",
        "\n",
        "s = Square(4)\n",
        "s.h = 7\n",
        "print(s.w, s.h)"
      ],
      "execution_count": 6,
      "outputs": [
        {
          "output_type": "stream",
          "name": "stdout",
          "text": [
            "4 7\n"
          ]
        }
      ]
    },
    {
      "cell_type": "markdown",
      "source": [
        "The 4x4 `Square` object would no longer be a square if we assign 7 to `h`.\n",
        "\n",
        "3. A Square inherited from a `Rectangle` will always have both the `h` and `w` attributes, but ***we can't allow them to change independently of each other.***\n",
        "\n",
        "* Define methods `set_h()` and `set_w()` in `Rectangle`, each accepting one parameter and setting `h` and `w`.\n",
        "* Define methods `set_h()` and `set_w()` in `Square`, each accepting one parameter, and setting both `h` and `w` to that parameter in both methods."
      ],
      "metadata": {
        "id": "TRXXnblCVGHj"
      }
    },
    {
      "cell_type": "code",
      "metadata": {
        "id": "x7etQBUaTvcd"
      },
      "source": [
        "class Rectangle:\n",
        "    def __init__(self, w,h):\n",
        "        self.w, self.h = w,h\n",
        "\n",
        "# Define methods set_h() and set_w() in Rectangle, \n",
        "# each accepting one parameter and setting h and w.     \n",
        "    def set_h(self, h):\n",
        "        self.h = h\n",
        "      \n",
        "# Define set_w to set w          \n",
        "    def set_w(self, w):\n",
        "        self.w = w\n",
        "      \n",
        "# Define methods set_h() and set_w() in Square, each accepting one parameter, \n",
        "# and setting both h and w to that parameter in both methods.      \n",
        "class Square(Rectangle):\n",
        "    def __init__(self, w):\n",
        "      self.w, self.h = w, w \n",
        "\n",
        "# Define set_h to set w and h\n",
        "    def set_h(self, h):\n",
        "      self.h, self.w = h, h\n",
        "\n",
        "# Define set_w to set w and h      \n",
        "    def set_w(self, w):\n",
        "      self.h, self.w = w, w    "
      ],
      "execution_count": 7,
      "outputs": []
    },
    {
      "cell_type": "markdown",
      "metadata": {
        "id": "ASbC_vyZWQRN"
      },
      "source": [
        "These setter methods violate Liskov Substitution principle because each of the setter methods of `Square` change <ins>**both**</ins> `h` and `w` attributes, while setter methods of `Rectangle` change only one attribute at a time, so the `Square` objects cannot be substituted for `Rectangle` into programs that rely on one attribute staying constant.\n"
      ]
    },
    {
      "cell_type": "markdown",
      "metadata": {
        "id": "CfvaUXt5jo3-"
      },
      "source": [
        "# ***Naming convention: internal attributes***\n",
        "\n",
        "**`obj._att_name`** , **`obj._method_name()`**\n",
        "* Starts with a single **`_`** → **\"internal\"**\n",
        "* Not a part of the public API\n",
        "* As a class user: ***\"don't touch this\"***\n",
        "* As a class developer: use for implementation details, helper functions..\n",
        "\n",
        "**Example**:\n",
        "**`df._is_mixed_type`** , **`datetime._ymd2ord()`**\n",
        "\n",
        "# ***Naming convention: pseudo-private attributes***\n",
        "\n",
        "* **`obj.__attr_name`** , **`obj.__method_name()`**\n",
        "* Starts with **`__`** but doesn't end with **`__`** $⟹$ **\"private\"**\n",
        "* Name mangling: **`obj.__attr_name`** is interpreted as **`obj._MyClass__attr_name`**\n",
        "* Used to prevent name clashes in inherited classes\n",
        "\n",
        "Leading and trailing **`__`** are only used for built-in Python methods ( **`__init__()`** , **`__repr__()`** )!\n",
        "\n",
        "### ***Using internal attributes***\n",
        "\n",
        "Return to the `BetterDate` class of Chapter `2`. Your date class is better because it will use the sensible convention of having exactly 30 days in each month.\n",
        "\n",
        "You decide to add a method that checks the validity of the date, but you don't want to make it a part of `BetterDate`'s public interface.\n",
        "\n",
        "The class `BetterDate` is available in the script pane.\n",
        "\n",
        "* Add a class attribute `_MAX_DAYS` storing the maximal number of days in a month - `30`.\n",
        "* Add another class attribute storing the maximal number of months in a year - `12`. Use the appropriate naming convention to indicate that this is an internal attribute.\n",
        "* Add an `_is_valid()` method that returns `True` if the day and month attributes are less than or equal to the corresponding maximum values, and `False` otherwise. Make sure to refer to the class attributes by their names!"
      ]
    },
    {
      "cell_type": "code",
      "metadata": {
        "colab": {
          "base_uri": "https://localhost:8080/"
        },
        "id": "OYvShvECVag2",
        "outputId": "1debcd34-2388-4c1e-d7f7-1474a931c4cc"
      },
      "source": [
        "# Add class attributes for max number of days and months\n",
        "class BetterDate:\n",
        "    _MAX_DAYS = 30\n",
        "    _MAX_MONTHS = 12\n",
        "    def __init__(self, year, month, day):\n",
        "        self.year, self.month, self.day = year, month, day\n",
        "        \n",
        "    @classmethod\n",
        "    def from_str(cls, datestr):\n",
        "        year, month, day = map(int, datestr.split(\"-\"))\n",
        "        return cls(year, month, day)\n",
        "    \n",
        "    # Add _is_valid() checking day and month values\n",
        "    def _is_valid(self):\n",
        "        return True if (self.day <= BetterDate._MAX_DAYS) & (self.month <= BetterDate._MAX_MONTHS)  else False\n",
        "\n",
        "    \n",
        "bd1 = BetterDate(2020, 4, 30)\n",
        "print(bd1._is_valid())\n",
        "\n",
        "bd2 = BetterDate(2020, 6, 45)\n",
        "print(bd2._is_valid())"
      ],
      "execution_count": 1,
      "outputs": [
        {
          "output_type": "stream",
          "name": "stdout",
          "text": [
            "True\n",
            "False\n"
          ]
        }
      ]
    },
    {
      "cell_type": "markdown",
      "metadata": {
        "id": "Cp4_1DWymIJI"
      },
      "source": [
        "If you see an attribute name with one leading underscore in someone's class,   \n",
        "\n",
        "# **<ins>Don't</ins> use it!**"
      ]
    },
    {
      "cell_type": "markdown",
      "metadata": {
        "id": "QXZZwoeYqdRZ"
      },
      "source": [
        "# **`@property`**\n",
        "\n",
        "You could think of properties as attributes with built-in access control.\n",
        "\n",
        "## *What do properties do?*\n",
        "\n",
        "1.   Properties can be used to implement **\"read-only\"** attributes.\n",
        "2.   Properties can be accessed using the dot syntax just like regular attributes.\n",
        "3.   Properties allow for validation of values that are assigned to them.\n",
        "\n"
      ]
    },
    {
      "cell_type": "code",
      "source": [
        "class Employee:\n",
        "\n",
        "  def __init__(self, name, new_salary):\n",
        "      self._salary = new_salary  # <<<<<< Internal attribute ต้องมี _ นำหน้า\n",
        "\n",
        "  @property         # <<<<< ต้องมี @property decorator\n",
        "  def salary(self): # <<<<< ชื่อ method ต้องเหมือนกันกับชื่อ internal attribute เป๊ะๆ\n",
        "      print(\"setup value called\")\n",
        "      return self._salary # internal attribute มี _ นำหน้า ชื่อ method ไม่ต้อง\n",
        "  \n",
        "  @salary.getter\n",
        "  def salary(self): \n",
        "      print(\"getter method called\")\n",
        "      return self._salary \n",
        "\n",
        "  @salary.deleter\n",
        "  def salary(self): \n",
        "      print(\"deleter method called\")\n",
        "      return self._salary\n",
        "\n",
        "  @salary.setter    # ใช้เมื่อต้องการตั้งค่าของ internal attributes\n",
        "  def salary(self, new_salary): # ใช้ชื่อ method เหมือนกับอันบนเลย\n",
        "      print(\"setter method called\")\n",
        "      if new_salary < 0:\n",
        "          raise ValueError(\"Invalid salary\") \n",
        "      self._salary = new_salary\n",
        "\n",
        "emp = Employee(\"Miriam Azari\",35000)\n",
        "\n",
        "# accessing the \"property\"\n",
        "emp.salary     # <<<< แต่เวลาเรียก ไม่ต้องเขียน emp._salary"
      ],
      "metadata": {
        "colab": {
          "base_uri": "https://localhost:8080/"
        },
        "id": "om5ypH61afW8",
        "outputId": "cef5ce78-d1a1-4529-d701-3bf5f8b61310"
      },
      "execution_count": 18,
      "outputs": [
        {
          "output_type": "stream",
          "name": "stdout",
          "text": [
            "getter method called\n"
          ]
        },
        {
          "output_type": "execute_result",
          "data": {
            "text/plain": [
              "35000"
            ]
          },
          "metadata": {},
          "execution_count": 18
        }
      ]
    },
    {
      "cell_type": "code",
      "source": [
        "emp.salary = 60000 # <-- @salary.setter"
      ],
      "metadata": {
        "colab": {
          "base_uri": "https://localhost:8080/"
        },
        "id": "7V77Khgew2Pq",
        "outputId": "848b6e84-0f58-4ff3-a8ed-d725b5a7f1c7"
      },
      "execution_count": 13,
      "outputs": [
        {
          "output_type": "stream",
          "name": "stdout",
          "text": [
            "setter method called\n"
          ]
        }
      ]
    },
    {
      "cell_type": "code",
      "source": [
        "emp.salary = -1000"
      ],
      "metadata": {
        "colab": {
          "base_uri": "https://localhost:8080/",
          "height": 317
        },
        "id": "VAS_a2t9w8NK",
        "outputId": "d2050a77-1074-4f0b-f14c-f7c1ef251567"
      },
      "execution_count": 8,
      "outputs": [
        {
          "output_type": "stream",
          "name": "stdout",
          "text": [
            "setter method called\n"
          ]
        },
        {
          "output_type": "error",
          "ename": "ValueError",
          "evalue": "ignored",
          "traceback": [
            "\u001b[0;31m---------------------------------------------------------------------------\u001b[0m",
            "\u001b[0;31mValueError\u001b[0m                                Traceback (most recent call last)",
            "\u001b[0;32m<ipython-input-8-d842f9c32d7d>\u001b[0m in \u001b[0;36m<module>\u001b[0;34m()\u001b[0m\n\u001b[0;32m----> 1\u001b[0;31m \u001b[0memp\u001b[0m\u001b[0;34m.\u001b[0m\u001b[0msalary\u001b[0m \u001b[0;34m=\u001b[0m \u001b[0;34m-\u001b[0m\u001b[0;36m1000\u001b[0m\u001b[0;34m\u001b[0m\u001b[0;34m\u001b[0m\u001b[0m\n\u001b[0m",
            "\u001b[0;32m<ipython-input-6-6cbc728fafd8>\u001b[0m in \u001b[0;36msalary\u001b[0;34m(self, new_salary)\u001b[0m\n\u001b[1;32m     13\u001b[0m       \u001b[0mprint\u001b[0m\u001b[0;34m(\u001b[0m\u001b[0;34m\"setter method called\"\u001b[0m\u001b[0;34m)\u001b[0m\u001b[0;34m\u001b[0m\u001b[0;34m\u001b[0m\u001b[0m\n\u001b[1;32m     14\u001b[0m       \u001b[0;32mif\u001b[0m \u001b[0mnew_salary\u001b[0m \u001b[0;34m<\u001b[0m \u001b[0;36m0\u001b[0m\u001b[0;34m:\u001b[0m\u001b[0;34m\u001b[0m\u001b[0;34m\u001b[0m\u001b[0m\n\u001b[0;32m---> 15\u001b[0;31m           \u001b[0;32mraise\u001b[0m \u001b[0mValueError\u001b[0m\u001b[0;34m(\u001b[0m\u001b[0;34m\"Invalid salary\"\u001b[0m\u001b[0;34m)\u001b[0m\u001b[0;34m\u001b[0m\u001b[0;34m\u001b[0m\u001b[0m\n\u001b[0m\u001b[1;32m     16\u001b[0m       \u001b[0mself\u001b[0m\u001b[0;34m.\u001b[0m\u001b[0m_salary\u001b[0m \u001b[0;34m=\u001b[0m \u001b[0mnew_salary\u001b[0m\u001b[0;34m\u001b[0m\u001b[0;34m\u001b[0m\u001b[0m\n\u001b[1;32m     17\u001b[0m \u001b[0;34m\u001b[0m\u001b[0m\n",
            "\u001b[0;31mValueError\u001b[0m: Invalid salary"
          ]
        }
      ]
    },
    {
      "cell_type": "code",
      "source": [
        "del emp.salary"
      ],
      "metadata": {
        "colab": {
          "base_uri": "https://localhost:8080/"
        },
        "id": "ph9cKjHyzHFf",
        "outputId": "0656df71-fb8d-468c-f1ff-c282728457cb"
      },
      "execution_count": 16,
      "outputs": [
        {
          "output_type": "stream",
          "name": "stdout",
          "text": [
            "deleter method called\n"
          ]
        }
      ]
    },
    {
      "cell_type": "markdown",
      "metadata": {
        "id": "X79pwu_qrqPn"
      },
      "source": [
        "# ***Read-only attributes***\n",
        "\n",
        "* Do NOT add **`@ชื่อ_attribute.setter`** decorator\n",
        "\n",
        "# **`@ชื่อ_attribute.getter`**\n",
        "\n",
        "* Use for the method that is called when the property's value is retrieved\n",
        "\n",
        "# **`@ชื่อ_attribute.deleter`**\n",
        "* Use for the method that is called when the property is deleted using del\n",
        "\n",
        "\n",
        "# ***Create and set properties***\n",
        "\n",
        "There are two parts to defining a property:\n",
        "\n",
        "  * first, define an \"internal\" attribute that will contain the data;\n",
        "  * then, define a `@property`-decorated method *whose name is the property name*, and that returns the internal attribute storing the data.\n",
        "\n",
        "If you'd also like to define a custom ***setter*** method, there's an additional step:\n",
        "\n",
        "* define *another* method whose name is exactly the property name (again), and decorate it with **`@prop_name.setter`** where `prop_name` is the name of the property. The method should take two arguments -- **`self`** (as always), and the value that's being assigned to the property.\n",
        "\n",
        "Create a `balance` property for a `Customer` class - a better, more controlled version of the `balance` attribute that you worked with before.\n",
        "\n",
        "1. Create a Customer class with the **`__init__()`** method that:\n",
        "\n",
        "  * takes parameters `name` and `new_bal`,\n",
        "  * assigns `name` to the attribute `name`,\n",
        "  * raises a `ValueError` if `new_bal` is negative,\n",
        "  * otherwise, assigns `new_bal` to the attribute `_balance` (with `_`).\n"
      ]
    },
    {
      "cell_type": "code",
      "source": [
        "class Customer:\n",
        "    \n",
        "    def __init__(self, name, new_bal):\n",
        "        self.name = name\n",
        "        if new_bal < 0:\n",
        "            raise ValueError\n",
        "        else:\n",
        "            self._balance = new_bal"
      ],
      "metadata": {
        "id": "M8OyrHH62zFk"
      },
      "execution_count": null,
      "outputs": []
    },
    {
      "cell_type": "markdown",
      "source": [
        "2. Add a method `balance()` with a **`@property`** decorator that returns the `_balance` attribute."
      ],
      "metadata": {
        "id": "W5AFGY-U208T"
      }
    },
    {
      "cell_type": "code",
      "source": [
        "class Customer:\n",
        "    def __init__(self, name, new_bal):\n",
        "        self.name = name\n",
        "        if new_bal < 0:\n",
        "           raise ValueError(\"Invalid balance!\")\n",
        "        self._balance = new_bal  \n",
        "    \n",
        "    # Add a decorated balance() method returning _balance\n",
        "    @property\n",
        "    def balance(self):\n",
        "        return self._balance"
      ],
      "metadata": {
        "id": "vGow6HD03L6F"
      },
      "execution_count": null,
      "outputs": []
    },
    {
      "cell_type": "markdown",
      "source": [
        "3. Define another `balance()` method to serve as a ***setter***, with the appropriate decorator and an additional parameter:\n",
        "\n",
        "  * Raise a `ValueError` if the parameter is negative,\n",
        "  * otherwise assign it to `_balance` ;\n",
        "  * print \"Setter method is called\"."
      ],
      "metadata": {
        "id": "1ah8xXCi3NcR"
      }
    },
    {
      "cell_type": "code",
      "source": [
        "class Customer:\n",
        "    def __init__(self, name, new_bal):\n",
        "        self.name = name\n",
        "        if new_bal < 0:\n",
        "           raise ValueError(\"Invalid balance!\")\n",
        "        self._balance = new_bal  \n",
        "\n",
        "    # Add a decorated balance() method returning _balance        \n",
        "    @property\n",
        "    def balance(self):\n",
        "        return self._balance\n",
        "     \n",
        "    # Add a setter balance() method\n",
        "    @balance.setter\n",
        "    def balance(self, new_bal):\n",
        "        # Validate the parameter value\n",
        "        if new_bal < 0:\n",
        "            raise ValueError\n",
        "        else:\n",
        "            self._balance = new_bal\n",
        "        # Print \"Setter method is called\"\n",
        "        print(\"Setter method is called\")"
      ],
      "metadata": {
        "id": "2fIOvF888U51"
      },
      "execution_count": null,
      "outputs": []
    },
    {
      "cell_type": "markdown",
      "source": [
        "4. Create a `Customer` named `Belinda Lutz` with the `balance` of `2000` and save it as `cust`.\n",
        "\n",
        "* Use the dot syntax and the `=` to assign `3000` to `cust.balance.`\n",
        "* Print `cust.balance`.\n",
        "\n",
        "*In the console, try assigning -1000 to cust.balance. What happens?*"
      ],
      "metadata": {
        "id": "ERpG6_p28Vve"
      }
    },
    {
      "cell_type": "code",
      "metadata": {
        "colab": {
          "base_uri": "https://localhost:8080/"
        },
        "id": "fwjYXBwSmP99",
        "outputId": "22f6658d-9524-4fc1-c07d-e501bc4503fc"
      },
      "source": [
        "# Create a Customer class\n",
        "class Customer:\n",
        "    def __init__(self, name, new_bal):\n",
        "        self.name = name\n",
        "        if new_bal < 0:\n",
        "            raise ValueError\n",
        "        self._balance = new_bal\n",
        "\n",
        "    # Add a decorated balance() method returning _balance\n",
        "    @property\n",
        "    def balance(self):\n",
        "        return self._balance\n",
        "\n",
        "    # Add a setter balance() method\n",
        "    @balance.setter\n",
        "    def balance(self, new_bal):\n",
        "        # Validate the parameter value\n",
        "        if new_bal < 0:\n",
        "           raise ValueError(\"Invalid balance!\")\n",
        "        self._balance = new_bal\n",
        "        print(\"Setter method called\")\n",
        "\n",
        "    # @balance.getter) that returns a value and gets executed every time the attribute is accessed.\n",
        "    # ต้องมี @property ด้านบนก่อน ไม่งั้น Error\n",
        "    @balance.getter\n",
        "    def balance(self):\n",
        "        print(\"Getter method called\")\n",
        "        return self._balance\n",
        "        \n",
        "\n",
        "# Create a Customer        \n",
        "cust = Customer(\"Belinda Lutz\",2000)\n",
        "\n",
        "# Assign 3000 to the balance property\n",
        "cust.balance = 3000\n",
        "\n",
        "# Print the balance property\n",
        "print(cust.balance)"
      ],
      "execution_count": 19,
      "outputs": [
        {
          "output_type": "stream",
          "name": "stdout",
          "text": [
            "Setter method called\n",
            "Getter method called\n",
            "3000\n"
          ]
        }
      ]
    },
    {
      "cell_type": "code",
      "source": [
        "cust.balance = -1"
      ],
      "metadata": {
        "colab": {
          "base_uri": "https://localhost:8080/",
          "height": 299
        },
        "id": "bl0l0a3p9HGL",
        "outputId": "1347e89c-da2f-4e8a-a3ca-4cbd96a5e472"
      },
      "execution_count": 20,
      "outputs": [
        {
          "output_type": "error",
          "ename": "ValueError",
          "evalue": "ignored",
          "traceback": [
            "\u001b[0;31m---------------------------------------------------------------------------\u001b[0m",
            "\u001b[0;31mValueError\u001b[0m                                Traceback (most recent call last)",
            "\u001b[0;32m<ipython-input-20-0be1859f4608>\u001b[0m in \u001b[0;36m<module>\u001b[0;34m()\u001b[0m\n\u001b[0;32m----> 1\u001b[0;31m \u001b[0mcust\u001b[0m\u001b[0;34m.\u001b[0m\u001b[0mbalance\u001b[0m \u001b[0;34m=\u001b[0m \u001b[0;34m-\u001b[0m\u001b[0;36m1\u001b[0m\u001b[0;34m\u001b[0m\u001b[0;34m\u001b[0m\u001b[0m\n\u001b[0m",
            "\u001b[0;32m<ipython-input-19-55ceab9f6061>\u001b[0m in \u001b[0;36mbalance\u001b[0;34m(self, new_bal)\u001b[0m\n\u001b[1;32m     17\u001b[0m         \u001b[0;31m# Validate the parameter value\u001b[0m\u001b[0;34m\u001b[0m\u001b[0;34m\u001b[0m\u001b[0;34m\u001b[0m\u001b[0m\n\u001b[1;32m     18\u001b[0m         \u001b[0;32mif\u001b[0m \u001b[0mnew_bal\u001b[0m \u001b[0;34m<\u001b[0m \u001b[0;36m0\u001b[0m\u001b[0;34m:\u001b[0m\u001b[0;34m\u001b[0m\u001b[0;34m\u001b[0m\u001b[0m\n\u001b[0;32m---> 19\u001b[0;31m            \u001b[0;32mraise\u001b[0m \u001b[0mValueError\u001b[0m\u001b[0;34m(\u001b[0m\u001b[0;34m\"Invalid balance!\"\u001b[0m\u001b[0;34m)\u001b[0m\u001b[0;34m\u001b[0m\u001b[0;34m\u001b[0m\u001b[0m\n\u001b[0m\u001b[1;32m     20\u001b[0m         \u001b[0mself\u001b[0m\u001b[0;34m.\u001b[0m\u001b[0m_balance\u001b[0m \u001b[0;34m=\u001b[0m \u001b[0mnew_bal\u001b[0m\u001b[0;34m\u001b[0m\u001b[0;34m\u001b[0m\u001b[0m\n\u001b[1;32m     21\u001b[0m         \u001b[0mprint\u001b[0m\u001b[0;34m(\u001b[0m\u001b[0;34m\"Setter method called\"\u001b[0m\u001b[0;34m)\u001b[0m\u001b[0;34m\u001b[0m\u001b[0;34m\u001b[0m\u001b[0m\n",
            "\u001b[0;31mValueError\u001b[0m: Invalid balance!"
          ]
        }
      ]
    },
    {
      "cell_type": "markdown",
      "metadata": {
        "id": "N3nv9nER3HX-"
      },
      "source": [
        "# ***Read-only properties***\n",
        "\n",
        "The `LoggedDF` class above was an extension of the pandas DataFrame class that had an additional `created_at` attribute that stored the timestamp when the DataFrame was created, so that the user could see how out-of-date the data is.\n",
        "\n",
        "But that class wasn't very useful: we could just assign any value to `created_at` after the DataFrame was created, thus defeating the whole point of the attribute! Now, using properties, we can make the attribute read-only.\n",
        "\n",
        "The `LoggedDF` class from Chapter 2 is available for you in the script pane.\n",
        "\n",
        "1. Assign a new value of `'2035-07-13'` to the `created_at` attribute.\n",
        "  * Print the value of `ldf`'s `created_at` attribute to verify that your assignment was successful."
      ]
    },
    {
      "cell_type": "code",
      "metadata": {
        "colab": {
          "base_uri": "https://localhost:8080/"
        },
        "id": "HHZ0D6rsv22G",
        "outputId": "501485d0-7456-421b-bc20-daa3069a4f57"
      },
      "source": [
        "import pandas as pd\n",
        "from datetime import datetime\n",
        "\n",
        "# LoggedDF class definition from Chapter 2\n",
        "class LoggedDF(pd.DataFrame):\n",
        "    def __init__(self, *args, **kwargs):\n",
        "        pd.DataFrame.__init__(self, *args, **kwargs)\n",
        "        self.created_at = datetime.today()\n",
        "\n",
        "    def to_csv(self, *args, **kwargs):\n",
        "        temp = self.copy()\n",
        "        temp[\"created_at\"] = self.created_at\n",
        "        pd.DataFrame.to_csv(temp, *args, **kwargs)   \n",
        "\n",
        "# Instantiate a LoggedDF called ldf\n",
        "ldf = LoggedDF({\"col1\": [1,2], \"col2\":[3,4]}) \n",
        "\n",
        "# Assign a new value to ldf's created_at attribute and print\n",
        "ldf.created_at = '2035-07-13'\n",
        "print(ldf.created_at)"
      ],
      "execution_count": 21,
      "outputs": [
        {
          "output_type": "stream",
          "name": "stdout",
          "text": [
            "2035-07-13\n"
          ]
        }
      ]
    },
    {
      "cell_type": "markdown",
      "source": [
        "2. Create an internal attribute called `_created_at` to turn `created_at` into a read-only attribute.\n",
        "* Modify the class to use the internal attribute, `_created_at`, in place of `created_at`.\n",
        "* What happens when you assign `'2035-07-13'` to `ldf.created_at`?"
      ],
      "metadata": {
        "id": "E0D9-kLN-A1y"
      }
    },
    {
      "cell_type": "code",
      "metadata": {
        "colab": {
          "base_uri": "https://localhost:8080/",
          "height": 451
        },
        "id": "L0R4YA8C3xCs",
        "outputId": "99c3e634-7968-4972-fd64-392e651ee474"
      },
      "source": [
        "import pandas as pd\n",
        "from datetime import datetime\n",
        "\n",
        "# MODIFY the class to use _created_at instead of created_at\n",
        "class LoggedDF(pd.DataFrame):\n",
        "    def __init__(self, *args, **kwargs):\n",
        "        pd.DataFrame.__init__(self, *args, **kwargs)\n",
        "        self._created_at = datetime.today()\n",
        "    \n",
        "    def to_csv(self, *args, **kwargs):\n",
        "        temp = self.copy()\n",
        "        temp[\"created_at\"] = self._created_at\n",
        "        pd.DataFrame.to_csv(temp, *args, **kwargs)   \n",
        "    \n",
        "    # Add a read-only property: _created_at\n",
        "    @property\n",
        "    def created_at(self):\n",
        "        return self._created_at\n",
        "\n",
        "# Instantiate a LoggedDF called ldf\n",
        "ldf = LoggedDF({\"col1\": [1,2], \"col2\":[3,4]}) \n",
        "\n",
        "# Assign a new value to ldf's created_at attribute and print\n",
        "ldf.created_at = \"2035-07-13\""
      ],
      "execution_count": 22,
      "outputs": [
        {
          "output_type": "error",
          "ename": "AttributeError",
          "evalue": "ignored",
          "traceback": [
            "\u001b[0;31m---------------------------------------------------------------------------\u001b[0m",
            "\u001b[0;31mAttributeError\u001b[0m                            Traceback (most recent call last)",
            "\u001b[0;32m/usr/local/lib/python3.7/dist-packages/pandas/core/generic.py\u001b[0m in \u001b[0;36m__setattr__\u001b[0;34m(self, name, value)\u001b[0m\n\u001b[1;32m   5171\u001b[0m                 \u001b[0;32melse\u001b[0m\u001b[0;34m:\u001b[0m\u001b[0;34m\u001b[0m\u001b[0;34m\u001b[0m\u001b[0m\n\u001b[0;32m-> 5172\u001b[0;31m                     \u001b[0mobject\u001b[0m\u001b[0;34m.\u001b[0m\u001b[0m__setattr__\u001b[0m\u001b[0;34m(\u001b[0m\u001b[0mself\u001b[0m\u001b[0;34m,\u001b[0m \u001b[0mname\u001b[0m\u001b[0;34m,\u001b[0m \u001b[0mvalue\u001b[0m\u001b[0;34m)\u001b[0m\u001b[0;34m\u001b[0m\u001b[0;34m\u001b[0m\u001b[0m\n\u001b[0m\u001b[1;32m   5173\u001b[0m             \u001b[0;32mexcept\u001b[0m \u001b[0;34m(\u001b[0m\u001b[0mAttributeError\u001b[0m\u001b[0;34m,\u001b[0m \u001b[0mTypeError\u001b[0m\u001b[0;34m)\u001b[0m\u001b[0;34m:\u001b[0m\u001b[0;34m\u001b[0m\u001b[0;34m\u001b[0m\u001b[0m\n",
            "\u001b[0;31mAttributeError\u001b[0m: can't set attribute",
            "\nDuring handling of the above exception, another exception occurred:\n",
            "\u001b[0;31mAttributeError\u001b[0m                            Traceback (most recent call last)",
            "\u001b[0;32m<ipython-input-22-2e8d1ca21969>\u001b[0m in \u001b[0;36m<module>\u001b[0;34m()\u001b[0m\n\u001b[1;32m     22\u001b[0m \u001b[0;34m\u001b[0m\u001b[0m\n\u001b[1;32m     23\u001b[0m \u001b[0;31m# Assign a new value to ldf's created_at attribute and print\u001b[0m\u001b[0;34m\u001b[0m\u001b[0;34m\u001b[0m\u001b[0;34m\u001b[0m\u001b[0m\n\u001b[0;32m---> 24\u001b[0;31m \u001b[0mldf\u001b[0m\u001b[0;34m.\u001b[0m\u001b[0mcreated_at\u001b[0m \u001b[0;34m=\u001b[0m \u001b[0;34m\"2035-07-13\"\u001b[0m\u001b[0;34m\u001b[0m\u001b[0;34m\u001b[0m\u001b[0m\n\u001b[0m",
            "\u001b[0;32m/usr/local/lib/python3.7/dist-packages/pandas/core/generic.py\u001b[0m in \u001b[0;36m__setattr__\u001b[0;34m(self, name, value)\u001b[0m\n\u001b[1;32m   5180\u001b[0m                         \u001b[0mstacklevel\u001b[0m\u001b[0;34m=\u001b[0m\u001b[0;36m2\u001b[0m\u001b[0;34m,\u001b[0m\u001b[0;34m\u001b[0m\u001b[0;34m\u001b[0m\u001b[0m\n\u001b[1;32m   5181\u001b[0m                     )\n\u001b[0;32m-> 5182\u001b[0;31m                 \u001b[0mobject\u001b[0m\u001b[0;34m.\u001b[0m\u001b[0m__setattr__\u001b[0m\u001b[0;34m(\u001b[0m\u001b[0mself\u001b[0m\u001b[0;34m,\u001b[0m \u001b[0mname\u001b[0m\u001b[0;34m,\u001b[0m \u001b[0mvalue\u001b[0m\u001b[0;34m)\u001b[0m\u001b[0;34m\u001b[0m\u001b[0;34m\u001b[0m\u001b[0m\n\u001b[0m\u001b[1;32m   5183\u001b[0m \u001b[0;34m\u001b[0m\u001b[0m\n\u001b[1;32m   5184\u001b[0m     \u001b[0;32mdef\u001b[0m \u001b[0m_dir_additions\u001b[0m\u001b[0;34m(\u001b[0m\u001b[0mself\u001b[0m\u001b[0;34m)\u001b[0m\u001b[0;34m:\u001b[0m\u001b[0;34m\u001b[0m\u001b[0;34m\u001b[0m\u001b[0m\n",
            "\u001b[0;31mAttributeError\u001b[0m: can't set attribute"
          ]
        }
      ]
    },
    {
      "cell_type": "markdown",
      "metadata": {
        "id": "lRppQwPX4fpa"
      },
      "source": [
        "Notice that the `to_csv()` method in the original class was using the original `created_at` attribute. After converting the attribute into a property, you could replace the call to `self._created_at` with the call to the internal attribute that's attached to the property, or you could keep it as `self.created_at`, in which case you'll now be accessing the property. Either way works!"
      ]
    }
  ]
}